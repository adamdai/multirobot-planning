{
 "cells": [
  {
   "cell_type": "code",
   "execution_count": null,
   "metadata": {},
   "outputs": [],
   "source": [
    "import numpy as np\n",
    "import time\n",
    "import os\n",
    "import matplotlib.pyplot as plt\n",
    "from tqdm import tqdm\n",
    "\n",
    "import multirtd.params as params\n",
    "from multirtd.utils import plot_trajectory\n",
    "from multirtd.planners.dubins_planner import DubinsPlanner\n",
    "from multirtd.dynamics.diff_drive_dynamics import DiffDriveDynamics\n",
    "from multirtd.sensors.position_sensor import PositionSensor\n",
    "from multirtd.controllers.lqr_controller import LQRController\n",
    "from multirtd.estimators.ekf import EKF\n",
    "from multirtd.turtlebot import Turtlebot\n",
    "\n",
    "%load_ext autoreload\n",
    "%autoreload 2"
   ]
  },
  {
   "cell_type": "code",
   "execution_count": null,
   "metadata": {},
   "outputs": [],
   "source": [
    "dynamics = DiffDriveDynamics(sigma=0.01)\n",
    "sensor = PositionSensor(n=2, sigma=0.1)\n",
    "\n",
    "x0 = np.array([0, 0, 0])\n",
    "u = np.array([0.2, 0.1])\n",
    "N = 100\n",
    "x_nom = dynamics.nominal_traj(x0, u, N)\n",
    "u_nom = np.tile(u, (N, 1))\n",
    "\n",
    "# Open-loop trajectory\n",
    "\n",
    "# Plot nominal trajectory\n",
    "fig, ax = plt.subplots(figsize=(6,6))\n",
    "plot_trajectory(ax, x_nom)\n",
    "ax.axis('equal')\n",
    "ax.grid(True)\n",
    "ax.set_xlabel('x')\n",
    "ax.set_ylabel('y')"
   ]
  },
  {
   "cell_type": "code",
   "execution_count": null,
   "metadata": {},
   "outputs": [],
   "source": [
    "controller = LQRController(dynamics)\n",
    "\n",
    "motion_sigma = dynamics.sigma  # Uncertainty in left/right wheel velocities\n",
    "range_sigma = sensor.sigma\n",
    "Q_motion = motion_sigma**2 * np.eye(2)\n",
    "R_sense = range_sigma**2 * np.eye(2)\n",
    "\n",
    "estimator = EKF(dynamics, sensor, Q=Q_motion, R=R_sense)"
   ]
  },
  {
   "cell_type": "code",
   "execution_count": null,
   "metadata": {},
   "outputs": [],
   "source": [
    "#np.random.seed(0)\n",
    "\n",
    "# Test EKF implementation\n",
    "\n",
    "N_MC = 100\n",
    "x_traj_MC = np.zeros((N_MC, N, 3))\n",
    "\n",
    "for k in tqdm(range(N_MC)):\n",
    "    x = np.array([0.0, 0.0, 0.0])\n",
    "    estimator.x_est = x0\n",
    "    estimator.P = 0.1 * np.eye(3)\n",
    "\n",
    "    x_traj = np.zeros((N, 3))\n",
    "    x_traj_est = np.zeros((N, 3))\n",
    "\n",
    "    for i in range(1, N):\n",
    "        # Linearize about nominal trajectory\n",
    "        A, B = dynamics.linearize(x_nom[i], u_nom[i])\n",
    "        C = dynamics.noise_matrix(x_nom[i])\n",
    "        H = sensor.linearize(x_nom[i])\n",
    "\n",
    "        # Control\n",
    "        u = controller.get_control(u_nom[i], x_nom[i], estimator.x_est)\n",
    "        x = dynamics.step(x, u)\n",
    "\n",
    "        # Measurement\n",
    "        z = sensor.get_measurement(x)\n",
    "        \n",
    "        # EKF\n",
    "        estimator.update(u, z)\n",
    "\n",
    "        x_traj[i] = x\n",
    "        x_traj_est[i] = estimator.x_est\n",
    "    \n",
    "    x_traj_MC[k] = x_traj"
   ]
  },
  {
   "cell_type": "code",
   "execution_count": null,
   "metadata": {},
   "outputs": [],
   "source": [
    "# Plot nominal trajectory\n",
    "fig, ax = plt.subplots(figsize=(6,6))\n",
    "\n",
    "for k in range(N_MC):\n",
    "    plot_trajectory(ax, x_traj_MC[k], color='k', linewidth=1, alpha=0.5)\n",
    "\n",
    "plot_trajectory(ax, x_nom, color='g', linestyle='dashed')\n",
    "ax.axis('equal')\n",
    "ax.grid(True)\n",
    "ax.set_xlabel('x')\n",
    "ax.set_ylabel('y')"
   ]
  },
  {
   "cell_type": "code",
   "execution_count": null,
   "metadata": {},
   "outputs": [],
   "source": [
    "turtlebot = Turtlebot(x0=x0, dynamics=dynamics, sensor=sensor, controller=controller, estimator=estimator)\n",
    "turtlebot.estimator.P = 0.1 * np.eye(3)"
   ]
  },
  {
   "cell_type": "code",
   "execution_count": null,
   "metadata": {},
   "outputs": [],
   "source": [
    "turtlebot = Turtlebot(x0=x0)\n",
    "P0 = 1e-4 * np.eye(3)"
   ]
  },
  {
   "cell_type": "code",
   "execution_count": null,
   "metadata": {},
   "outputs": [],
   "source": [
    "x_traj_MC = np.zeros((N_MC, N, 3))\n",
    "\n",
    "for i in tqdm(range(N_MC)):\n",
    "    turtlebot.reset(x0, P0)\n",
    "    turtlebot.clear_history()\n",
    "    turtlebot.track(x_nom, u_nom)\n",
    "    x_traj_MC[i] = np.stack(turtlebot.x_hist)"
   ]
  },
  {
   "cell_type": "code",
   "execution_count": null,
   "metadata": {},
   "outputs": [],
   "source": [
    "turtlebot.estimator.P"
   ]
  },
  {
   "cell_type": "code",
   "execution_count": null,
   "metadata": {},
   "outputs": [],
   "source": [
    "# Plot nominal trajectory\n",
    "fig, ax = plt.subplots(figsize=(6,6))\n",
    "\n",
    "for k in range(N_MC):\n",
    "    plot_trajectory(ax, x_traj_MC[k], color='k', linewidth=1, alpha=0.5)\n",
    "\n",
    "plot_trajectory(ax, x_nom, color='g', linestyle='dashed')\n",
    "ax.axis('equal')\n",
    "ax.grid(True)\n",
    "ax.set_xlabel('x')\n",
    "ax.set_ylabel('y')"
   ]
  },
  {
   "cell_type": "code",
   "execution_count": null,
   "metadata": {},
   "outputs": [],
   "source": [
    "from multirtd.reachability.dubins_reachability import RRBT\n",
    "\n",
    "rrbt = RRBT(x_nom, u_nom, 1e-4*np.eye(3), N*[Q_motion], N*[R_sense], turtlebot)"
   ]
  },
  {
   "cell_type": "code",
   "execution_count": null,
   "metadata": {},
   "outputs": [],
   "source": [
    "from multirtd.utils import plot_ellipse\n",
    "\n",
    "fig, ax = plt.subplots(figsize=(6, 6))\n",
    "\n",
    "for i, e in enumerate(rrbt):\n",
    "    plot_ellipse(ax, x_nom[i], e[:2,:2])\n",
    "\n",
    "ax.set_xlim(0.0, 2.0)\n",
    "ax.set_ylim(-0.5, 1.5)\n",
    "plt.show()"
   ]
  },
  {
   "cell_type": "code",
   "execution_count": null,
   "metadata": {},
   "outputs": [],
   "source": []
  }
 ],
 "metadata": {
  "kernelspec": {
   "display_name": "multirtd",
   "language": "python",
   "name": "python3"
  },
  "language_info": {
   "codemirror_mode": {
    "name": "ipython",
    "version": 3
   },
   "file_extension": ".py",
   "mimetype": "text/x-python",
   "name": "python",
   "nbconvert_exporter": "python",
   "pygments_lexer": "ipython3",
   "version": "3.9.16"
  },
  "orig_nbformat": 4
 },
 "nbformat": 4,
 "nbformat_minor": 2
}
