{
 "cells": [
  {
   "cell_type": "code",
   "execution_count": 2,
   "metadata": {},
   "outputs": [],
   "source": [
    "import numpy as np\n",
    "import time\n",
    "import os\n",
    "import matplotlib.pyplot as plt\n",
    "\n",
    "from multirtd.simple_planner import Simple_Planner\n",
    "import multirtd.params as params"
   ]
  },
  {
   "cell_type": "code",
   "execution_count": 26,
   "metadata": {},
   "outputs": [],
   "source": [
    "# Initialize planner\n",
    "p_0 = np.array([[-5], [0]]) # This sets where the robot starts\n",
    "LPM_file = os.path.join(os.getcwd(),'..', 'models', 'quadrotor_linear_planning_model.mat')\n",
    "planner = Simple_Planner(LPM_file, p_0)"
   ]
  },
  {
   "cell_type": "code",
   "execution_count": 27,
   "metadata": {},
   "outputs": [],
   "source": [
    "# Lets add another instance\n",
    "p_02 = np.array([[-5], [-2]]) # This sets where the robot starts\n",
    "LPM_file = os.path.join(os.getcwd(),'..', 'models', 'quadrotor_linear_planning_model.mat')\n",
    "planner2 = Simple_Planner(LPM_file, p_02)"
   ]
  },
  {
   "cell_type": "code",
   "execution_count": 37,
   "metadata": {},
   "outputs": [],
   "source": [
    "# Set planner goal and obstacles\n",
    "planner.p_goal = np.array([[5], [0]]) # This sets the goal position\n",
    "# (center, radius) tuples\n",
    "static = [(np.array([3, 1]), 1),\n",
    "          (np.array([0, -1.5]), 1),\n",
    "          (np.array([-3, 1]), 1),\n",
    "          (np.array([-3, -3]), 1)]\n",
    "planner.obstacles = static"
   ]
  },
  {
   "cell_type": "code",
   "execution_count": 38,
   "metadata": {},
   "outputs": [],
   "source": [
    "# Other instance\n",
    "planner2.p_goal = np.array([[5], [-.5]]) # This sets the goal position\n",
    "# (center, radius) tuples\n",
    "planner2.obstacles = static"
   ]
  },
  {
   "cell_type": "code",
   "execution_count": 39,
   "metadata": {},
   "outputs": [
    {
     "data": {
      "image/png": "[encoded data removed]",
      "text/plain": [
       "<Figure size 864x432 with 1 Axes>"
      ]
     },
     "metadata": {
      "needs_background": "light"
     },
     "output_type": "display_data"
    }
   ],
   "source": [
    "# Visualize setup\n",
    "fig, ax = plt.subplots(figsize=(12,6))\n",
    "ax.set_xlim((-6, 6))\n",
    "ax.set_ylim((-3, 3))\n",
    "ax.grid()\n",
    "\n",
    "#ax.scatter(p_0[0], p_0[1], s=50, marker='^', color='b')\n",
    "ax.add_patch(plt.Circle(tuple(p_0), params.R_BOT, color='b'))\n",
    "ax.scatter(planner.p_goal[0], planner.p_goal[1], s=100, marker='*', color='g')\n",
    "\n",
    "# Other instance\n",
    "ax.add_patch(plt.Circle(tuple(p_02), params.R_BOT, color='b'))\n",
    "ax.scatter(planner2.p_goal[0], planner2.p_goal[1], s=100, marker='*', color='g')\n",
    "\n",
    "plt_obs = []\n",
    "for obs in planner.obstacles:\n",
    "    ax.add_patch(plt.Circle(tuple(obs[0]), obs[1], color='r'))\n",
    "\n",
    "plt.show()"
   ]
  },
  {
   "cell_type": "code",
   "execution_count": 40,
   "metadata": {},
   "outputs": [
    {
     "name": "stdout",
     "output_type": "stream",
     "text": [
      "Replanning: t_sim =  0\n",
      "Replanning: t_sim =  5\n",
      "Replanning: t_sim =  10\n",
      "Replanning: t_sim =  15\n",
      "Replanning: t_sim =  20\n",
      "Replanning: t_sim =  25\n",
      "Replanning: t_sim =  30\n",
      "Replanning: t_sim =  35\n",
      "Replanning: t_sim =  40\n",
      "Replanning: t_sim =  45\n",
      "Replanning: t_sim =  50\n",
      "Replanning: t_sim =  55\n",
      "Replanning: t_sim =  60\n",
      "Replanning: t_sim =  65\n",
      "Replanning: t_sim =  70\n",
      "Replanning: t_sim =  75\n",
      "Replanning: t_sim =  80\n",
      "Replanning: t_sim =  85\n",
      "Replanning: t_sim =  90\n",
      "Replanning: t_sim =  95\n",
      "Replanning: t_sim =  100\n",
      "Goal reached\n",
      "Average planning time:  0.019904477255684987  seconds\n"
     ]
    }
   ],
   "source": [
    "# \"Controller\" loop frequency \n",
    "# Determined by trajectory discretization\n",
    "# Currently the controller just pops off setpoints from the planner trajectories to save for plotting\n",
    "controller_hz = 10  # 0.1 s\n",
    "\n",
    "# Planner loop frequency\n",
    "# Determines time between replans\n",
    "planner_hz = 2  # 0.5 s\n",
    "\n",
    "t_sim = 0  # counter for simulation time\n",
    "trajectory = None\n",
    "traj_idx = 0\n",
    "done = False\n",
    "\n",
    "# Initialize state\n",
    "p = p_0\n",
    "v = np.zeros((2,1))\n",
    "a = np.zeros((2,1))\n",
    "# State history\n",
    "P = []\n",
    "planning_times = []\n",
    "\n",
    "while not done:\n",
    "\n",
    "    # Planner\n",
    "    if t_sim % int(controller_hz/planner_hz) == 0:\n",
    "        # Replan\n",
    "        print(\"Replanning: t_sim = \", t_sim)\n",
    "        start_t = time.time()\n",
    "        trajectory = planner.replan((p,v,a))\n",
    "        planning_times.append(time.time() - start_t)\n",
    "        traj_idx = 0\n",
    "\n",
    "    # Controller\n",
    "    # Pop off next setpoint\n",
    "    p = trajectory[0][:,traj_idx][:,None]\n",
    "    v = trajectory[1][:,traj_idx][:,None]\n",
    "    a = trajectory[2][:,traj_idx][:,None]\n",
    "    P.append(p)\n",
    "    traj_idx += 1\n",
    "\n",
    "    if np.linalg.norm(p - planner.p_goal) < params.R_GOAL_REACHED:\n",
    "        print(\"Goal reached\")\n",
    "        done = True\n",
    "\n",
    "    t_sim += 1\n",
    "\n",
    "P = np.hstack(P)\n",
    "print(\"Average planning time: \", np.mean(planning_times), \" seconds\")"
   ]
  },
  {
   "cell_type": "code",
   "execution_count": 41,
   "metadata": {},
   "outputs": [
    {
     "name": "stdout",
     "output_type": "stream",
     "text": [
      "Replanning: t_sim =  0\n",
      "Replanning: t_sim =  5\n",
      "Replanning: t_sim =  10\n",
      "Replanning: t_sim =  15\n",
      "Replanning: t_sim =  20\n",
      "Replanning: t_sim =  25\n",
      "Replanning: t_sim =  30\n",
      "Replanning: t_sim =  35\n",
      "Replanning: t_sim =  40\n",
      "Replanning: t_sim =  45\n",
      "Replanning: t_sim =  50\n",
      "Replanning: t_sim =  55\n",
      "Replanning: t_sim =  60\n",
      "Replanning: t_sim =  65\n",
      "Replanning: t_sim =  70\n",
      "Replanning: t_sim =  75\n",
      "Replanning: t_sim =  80\n",
      "Replanning: t_sim =  85\n",
      "Replanning: t_sim =  90\n",
      "Replanning: t_sim =  95\n",
      "Goal reached\n",
      "Average planning time:  0.008951306343078613  seconds\n"
     ]
    }
   ],
   "source": [
    "# Other instance\n",
    "\n",
    "# \"Controller\" loop frequency \n",
    "# Determined by trajectory discretization\n",
    "# Currently the controller just pops off setpoints from the planner trajectories to save for plotting\n",
    "controller_hz = 10  # 0.1 s\n",
    "\n",
    "# Planner loop frequency\n",
    "# Determines time between replans\n",
    "planner_hz = 2  # 0.5 s\n",
    "\n",
    "t_sim = 0  # counter for simulation time\n",
    "trajectory = None\n",
    "traj_idx = 0\n",
    "done = False\n",
    "\n",
    "# Initialize state\n",
    "p = p_02\n",
    "v = np.zeros((2,1))\n",
    "a = np.zeros((2,1))\n",
    "# State history\n",
    "P2 = []\n",
    "planning_times = []\n",
    "\n",
    "while not done:\n",
    "\n",
    "    # Planner\n",
    "    if t_sim % int(controller_hz/planner_hz) == 0:\n",
    "        # Replan\n",
    "        print(\"Replanning: t_sim = \", t_sim)\n",
    "        start_t = time.time()\n",
    "        trajectory = planner2.replan((p,v,a))\n",
    "        planning_times.append(time.time() - start_t)\n",
    "        traj_idx = 0\n",
    "\n",
    "    # Controller\n",
    "    # Pop off next setpoint\n",
    "    p = trajectory[0][:,traj_idx][:,None]\n",
    "    v = trajectory[1][:,traj_idx][:,None]\n",
    "    a = trajectory[2][:,traj_idx][:,None]\n",
    "    P2.append(p)\n",
    "    traj_idx += 1\n",
    "\n",
    "    if np.linalg.norm(p - planner2.p_goal) < params.R_GOAL_REACHED:\n",
    "        print(\"Goal reached\")\n",
    "        done = True\n",
    "\n",
    "    t_sim += 1\n",
    "\n",
    "P2 = np.hstack(P2)\n",
    "print(\"Average planning time: \", np.mean(planning_times), \" seconds\")"
   ]
  },
  {
   "cell_type": "code",
   "execution_count": 42,
   "metadata": {},
   "outputs": [
    {
     "data": {
      "image/png": "[encoded data removed]",
      "text/plain": [
       "<Figure size 864x432 with 1 Axes>"
      ]
     },
     "metadata": {
      "needs_background": "light"
     },
     "output_type": "display_data"
    }
   ],
   "source": [
    "# Visualize setup\n",
    "fig, ax = plt.subplots(figsize=(12,6))\n",
    "ax.set_xlim((-6, 6))\n",
    "ax.set_ylim((-3, 3))\n",
    "ax.grid()\n",
    "\n",
    "ax.add_patch(plt.Circle(tuple(p_0), params.R_BOT, color='b'))\n",
    "ax.scatter(planner.p_goal[0], planner.p_goal[1], s=100, marker='*', color='g')\n",
    "\n",
    "# Other instance\n",
    "ax.add_patch(plt.Circle(tuple(p_02), params.R_BOT, color='b'))\n",
    "ax.scatter(planner2.p_goal[0], planner2.p_goal[1], s=100, marker='*', color='g')\n",
    "\n",
    "plt_obs = []\n",
    "for obs in planner.obstacles:\n",
    "    ax.add_patch(plt.Circle(tuple(obs[0]), obs[1], color='r'))\n",
    "\n",
    "# Plot trajectory\n",
    "ax.scatter(P[0,:], P[1,:], s=10, marker='o', color='b')\n",
    "\n",
    "# Other instance\n",
    "ax.scatter(P2[0,:], P2[1,:], s=10, marker='o', color='b')\n",
    "\n",
    "plt.show()"
   ]
  },
  {
   "cell_type": "code",
   "execution_count": 50,
   "metadata": {},
   "outputs": [
    {
     "name": "stdout",
     "output_type": "stream",
     "text": [
      "Replanning: t_sim =  0\n",
      "Replanning: t_sim =  5\n",
      "Replanning: t_sim =  10\n",
      "Replanning: t_sim =  15\n",
      "Replanning: t_sim =  20\n",
      "Replanning: t_sim =  25\n",
      "Replanning: t_sim =  30\n",
      "Ran out of time for planning, idx =  3914\n",
      "Replanning: t_sim =  35\n",
      "Ran out of time for planning, idx =  3969\n",
      "Replanning: t_sim =  40\n",
      "Ran out of time for planning, idx =  4160\n",
      "Replanning: t_sim =  45\n",
      "Ran out of time for planning, idx =  3998\n",
      "Replanning: t_sim =  50\n",
      "Replanning: t_sim =  55\n",
      "Replanning: t_sim =  60\n",
      "Replanning: t_sim =  65\n",
      "Replanning: t_sim =  70\n",
      "Replanning: t_sim =  75\n",
      "Replanning: t_sim =  80\n",
      "Replanning: t_sim =  85\n",
      "Replanning: t_sim =  90\n",
      "Replanning: t_sim =  95\n",
      "Replanning: t_sim =  100\n",
      "Goal reached\n",
      "Average planning time:  0.1330478759039016  seconds\n"
     ]
    }
   ],
   "source": [
    "# Fixing this so they don't collide.\n",
    "\n",
    "# \"Controller\" loop frequency \n",
    "# Determined by trajectory discretization\n",
    "# Currently the controller just pops off setpoints from the planner trajectories to save for plotting\n",
    "controller_hz = 10  # 0.1 s\n",
    "\n",
    "# Planner loop frequency\n",
    "# Determines time between replans\n",
    "planner_hz = 2  # 0.5 s\n",
    "\n",
    "t_sim = 0  # counter for simulation time\n",
    "trajectory = None\n",
    "traj_idx = 0\n",
    "done = False\n",
    "trajectory2 = None\n",
    "\n",
    "# Initialize state\n",
    "p = p_0\n",
    "v = np.zeros((2,1))\n",
    "a = np.zeros((2,1))\n",
    "p2 = p_02\n",
    "v2 = np.zeros((2,1))\n",
    "a2 = np.zeros((2,1))\n",
    "# State history\n",
    "P = []\n",
    "planning_times = []\n",
    "P2 = []\n",
    "\n",
    "while not done:\n",
    "\n",
    "    # Planner\n",
    "    if t_sim % int(controller_hz/planner_hz) == 0:\n",
    "        # Replan\n",
    "        print(\"Replanning: t_sim = \", t_sim)\n",
    "        start_t = time.time()\n",
    "        trajectory = planner.replan((p,v,a))\n",
    "        if trajectory!=None:\n",
    "            planner2.obstacles = static.copy() + [(trajectory[0][:,0],params.R_BOT),(trajectory[0][:,1],params.R_BOT),(trajectory[0][:,2],params.R_BOT)]\n",
    "        trajectory2 = planner2.replan((p2,v2,a2))\n",
    "        if trajectory2!=None:\n",
    "            planner.obstacles = static.copy() + [(trajectory2[0][:,0],params.R_BOT),(trajectory2[0][:,1],params.R_BOT),(trajectory2[0][:,2],params.R_BOT)]\n",
    "        planning_times.append(time.time() - start_t)\n",
    "        traj_idx = 0\n",
    "\n",
    "    # Controller\n",
    "    # Pop off next setpoint\n",
    "    if trajectory!=None:\n",
    "        p = trajectory[0][:,traj_idx][:,None]\n",
    "        v = trajectory[1][:,traj_idx][:,None]\n",
    "        a = trajectory[2][:,traj_idx][:,None]\n",
    "    P.append(p)\n",
    "    # Other instance\n",
    "    if trajectory2!=None:\n",
    "        p2 = trajectory2[0][:,traj_idx][:,None]\n",
    "        v2 = trajectory2[1][:,traj_idx][:,None]\n",
    "        a2 = trajectory2[2][:,traj_idx][:,None]\n",
    "    P2.append(p2)\n",
    "    traj_idx += 1\n",
    "\n",
    "    if np.linalg.norm(p - planner.p_goal) < params.R_GOAL_REACHED:\n",
    "        print(\"Goal reached\")\n",
    "        done = True\n",
    "\n",
    "    t_sim += 1\n",
    "\n",
    "P = np.hstack(P)\n",
    "P2 = np.hstack(P2)\n",
    "print(\"Average planning time: \", np.mean(planning_times), \" seconds\")"
   ]
  },
  {
   "cell_type": "code",
   "execution_count": 51,
   "metadata": {},
   "outputs": [
    {
     "data": {
      "image/png": "[encoded data removed]",
      "text/plain": [
       "<Figure size 864x432 with 1 Axes>"
      ]
     },
     "metadata": {
      "needs_background": "light"
     },
     "output_type": "display_data"
    }
   ],
   "source": [
    "# Visualize setup\n",
    "fig, ax = plt.subplots(figsize=(12,6))\n",
    "ax.set_xlim((-6, 6))\n",
    "ax.set_ylim((-3, 3))\n",
    "ax.grid()\n",
    "\n",
    "ax.add_patch(plt.Circle(tuple(p_0), params.R_BOT, color='b'))\n",
    "ax.scatter(planner.p_goal[0], planner.p_goal[1], s=100, marker='*', color='g')\n",
    "\n",
    "# Other instance\n",
    "ax.add_patch(plt.Circle(tuple(p_02), params.R_BOT, color='b'))\n",
    "ax.scatter(planner2.p_goal[0], planner2.p_goal[1], s=100, marker='*', color='g')\n",
    "\n",
    "plt_obs = []\n",
    "for obs in static:\n",
    "    ax.add_patch(plt.Circle(tuple(obs[0]), obs[1], color='r'))\n",
    "\n",
    "# Plot trajectory\n",
    "ax.scatter(P[0,:], P[1,:], s=10, marker='o', color='b')\n",
    "\n",
    "# Other instance\n",
    "ax.scatter(P2[0,:], P2[1,:], s=10, marker='o', color='b')\n",
    "\n",
    "plt.show()"
   ]
  },
  {
   "cell_type": "code",
   "execution_count": 19,
   "metadata": {},
   "outputs": [
    {
     "data": {
      "text/plain": [
       "(array([[-2.47507015, -2.33083139, -2.182992  , -2.03127187, -1.87547362,\n",
       "         -1.71548262, -1.55126698, -1.38287753, -1.21044784, -1.03419424,\n",
       "         -0.85441576, -0.67149419, -0.48589406, -0.29816263, -0.10892989,\n",
       "          0.08109143,  0.2704318 ,  0.45509571,  0.63102646,  0.79484349,\n",
       "          0.94384233,  1.07599464,  1.18994819,  1.28502686,  1.36123066,\n",
       "          1.41923569,  1.46039419,  1.4867345 ,  1.50096109,  1.50645452,\n",
       "          1.5072715 ],\n",
       "        [-0.47630972, -0.47895573, -0.47578203, -0.46685433, -0.45229225,\n",
       "         -0.43226929, -0.40701284, -0.37680419, -0.34197852, -0.3029249 ,\n",
       "         -0.26008629, -0.21395954, -0.16509539, -0.11409848, -0.06162733,\n",
       "         -0.00839436,  0.04473931,  0.09656064,  0.14593123,  0.19190241,\n",
       "          0.23371523,  0.27080049,  0.30277872,  0.32946018,  0.35084488,\n",
       "          0.36712255,  0.37867266,  0.38606442,  0.39005675,  0.39159835,\n",
       "          0.39182761]]),\n",
       " array([[ 1.42552495,  1.45985495,  1.49739972,  1.5373319 ,  1.57882411,\n",
       "          1.62104898,  1.66317916,  1.70438726,  1.74384593,  1.78072779,\n",
       "          1.81420548,  1.84345162,  1.86763886,  1.88593982,  1.89752713,\n",
       "          1.90157342,  1.87734597,  1.80917104,  1.70380979,  1.56802336,\n",
       "          1.40857291,  1.23221958,  1.04572453,  0.8558489 ,  0.66935385,\n",
       "          0.49300052,  0.33355006,  0.19776364,  0.09240238,  0.02422745,\n",
       "          0.        ],\n",
       "        [-0.05564303,  0.00270309,  0.06066146,  0.11769317,  0.1732593 ,\n",
       "          0.22682095,  0.27783919,  0.32577511,  0.3700898 ,  0.41024434,\n",
       "          0.44569983,  0.47591733,  0.50035794,  0.51848275,  0.52975284,\n",
       "          0.5336293 ,  0.52683046,  0.50769887,  0.47813185,  0.44002677,\n",
       "          0.39528096,  0.34579178,  0.29345659,  0.24017271,  0.18783751,\n",
       "          0.13834834,  0.09360253,  0.05549745,  0.02593043,  0.00679883,\n",
       "          0.        ]]),\n",
       " array([[ 0.32446825,  0.3607528 ,  0.38876367,  0.40850086,  0.41996437,\n",
       "          0.4231542 ,  0.41807034,  0.40471281,  0.38308159,  0.35317669,\n",
       "          0.31499811,  0.26854585,  0.21381991,  0.15082029,  0.07954699,\n",
       "          0.        , -0.4732805 , -0.87894949, -1.21700699, -1.48745299,\n",
       "         -1.69028749, -1.82551049, -1.89312199, -1.89312199, -1.82551049,\n",
       "         -1.69028749, -1.48745299, -1.21700699, -0.87894949, -0.4732805 ,\n",
       "          0.        ],\n",
       "        [ 0.58360352,  0.58242063,  0.5758486 ,  0.56388742,  0.54653709,\n",
       "          0.52379763,  0.49566901,  0.46215126,  0.42324435,  0.37894831,\n",
       "          0.32926312,  0.27418878,  0.2137253 ,  0.14787268,  0.07663091,\n",
       "          0.        , -0.1328144 , -0.24665532, -0.34152275, -0.41741669,\n",
       "         -0.47433715, -0.51228413, -0.53125761, -0.53125761, -0.51228413,\n",
       "         -0.47433715, -0.41741669, -0.34152275, -0.24665532, -0.1328144 ,\n",
       "          0.        ]]))"
      ]
     },
     "execution_count": 19,
     "metadata": {},
     "output_type": "execute_result"
    }
   ],
   "source": [
    "trajectory"
   ]
  },
  {
   "cell_type": "code",
   "execution_count": 36,
   "metadata": {},
   "outputs": [
    {
     "data": {
      "text/plain": [
       "NoneType"
      ]
     },
     "execution_count": 36,
     "metadata": {},
     "output_type": "execute_result"
    }
   ],
   "source": [
    "type(trajectory)"
   ]
  },
  {
   "cell_type": "code",
   "execution_count": 32,
   "metadata": {},
   "outputs": [
    {
     "data": {
      "text/plain": [
       "[(array([3, 1]), 1),\n",
       " (array([ 0. , -1.5]), 1),\n",
       " (array([-3,  1]), 1),\n",
       " (array([-3, -3]), 1),\n",
       " (array([ 4.68448089, -1.84441833]), 0.2)]"
      ]
     },
     "execution_count": 32,
     "metadata": {},
     "output_type": "execute_result"
    }
   ],
   "source": [
    "static.copy() + [(trajectory[0][:,0],params.R_BOT)]"
   ]
  },
  {
   "cell_type": "code",
   "execution_count": 33,
   "metadata": {},
   "outputs": [
    {
     "data": {
      "text/plain": [
       "[(array([3, 1]), 1),\n",
       " (array([ 0. , -1.5]), 1),\n",
       " (array([-3,  1]), 1),\n",
       " (array([-3, -3]), 1)]"
      ]
     },
     "execution_count": 33,
     "metadata": {},
     "output_type": "execute_result"
    }
   ],
   "source": [
    "static"
   ]
  },
  {
   "cell_type": "code",
   "execution_count": null,
   "metadata": {},
   "outputs": [],
   "source": []
  }
 ],
 "metadata": {
  "interpreter": {
   "hash": "6544a4f6c4c81bb627ffe33e2e2069de7ceab5a334b7c2380b1b0001fbb739c2"
  },
  "kernelspec": {
   "display_name": "Python [conda env:multirtd]",
   "language": "python",
   "name": "conda-env-multirtd-py"
  },
  "language_info": {
   "codemirror_mode": {
    "name": "ipython",
    "version": 3
   },
   "file_extension": ".py",
   "mimetype": "text/x-python",
   "name": "python",
   "nbconvert_exporter": "python",
   "pygments_lexer": "ipython3",
   "version": "3.10.4"
  },
  "latex_envs": {
   "LaTeX_envs_menu_present": true,
   "autoclose": false,
   "autocomplete": true,
   "bibliofile": "biblio.bib",
   "cite_by": "apalike",
   "current_citInitial": 1,
   "eqLabelWithNumbers": true,
   "eqNumInitial": 1,
   "hotkeys": {
    "equation": "Ctrl-E",
    "itemize": "Ctrl-I"
   },
   "labels_anchors": false,
   "latex_user_defs": false,
   "report_style_numbering": false,
   "user_envs_cfg": false
  }
 },
 "nbformat": 4,
 "nbformat_minor": 2
}
