{
 "cells": [
  {
   "cell_type": "markdown",
   "metadata": {
    "heading_collapsed": true
   },
   "source": [
    "# Initial Imports"
   ]
  },
  {
   "cell_type": "code",
   "execution_count": 18,
   "metadata": {
    "hidden": true
   },
   "outputs": [
    {
     "name": "stdout",
     "output_type": "stream",
     "text": [
      "The autoreload extension is already loaded. To reload it, use:\n",
      "  %reload_ext autoreload\n"
     ]
    }
   ],
   "source": [
    "import numpy as np\n",
    "import time\n",
    "import os\n",
    "import matplotlib.pyplot as plt\n",
    "\n",
    "from multirtd.planners.RTD_planner import RTD_Planner\n",
    "from multirtd.reachability.zonotope import Zonotope\n",
    "import multirtd.params as params\n",
    "from multirtd.reachability import compute_FRS\n",
    "from multirtd.dynamics.LPM import LPM\n",
    "\n",
    "%load_ext autoreload\n",
    "%autoreload 2"
   ]
  },
  {
   "cell_type": "markdown",
   "metadata": {
    "heading_collapsed": true
   },
   "source": [
    "# One Planner"
   ]
  },
  {
   "cell_type": "code",
   "execution_count": 43,
   "metadata": {
    "hidden": true
   },
   "outputs": [],
   "source": [
    "# Initialize planner\n",
    "p_0 = np.array([[-5], [0]])\n",
    "LPM_file = os.path.join(os.getcwd(),'..', 'models', 'quadrotor_linear_planning_model.mat')\n",
    "planner = RTD_Planner(LPM_file, p_0)"
   ]
  },
  {
   "cell_type": "code",
   "execution_count": 44,
   "metadata": {
    "hidden": true
   },
   "outputs": [],
   "source": [
    "# Set planner goal and obstacles\n",
    "planner.p_goal = np.array([[5], [0]])\n",
    "# (center, radius) tuples\n",
    "planner.obstacles = [Zonotope(np.array([2.5, 1.5])[:,None], 0.5*np.array([[1, 1], [1, -1]])),\n",
    "                     Zonotope(np.array([0, -1.5])[:,None], 0.5*np.array([[1, 1], [1, -1]])),\n",
    "                     Zonotope(np.array([-2.5, 1.5])[:,None], 0.5*np.array([[1, 1], [1, -1]]))]"
   ]
  },
  {
   "cell_type": "code",
   "execution_count": 45,
   "metadata": {
    "hidden": true
   },
   "outputs": [
    {
     "data": {
      "image/png": "[encoded data removed]",
      "text/plain": [
       "<Figure size 864x432 with 1 Axes>"
      ]
     },
     "metadata": {
      "needs_background": "light"
     },
     "output_type": "display_data"
    }
   ],
   "source": [
    "# Visualize setup\n",
    "fig, ax = plt.subplots(figsize=(12,6))\n",
    "ax.set_xlim((-6, 6))\n",
    "ax.set_ylim((-3, 3))\n",
    "ax.grid()\n",
    "\n",
    "#ax.scatter(p_0[0], p_0[1], s=50, marker='^', color='b')\n",
    "ax.add_patch(plt.Circle(tuple(p_0), params.R_BOT, color='b'))\n",
    "ax.scatter(planner.p_goal[0], planner.p_goal[1], s=100, marker='*', color='g')\n",
    "\n",
    "for obs in planner.obstacles:\n",
    "    obs.plot(ax, color='r')\n",
    "\n",
    "plt.show()"
   ]
  },
  {
   "cell_type": "code",
   "execution_count": 46,
   "metadata": {
    "hidden": true
   },
   "outputs": [
    {
     "name": "stdout",
     "output_type": "stream",
     "text": [
      "Replanning: t_sim =  0\n",
      "Replanning: t_sim =  5\n",
      "Replanning: t_sim =  10\n",
      "Replanning: t_sim =  15\n",
      "Replanning: t_sim =  20\n",
      "Replanning: t_sim =  25\n",
      "Replanning: t_sim =  30\n",
      "Replanning: t_sim =  35\n",
      "Replanning: t_sim =  40\n",
      "Replanning: t_sim =  45\n",
      "Replanning: t_sim =  50\n",
      "Replanning: t_sim =  55\n",
      "Replanning: t_sim =  60\n",
      "Replanning: t_sim =  65\n",
      "Replanning: t_sim =  70\n",
      "Replanning: t_sim =  75\n",
      "Replanning: t_sim =  80\n",
      "Replanning: t_sim =  85\n",
      "Replanning: t_sim =  90\n",
      "Replanning: t_sim =  95\n",
      "Replanning: t_sim =  100\n",
      "Replanning: t_sim =  105\n",
      "Replanning: t_sim =  110\n",
      "Goal reached\n",
      "Average planning time:  0.047349349312160324  seconds\n"
     ]
    }
   ],
   "source": [
    "# \"Controller\" loop frequency \n",
    "# Determined by trajectory discretization\n",
    "# Currently the controller just pops off setpoints from the planner trajectories to save for plotting\n",
    "controller_hz = 10  # 0.1 s\n",
    "\n",
    "# Planner loop frequency\n",
    "# Determines time between replans\n",
    "planner_hz = 2  # 0.5 s\n",
    "\n",
    "t_sim = 0  # counter for simulation time\n",
    "trajectory = None\n",
    "traj_idx = 0\n",
    "done = False\n",
    "\n",
    "# Initialize state\n",
    "p = p_0\n",
    "v = np.zeros((2,1))\n",
    "a = np.zeros((2,1))\n",
    "# State history\n",
    "P = []\n",
    "planning_times = []\n",
    "FRS = []\n",
    "\n",
    "while not done:\n",
    "\n",
    "    # Planner\n",
    "    if t_sim % int(controller_hz/planner_hz) == 0:\n",
    "        # Replan\n",
    "        print(\"Replanning: t_sim = \", t_sim)\n",
    "        start_t = time.time()\n",
    "        trajectory = planner.replan((p,v,a))\n",
    "        planning_times.append(time.time() - start_t)\n",
    "        traj_idx = 0\n",
    "\n",
    "    # Controller\n",
    "    # Pop off next setpoint\n",
    "    p = trajectory[0][:,traj_idx][:,None]\n",
    "    v = trajectory[1][:,traj_idx][:,None]\n",
    "    a = trajectory[2][:,traj_idx][:,None]\n",
    "    P.append(p)\n",
    "    traj_idx += 1\n",
    "\n",
    "    FRS.append(trajectory[3][traj_idx])\n",
    "\n",
    "    if np.linalg.norm(p - planner.p_goal) < params.R_GOAL_REACHED:\n",
    "        print(\"Goal reached\")\n",
    "        done = True\n",
    "\n",
    "    t_sim += 1\n",
    "\n",
    "P = np.hstack(P)\n",
    "print(\"Average planning time: \", np.mean(planning_times), \" seconds\")"
   ]
  },
  {
   "cell_type": "code",
   "execution_count": 47,
   "metadata": {
    "hidden": true
   },
   "outputs": [
    {
     "data": {
      "image/png": "[encoded data removed]",
      "text/plain": [
       "<Figure size 864x432 with 1 Axes>"
      ]
     },
     "metadata": {
      "needs_background": "light"
     },
     "output_type": "display_data"
    }
   ],
   "source": [
    "# Visualize setup\n",
    "fig, ax = plt.subplots(figsize=(12,6))\n",
    "ax.set_xlim((-6, 6))\n",
    "ax.set_ylim((-3, 3))\n",
    "ax.grid()\n",
    "\n",
    "ax.add_patch(plt.Circle(tuple(p_0), params.R_BOT, color='b'))\n",
    "ax.scatter(planner.p_goal[0], planner.p_goal[1], s=100, marker='*', color='g')\n",
    "\n",
    "for obs in planner.obstacles:\n",
    "    obs.plot(ax, color='r')\n",
    "\n",
    "# Plot trajectory\n",
    "ax.scatter(P[0,:], P[1,:], s=10, marker='o', color='b')\n",
    "\n",
    "for z in FRS:\n",
    "    z.view([0,1]).plot(ax, alpha=0.01)\n",
    "\n",
    "plt.show()"
   ]
  },
  {
   "cell_type": "code",
   "execution_count": 49,
   "metadata": {
    "hidden": true
   },
   "outputs": [
    {
     "data": {
      "text/plain": [
       "(2, 115)"
      ]
     },
     "execution_count": 49,
     "metadata": {},
     "output_type": "execute_result"
    }
   ],
   "source": [
    "P.shape"
   ]
  },
  {
   "cell_type": "markdown",
   "metadata": {
    "heading_collapsed": true
   },
   "source": [
    "# Swarm"
   ]
  },
  {
   "cell_type": "code",
   "execution_count": 2,
   "metadata": {
    "hidden": true
   },
   "outputs": [],
   "source": [
    "# Initialize planners\n",
    "n = 4\n",
    "p_0s = np.array([[1.0,1.0,-1.0,-1.0],[1.0,-1.0,1.0,-1.0]]) #(np.random.rand(2,n)+1)*np.array([[1,1,-1,-1],[1,-1,1,-1]])\n",
    "LPM_file = os.path.join(os.getcwd(),'..', 'models', 'quadrotor_linear_planning_model.mat')\n",
    "planners = []\n",
    "for i in range(n):\n",
    "    planners.append(RTD_Planner(LPM_file, p_0s[:,i]))"
   ]
  },
  {
   "cell_type": "code",
   "execution_count": 3,
   "metadata": {
    "hidden": true
   },
   "outputs": [],
   "source": [
    "# Set planner goal and obstacles\n",
    "# (center, radius) tuples\n",
    "static = [Zonotope(np.array([3.5, 2.5])[:,None], 0.5*np.array([[1, 1], [1, -1]])),\n",
    "          Zonotope(np.array([0, -3.5])[:,None], 0.5*np.array([[1, 1], [1, -1]])),\n",
    "          Zonotope(np.array([-3.5, 2.5])[:,None], 0.5*np.array([[1, 1], [1, -1]]))]\n",
    "goals = np.array([[-1,-1,1,1],[-1,1,-1,1]])\n",
    "for i in range(n):\n",
    "    planners[i].p_goal = np.reshape(goals[:,i]*5,(2,1))\n",
    "    #temp = np.random.rand(2,1)*4 - 2 # point within -2 to 2, -2 to 2 box\n",
    "    #planners[i].p_goal = temp+4*temp/(temp**2)**.5 # if negative, subtract 4, if positive, add 4\n",
    "    planners[i].obstacles = static"
   ]
  },
  {
   "cell_type": "code",
   "execution_count": 4,
   "metadata": {
    "hidden": true
   },
   "outputs": [
    {
     "name": "stdout",
     "output_type": "stream",
     "text": [
      "Replanning: t_sim =  0\n",
      "Replanning: t_sim =  5\n",
      "Replanning: t_sim =  10\n",
      "Replanning: t_sim =  15\n",
      "Replanning: t_sim =  20\n",
      "No solution found.\n",
      "No solution found.\n",
      "No solution found.\n",
      "No solution found.\n",
      "Replanning: t_sim =  25\n",
      "No solution found.\n",
      "No solution found.\n",
      "No solution found.\n",
      "No solution found.\n",
      "Replanning: t_sim =  30\n",
      "No solution found.\n",
      "No solution found.\n",
      "No solution found.\n",
      "No solution found.\n",
      "Replanning: t_sim =  35\n",
      "No solution found.\n",
      "No solution found.\n",
      "No solution found.\n",
      "No solution found.\n",
      "Replanning: t_sim =  40\n",
      "No solution found.\n",
      "No solution found.\n",
      "No solution found.\n",
      "No solution found.\n",
      "Replanning: t_sim =  45\n",
      "No solution found.\n",
      "No solution found.\n",
      "No solution found.\n",
      "No solution found.\n",
      "Replanning: t_sim =  50\n",
      "No solution found.\n",
      "No solution found.\n",
      "No solution found.\n",
      "No solution found.\n",
      "Replanning: t_sim =  55\n",
      "No solution found.\n",
      "No solution found.\n",
      "No solution found.\n",
      "No solution found.\n",
      "Replanning: t_sim =  60\n",
      "No solution found.\n",
      "No solution found.\n",
      "No solution found.\n",
      "No solution found.\n",
      "Replanning: t_sim =  65\n",
      "No solution found.\n",
      "No solution found.\n",
      "No solution found.\n",
      "No solution found.\n",
      "Replanning: t_sim =  70\n",
      "No solution found.\n",
      "No solution found.\n",
      "No solution found.\n",
      "No solution found.\n",
      "Replanning: t_sim =  75\n",
      "No solution found.\n",
      "No solution found.\n",
      "No solution found.\n",
      "No solution found.\n",
      "Replanning: t_sim =  80\n",
      "No solution found.\n",
      "No solution found.\n",
      "No solution found.\n",
      "No solution found.\n",
      "Replanning: t_sim =  85\n",
      "No solution found.\n",
      "No solution found.\n",
      "No solution found.\n",
      "No solution found.\n",
      "Replanning: t_sim =  90\n",
      "No solution found.\n",
      "No solution found.\n",
      "No solution found.\n",
      "No solution found.\n",
      "Replanning: t_sim =  95\n",
      "No solution found.\n",
      "No solution found.\n",
      "No solution found.\n",
      "No solution found.\n",
      "Replanning: t_sim =  100\n",
      "No solution found.\n",
      "No solution found.\n",
      "No solution found.\n",
      "No solution found.\n",
      "Replanning: t_sim =  105\n",
      "No solution found.\n",
      "No solution found.\n",
      "No solution found.\n",
      "No solution found.\n",
      "Replanning: t_sim =  110\n",
      "No solution found.\n",
      "No solution found.\n",
      "No solution found.\n",
      "No solution found.\n",
      "Replanning: t_sim =  115\n",
      "No solution found.\n",
      "No solution found.\n",
      "No solution found.\n",
      "No solution found.\n",
      "Replanning: t_sim =  120\n",
      "No solution found.\n",
      "No solution found.\n",
      "No solution found.\n",
      "No solution found.\n",
      "Replanning: t_sim =  125\n",
      "No solution found.\n",
      "No solution found.\n",
      "No solution found.\n",
      "No solution found.\n",
      "Replanning: t_sim =  130\n",
      "No solution found.\n",
      "No solution found.\n",
      "No solution found.\n",
      "No solution found.\n",
      "Replanning: t_sim =  135\n",
      "No solution found.\n",
      "No solution found.\n",
      "No solution found.\n",
      "No solution found.\n",
      "Replanning: t_sim =  140\n",
      "No solution found.\n",
      "No solution found.\n",
      "No solution found.\n",
      "No solution found.\n",
      "Replanning: t_sim =  145\n",
      "No solution found.\n",
      "No solution found.\n",
      "No solution found.\n",
      "No solution found.\n",
      "Replanning: t_sim =  150\n",
      "No solution found.\n",
      "No solution found.\n",
      "No solution found.\n",
      "No solution found.\n",
      "Replanning: t_sim =  155\n",
      "No solution found.\n",
      "No solution found.\n",
      "No solution found.\n",
      "No solution found.\n",
      "Replanning: t_sim =  160\n",
      "No solution found.\n",
      "No solution found.\n",
      "No solution found.\n",
      "No solution found.\n",
      "Replanning: t_sim =  165\n",
      "No solution found.\n",
      "No solution found.\n",
      "No solution found.\n",
      "No solution found.\n",
      "Replanning: t_sim =  170\n",
      "No solution found.\n",
      "No solution found.\n",
      "No solution found.\n",
      "No solution found.\n",
      "Replanning: t_sim =  175\n",
      "No solution found.\n",
      "No solution found.\n",
      "No solution found.\n",
      "No solution found.\n",
      "Replanning: t_sim =  180\n",
      "No solution found.\n",
      "No solution found.\n",
      "No solution found.\n",
      "No solution found.\n",
      "Replanning: t_sim =  185\n",
      "No solution found.\n",
      "No solution found.\n",
      "No solution found.\n",
      "No solution found.\n",
      "Replanning: t_sim =  190\n",
      "No solution found.\n",
      "No solution found.\n",
      "No solution found.\n",
      "No solution found.\n",
      "Replanning: t_sim =  195\n",
      "No solution found.\n",
      "No solution found.\n",
      "No solution found.\n",
      "No solution found.\n",
      "Average planning time:  3.8238482058048247  seconds\n"
     ]
    }
   ],
   "source": [
    "# \"Controller\" loop frequency \n",
    "# Determined by trajectory discretization\n",
    "# Currently the controller just pops off setpoints from the planner trajectories to save for plotting\n",
    "controller_hz = 10  # 0.1 s\n",
    "\n",
    "# Planner loop frequency\n",
    "# Determines time between replans\n",
    "planner_hz = 2  # 0.5 s\n",
    "\n",
    "t_sim = 0  # counter for simulation time\n",
    "trajectories = [None]*p_0s.shape[1]\n",
    "traj_idx = 0\n",
    "done = False\n",
    "\n",
    "# Initialize state\n",
    "ps = p_0s.copy()\n",
    "vs = np.zeros((2,n))\n",
    "a_s = np.zeros((2,n))\n",
    "# State history\n",
    "Ps = [[],[],[],[]]\n",
    "planning_times = []\n",
    "FRSs = [[],[],[],[]]\n",
    "\n",
    "while not done:\n",
    "\n",
    "    # Planner\n",
    "    if t_sim % int(controller_hz/planner_hz) == 0:\n",
    "        # Replan\n",
    "        print(\"Replanning: t_sim = \", t_sim)\n",
    "        start_t = time.time()\n",
    "        for i in range(n):\n",
    "            trajectories[i] = planners[i].replan((np.reshape(ps[:,i],(2,1)),\n",
    "                                                  np.reshape(vs[:,i],(2,1)),\n",
    "                                                  np.reshape(a_s[:,i],(2,1))))\n",
    "        planning_times.append(time.time() - start_t)\n",
    "        traj_idx = 0\n",
    "\n",
    "    # Controller\n",
    "    # Pop off next setpoint\n",
    "    for i in range(n):\n",
    "        if trajectories[i] != None:\n",
    "            ps[0,i] = trajectories[i][0][:,traj_idx][:,None][0,0]\n",
    "            ps[1,i] = trajectories[i][0][:,traj_idx][:,None][1,0]\n",
    "            vs[0,i] = trajectories[i][1][:,traj_idx][:,None][0,0]\n",
    "            vs[1,i] = trajectories[i][1][:,traj_idx][:,None][1,0]\n",
    "            a_s[0,i] = trajectories[i][2][:,traj_idx][:,None][0,0]\n",
    "            a_s[1,i] = trajectories[i][2][:,traj_idx][:,None][1,0]\n",
    "        Ps[i].append(np.reshape(ps[:,i],(2,1)).copy())\n",
    "    traj_idx += 1\n",
    "\n",
    "    for i in range(n):\n",
    "        if trajectories[i] != None:\n",
    "            FRSs[i].append(trajectories[i][3][traj_idx:traj_idx+2])\n",
    "        else:\n",
    "            FRSs[i].append(FRSs[i][-1])\n",
    "            \n",
    "    if t_sim % int(controller_hz/planner_hz) == 0:\n",
    "        for i in range(n):\n",
    "            others = FRSs.copy()\n",
    "            del(others[i])\n",
    "            others = np.array(others)[:,-1]\n",
    "            others_view = []\n",
    "            for agent in others:\n",
    "                others_view.append(agent[0].view([0,1]))\n",
    "                others_view.append(agent[1].view([0,1]))\n",
    "            planners[i].obstacles = static.copy() + list(others_view)\n",
    "\n",
    "    dists = np.zeros(4)\n",
    "    for i in range(n):\n",
    "        dists[i] = np.linalg.norm(np.reshape(ps[:,i],(2,1)) - planners[i].p_goal)\n",
    "    goal_check = np.where(dists < params.R_GOAL_REACHED,1,0)\n",
    "    \n",
    "    if np.sum(goal_check)==n:\n",
    "        print(\"Goal reached\")\n",
    "        done = True\n",
    "\n",
    "    t_sim += 1\n",
    "    if t_sim > 199:\n",
    "        break\n",
    "\n",
    "Ps = np.hstack(Ps)[:,:,0]\n",
    "print(\"Average planning time: \", np.mean(planning_times), \" seconds\")"
   ]
  },
  {
   "cell_type": "code",
   "execution_count": 338,
   "metadata": {
    "hidden": true
   },
   "outputs": [
    {
     "data": {
      "text/plain": [
       "[[array([[-1.],\n",
       "         [ 1.]])],\n",
       " [array([[-1.],\n",
       "         [-1.]])]]"
      ]
     },
     "execution_count": 338,
     "metadata": {},
     "output_type": "execute_result"
    }
   ],
   "source": [
    "Ps[2:2+2]"
   ]
  },
  {
   "cell_type": "code",
   "execution_count": 8,
   "metadata": {
    "hidden": true
   },
   "outputs": [
    {
     "data": {
      "image/png": "[encoded data removed]",
      "text/plain": [
       "<Figure size 864x864 with 1 Axes>"
      ]
     },
     "metadata": {
      "needs_background": "light"
     },
     "output_type": "display_data"
    }
   ],
   "source": [
    "# Visualize setup\n",
    "fig, ax = plt.subplots(figsize=(12,12))\n",
    "ax.set_xlim((-6, 6))\n",
    "ax.set_ylim((-6, 6))\n",
    "ax.grid()\n",
    "\n",
    "for i in range(n):\n",
    "    ax.add_patch(plt.Circle(tuple(p_0s[:,i]), params.R_BOT, color='b'))\n",
    "    ax.scatter(planners[i].p_goal[0], planners[i].p_goal[1], s=100, marker='*', color='g')\n",
    "    ax.add_patch(plt.Circle(tuple(planners[i].p_goal), params.R_GOAL_REACHED, color='g',alpha=.1))\n",
    "\n",
    "for obs in static:\n",
    "    obs.plot(ax, color='r')\n",
    "\n",
    "pt = 20\n",
    "# Plot trajectory\n",
    "for i in range(n):\n",
    "    ax.scatter(Ps[:,0+i*2], Ps[:,1+i*2], s=10, marker='o', color='b',alpha=.1)\n",
    "\n",
    "for i in range(n):\n",
    "    #g = 0.0\n",
    "    #b = 1.0\n",
    "    last = None\n",
    "    for z in FRSs[i][-pt:]:\n",
    "        if z != None:\n",
    "            z[0].view([0,1]).plot(ax, alpha=0.01, line_alpha=.1) #color=(0,g,b),\n",
    "            last = z\n",
    "        elif last != None:\n",
    "            last[0].view([0,1]).plot(ax, alpha=0.01, line_alpha=.1)\n",
    "    last[0].view([0,1]).plot(ax, alpha=0.01, line_alpha=.5)\n",
    "    last[1].view([0,1]).plot(ax, alpha=0.01, line_alpha=.5)\n",
    "        #g += 1/20\n",
    "        #b -= 1/20\n",
    "\n",
    "plt.show()"
   ]
  },
  {
   "cell_type": "code",
   "execution_count": 8,
   "metadata": {
    "hidden": true
   },
   "outputs": [
    {
     "data": {
      "text/plain": [
       "array([-2,  2, -2,  2])"
      ]
     },
     "execution_count": 8,
     "metadata": {},
     "output_type": "execute_result"
    }
   ],
   "source": [
    "np.tile(np.array([-2,2]),(1,2))[0]"
   ]
  },
  {
   "cell_type": "code",
   "execution_count": 9,
   "metadata": {
    "hidden": true
   },
   "outputs": [
    {
     "ename": "AttributeError",
     "evalue": "'list' object has no attribute 'view'",
     "output_type": "error",
     "traceback": [
      "\u001b[1;31m---------------------------------------------------------------------------\u001b[0m",
      "\u001b[1;31mAttributeError\u001b[0m                            Traceback (most recent call last)",
      "\u001b[1;32m~\\AppData\\Local\\Temp\\ipykernel_6232\\3295614716.py\u001b[0m in \u001b[0;36m<cell line: 18>\u001b[1;34m()\u001b[0m\n\u001b[0;32m     19\u001b[0m     \u001b[1;31m#for z in FRSs[i][:20]:\u001b[0m\u001b[1;33m\u001b[0m\u001b[1;33m\u001b[0m\u001b[0m\n\u001b[0;32m     20\u001b[0m         \u001b[1;31m#z.view([0,1]).plot(ax, alpha=0.01, line_alpha=.1)\u001b[0m\u001b[1;33m\u001b[0m\u001b[1;33m\u001b[0m\u001b[0m\n\u001b[1;32m---> 21\u001b[1;33m     \u001b[0mFRSs\u001b[0m\u001b[1;33m[\u001b[0m\u001b[0mi\u001b[0m\u001b[1;33m]\u001b[0m\u001b[1;33m[\u001b[0m\u001b[1;36m0\u001b[0m\u001b[1;33m]\u001b[0m\u001b[1;33m.\u001b[0m\u001b[0mview\u001b[0m\u001b[1;33m(\u001b[0m\u001b[1;33m[\u001b[0m\u001b[1;36m0\u001b[0m\u001b[1;33m,\u001b[0m\u001b[1;36m1\u001b[0m\u001b[1;33m]\u001b[0m\u001b[1;33m)\u001b[0m\u001b[1;33m.\u001b[0m\u001b[0mplot\u001b[0m\u001b[1;33m(\u001b[0m\u001b[0max\u001b[0m\u001b[1;33m,\u001b[0m \u001b[0malpha\u001b[0m\u001b[1;33m=\u001b[0m\u001b[1;36m0.1\u001b[0m\u001b[1;33m,\u001b[0m \u001b[0mline_alpha\u001b[0m\u001b[1;33m=\u001b[0m\u001b[1;36m.5\u001b[0m\u001b[1;33m)\u001b[0m\u001b[1;33m\u001b[0m\u001b[1;33m\u001b[0m\u001b[0m\n\u001b[0m\u001b[0;32m     22\u001b[0m \u001b[1;33m\u001b[0m\u001b[0m\n\u001b[0;32m     23\u001b[0m \u001b[0mplt\u001b[0m\u001b[1;33m.\u001b[0m\u001b[0mshow\u001b[0m\u001b[1;33m(\u001b[0m\u001b[1;33m)\u001b[0m\u001b[1;33m\u001b[0m\u001b[1;33m\u001b[0m\u001b[0m\n",
      "\u001b[1;31mAttributeError\u001b[0m: 'list' object has no attribute 'view'"
     ]
    },
    {
     "data": {
      "image/png": "[encoded data removed]",
      "text/plain": [
       "<Figure size 864x864 with 1 Axes>"
      ]
     },
     "metadata": {
      "needs_background": "light"
     },
     "output_type": "display_data"
    }
   ],
   "source": [
    "# Visualize setup\n",
    "fig, ax = plt.subplots(figsize=(12,12))\n",
    "ax.set_xlim((-2, 2))\n",
    "ax.set_ylim((-2, 2))\n",
    "ax.grid()\n",
    "\n",
    "for i in range(n):\n",
    "    ax.add_patch(plt.Circle(tuple(p_0s[:,i]), params.R_BOT, color='b'))\n",
    "    ax.scatter(planners[i].p_goal[0], planners[i].p_goal[1], s=100, marker='*', color='g')\n",
    "\n",
    "for obs in static:\n",
    "    obs.plot(ax, color='r')\n",
    "\n",
    "# Plot trajectory\n",
    "for i in range(n):\n",
    "    ax.scatter(Ps[:20,0+i*2], Ps[:20,1+i*2], s=10, marker='o', color='b')\n",
    "\n",
    "for i in range(n):\n",
    "    #for z in FRSs[i][:20]:\n",
    "        #z.view([0,1]).plot(ax, alpha=0.01, line_alpha=.1)\n",
    "    FRSs[i][0].view([0,1]).plot(ax, alpha=0.1, line_alpha=.5)\n",
    "\n",
    "plt.show()"
   ]
  },
  {
   "cell_type": "markdown",
   "metadata": {},
   "source": [
    "# Going on a trip"
   ]
  },
  {
   "cell_type": "code",
   "execution_count": 19,
   "metadata": {},
   "outputs": [],
   "source": [
    "# Initialize planners\n",
    "n = 4\n",
    "p_0s = np.array([[0.0,0.0,0.0,0.0],[3.0,1.0,-1.0,-3.0]])\n",
    "LPM_file = os.path.join(os.getcwd(),'..', 'models', 'quadrotor_linear_planning_model.mat')\n",
    "planners = []\n",
    "for i in range(n):\n",
    "    planners.append(RTD_Planner(LPM_file, p_0s[:,i]))"
   ]
  },
  {
   "cell_type": "code",
   "execution_count": 20,
   "metadata": {},
   "outputs": [],
   "source": [
    "# Set planner goal and obstacles\n",
    "l = 25\n",
    "w = 3\n",
    "n_obs = 2\n",
    "#locs = np.random.rand(2,n_obs)*np.array([[l-4],[2*w]]) + np.array([[2],[-w]])\n",
    "static = []\n",
    "for i in range(n_obs):\n",
    "    static.append(Zonotope(locs[:,i][:,None], 0.25*np.array([[1, 1], [1, -1]])))\n",
    "goals = np.array([[l,l,l,l],[-3,-1,1,3]])\n",
    "for i in range(n):\n",
    "    planners[i].p_goal = np.reshape(goals[:,i],(2,1))\n",
    "    planners[i].obstacles = static"
   ]
  },
  {
   "cell_type": "code",
   "execution_count": 21,
   "metadata": {},
   "outputs": [
    {
     "data": {
      "image/png": "[encoded data removed]",
      "text/plain": [
       "<Figure size 1944x576 with 1 Axes>"
      ]
     },
     "metadata": {
      "needs_background": "light"
     },
     "output_type": "display_data"
    }
   ],
   "source": [
    "# Visualize setup\n",
    "fig, ax = plt.subplots(figsize=(l+2,2*(w+1)))\n",
    "ax.set_xlim((-1, l+1))\n",
    "ax.set_ylim((-w-1, w+1))\n",
    "ax.grid()\n",
    "\n",
    "for i in range(n):\n",
    "    ax.add_patch(plt.Circle(tuple(p_0s[:,i]), params.R_BOT, color='b'))\n",
    "    ax.scatter(planners[i].p_goal[0], planners[i].p_goal[1], s=100, marker='*', color='g')\n",
    "\n",
    "for obs in static:\n",
    "    obs.plot(ax, color='r')"
   ]
  },
  {
   "cell_type": "code",
   "execution_count": 23,
   "metadata": {},
   "outputs": [
    {
     "name": "stdout",
     "output_type": "stream",
     "text": [
      "Replanning: t_sim =  0\n",
      "Replanning: t_sim =  5\n",
      "Replanning: t_sim =  10\n",
      "Replanning: t_sim =  15\n",
      "Replanning: t_sim =  20\n",
      "Replanning: t_sim =  25\n",
      "Replanning: t_sim =  30\n",
      "Replanning: t_sim =  35\n",
      "Replanning: t_sim =  40\n",
      "Replanning: t_sim =  45\n",
      "Replanning: t_sim =  50\n",
      "Replanning: t_sim =  55\n",
      "Replanning: t_sim =  60\n",
      "Replanning: t_sim =  65\n",
      "Replanning: t_sim =  70\n",
      "Replanning: t_sim =  75\n",
      "Replanning: t_sim =  80\n",
      "Replanning: t_sim =  85\n",
      "Replanning: t_sim =  90\n",
      "Replanning: t_sim =  95\n",
      "Replanning: t_sim =  100\n",
      "Replanning: t_sim =  105\n",
      "Replanning: t_sim =  110\n",
      "Replanning: t_sim =  115\n",
      "Replanning: t_sim =  120\n",
      "Replanning: t_sim =  125\n",
      "Replanning: t_sim =  130\n",
      "Replanning: t_sim =  135\n",
      "Replanning: t_sim =  140\n",
      "Replanning: t_sim =  145\n",
      "Replanning: t_sim =  150\n",
      "No solution found.\n",
      "Replanning: t_sim =  155\n",
      "No solution found.\n",
      "Replanning: t_sim =  160\n",
      "Replanning: t_sim =  165\n",
      "Replanning: t_sim =  170\n",
      "Replanning: t_sim =  175\n",
      "Replanning: t_sim =  180\n",
      "Replanning: t_sim =  185\n",
      "Replanning: t_sim =  190\n",
      "Replanning: t_sim =  195\n",
      "Replanning: t_sim =  200\n",
      "Replanning: t_sim =  205\n",
      "Replanning: t_sim =  210\n",
      "Replanning: t_sim =  215\n",
      "Replanning: t_sim =  220\n",
      "Replanning: t_sim =  225\n",
      "Replanning: t_sim =  230\n",
      "Replanning: t_sim =  235\n",
      "Replanning: t_sim =  240\n",
      "Replanning: t_sim =  245\n",
      "Replanning: t_sim =  250\n",
      "Replanning: t_sim =  255\n",
      "No solution found.\n",
      "Replanning: t_sim =  260\n",
      "No solution found.\n",
      "Replanning: t_sim =  265\n",
      "No solution found.\n",
      "Replanning: t_sim =  270\n",
      "No solution found.\n",
      "Replanning: t_sim =  275\n",
      "No solution found.\n",
      "Replanning: t_sim =  280\n",
      "Replanning: t_sim =  285\n",
      "Replanning: t_sim =  290\n",
      "Replanning: t_sim =  295\n",
      "Average planning time:  0.5662397424379985  seconds\n"
     ]
    }
   ],
   "source": [
    "# \"Controller\" loop frequency \n",
    "# Determined by trajectory discretization\n",
    "# Currently the controller just pops off setpoints from the planner trajectories to save for plotting\n",
    "controller_hz = 10  # 0.1 s\n",
    "\n",
    "# Planner loop frequency\n",
    "# Determines time between replans\n",
    "planner_hz = 2  # 0.5 s\n",
    "\n",
    "t_sim = 0  # counter for simulation time\n",
    "trajectories = [None]*p_0s.shape[1]\n",
    "traj_idx = 0\n",
    "done = False\n",
    "\n",
    "# Initialize state\n",
    "ps = p_0s.copy()\n",
    "vs = np.zeros((2,n))\n",
    "a_s = np.zeros((2,n))\n",
    "# State history\n",
    "Ps = [[],[],[],[]]\n",
    "planning_times = []\n",
    "FRSs = [[],[],[],[]]\n",
    "plotted_FRS = [[],[],[],[]]\n",
    "dropped = []\n",
    "lpm = LPM(LPM_file)\n",
    "last_state = [np.reshape(ps[:,0],(2,1)),np.reshape(vs[:,0],(2,1)),np.reshape(a_s[:,0],(2,1))]\n",
    "t = 0\n",
    "\n",
    "while not done:\n",
    "\n",
    "    # Planner\n",
    "    if t_sim % int(controller_hz/planner_hz) == 0:\n",
    "        # Replan\n",
    "        print(\"Replanning: t_sim = \", t_sim)\n",
    "        start_t = time.time()\n",
    "        for i in range(n):\n",
    "            trajectories[i] = planners[i].replan((np.reshape(ps[:,i],(2,1)),\n",
    "                                                  np.reshape(vs[:,i],(2,1)),\n",
    "                                                  np.reshape(a_s[:,i],(2,1))))\n",
    "        planning_times.append(time.time() - start_t)\n",
    "        traj_idx = 0\n",
    "\n",
    "    # Controller\n",
    "    # Pop off next setpoint\n",
    "    for i in range(n):\n",
    "        if trajectories[i] != None:\n",
    "            ps[0,i] = trajectories[i][0][:,traj_idx][:,None][0,0]\n",
    "            ps[1,i] = trajectories[i][0][:,traj_idx][:,None][1,0]\n",
    "            vs[0,i] = trajectories[i][1][:,traj_idx][:,None][0,0]\n",
    "            vs[1,i] = trajectories[i][1][:,traj_idx][:,None][1,0]\n",
    "            a_s[0,i] = trajectories[i][2][:,traj_idx][:,None][0,0]\n",
    "            a_s[1,i] = trajectories[i][2][:,traj_idx][:,None][1,0]\n",
    "        Ps[i].append(np.reshape(ps[:,i],(2,1)).copy())\n",
    "\n",
    "    for i in range(n):\n",
    "        if trajectories[i] != None:\n",
    "            FRSs[i].append(trajectories[i][3])\n",
    "        else:\n",
    "            FRSs[i].append(FRSs[i][-1])\n",
    "    \n",
    "    if t_sim % int(controller_hz/planner_hz*3) == 0:\n",
    "        p_d = 0\n",
    "        drop = np.random.choice([True,False],p=[p_d,1-p_d])\n",
    "        if drop:\n",
    "            drop_frs = compute_FRS(lpm, last_state[0], last_state[1], last_state[2])[1:]\n",
    "            t = 0\n",
    "\n",
    "    all_ag = FRSs.copy()\n",
    "    # Randomly drop communications from agent 0\n",
    "    dropped.append(drop)\n",
    "    if drop:\n",
    "        # Compute the FRS based on the last known state, instead of using the more specific slice\n",
    "        all_ag[0][-1] = drop_frs # that first one is useless for some reason\n",
    "        #print(all_ag[0][-1][traj_idx].c[0])\n",
    "        plotted_FRS[0].append(all_ag[0][-1][t]) # Iterate through FRS generated at drop point\n",
    "    else:\n",
    "        last_state = [np.reshape(ps[:,0],(2,1)),np.reshape(vs[:,0],(2,1)),np.reshape(a_s[:,0],(2,1))]\n",
    "        plotted_FRS[0].append(all_ag[0][-1][traj_idx])\n",
    "    for i in range(1,n):\n",
    "        plotted_FRS[i].append(all_ag[i][-1][traj_idx])\n",
    "    if t_sim % int(controller_hz/planner_hz) == 0:\n",
    "        for i in range(n):\n",
    "            #print(i,len(all_ag[i]),traj_idx)\n",
    "            others = all_ag.copy()\n",
    "            del(others[i])\n",
    "            #print(np.array(others).shape)\n",
    "            others = np.array(others)[:,-1]\n",
    "            planners[i].agents = others\n",
    "            #others_view = []\n",
    "            #for agent in others:\n",
    "            #    others_view.append(agent[0].view([0,1]))\n",
    "            #    others_view.append(agent[1].view([0,1]))\n",
    "            #    others_view.append(agent[2].view([0,1]))\n",
    "            #planners[i].obstacles = static.copy() + list(others_view)\n",
    "            \n",
    "\n",
    "    dists = np.zeros(4)\n",
    "    for i in range(n):\n",
    "        dists[i] = np.linalg.norm(np.reshape(ps[:,i],(2,1)) - planners[i].p_goal)\n",
    "    goal_check = np.where(dists < params.R_GOAL_REACHED,1,0)\n",
    "    \n",
    "    if np.sum(goal_check)==n:\n",
    "        print(\"Goal reached\")\n",
    "        done = True\n",
    "\n",
    "    traj_idx += 1\n",
    "    t += 1\n",
    "    t_sim += 1\n",
    "    stuck = (trajectories[0]==None) and (trajectories[1]==None) and (trajectories[2]==None) and (trajectories[3]==None)\n",
    "    if t_sim > 299 or stuck:\n",
    "        break\n",
    "\n",
    "Ps = np.hstack(Ps)[:,:,0]\n",
    "print(\"Average planning time: \", np.mean(planning_times), \" seconds\")"
   ]
  },
  {
   "cell_type": "code",
   "execution_count": 41,
   "metadata": {},
   "outputs": [
    {
     "data": {
      "text/plain": [
       "(array([ 15,  16,  17,  18,  19,  20,  21,  22,  23,  24,  25,  26,  27,\n",
       "         28,  29,  60,  61,  62,  63,  64,  65,  66,  67,  68,  69,  70,\n",
       "         71,  72,  73,  74,  75,  76,  77,  78,  79,  80,  81,  82,  83,\n",
       "         84,  85,  86,  87,  88,  89,  90,  91,  92,  93,  94,  95,  96,\n",
       "         97,  98,  99, 100, 101, 102, 103, 104, 105, 106, 107, 108, 109,\n",
       "        110, 111, 112, 113, 114, 115, 116, 117, 118, 119, 165, 166, 167,\n",
       "        168, 169, 170, 171, 172, 173, 174, 175, 176, 177], dtype=int64),)"
      ]
     },
     "execution_count": 41,
     "metadata": {},
     "output_type": "execute_result"
    }
   ],
   "source": [
    "np.where(np.array(dropped)==True)"
   ]
  },
  {
   "cell_type": "code",
   "execution_count": 25,
   "metadata": {},
   "outputs": [
    {
     "data": {
      "image/png": "[encoded data removed]",
      "text/plain": [
       "<Figure size 1944x576 with 1 Axes>"
      ]
     },
     "metadata": {
      "needs_background": "light"
     },
     "output_type": "display_data"
    }
   ],
   "source": [
    "# Visualize setup\n",
    "fig, ax = plt.subplots(figsize=(l+2,2*(w+1)))\n",
    "ax.set_xlim((-1, l+1))\n",
    "ax.set_ylim((-w-1, w+1))\n",
    "ax.grid()\n",
    "\n",
    "for i in range(n):\n",
    "    ax.add_patch(plt.Circle(tuple(p_0s[:,i]), params.R_BOT, color='b'))\n",
    "    ax.scatter(planners[i].p_goal[0], planners[i].p_goal[1], s=100, marker='*', color='g')\n",
    "    ax.add_patch(plt.Circle(tuple(planners[i].p_goal), params.R_GOAL_REACHED, color='g',alpha=.1))\n",
    "\n",
    "for obs in static:\n",
    "    obs.plot(ax, color='r')\n",
    "\n",
    "pt = 25\n",
    "# Plot trajectory\n",
    "for i in range(n):\n",
    "    ax.scatter(Ps[15:,i*2], Ps[15:,1+i*2], s=10, marker='o', color='b',alpha=.1)\n",
    "\n",
    "for i in range(n):\n",
    "    #last = None\n",
    "    ind = 0\n",
    "    for z in plotted_FRS[i][15:pt]: #FRSs[i][:pt]:\n",
    "        if z != None:\n",
    "            col = 'b'\n",
    "            alp = .01\n",
    "            lalp = .1\n",
    "            if dropped[ind+15] == True:\n",
    "                if i==0:\n",
    "                    col = 'r'\n",
    "                    alp = .1\n",
    "                    lalp = .2\n",
    "            if i ==0:\n",
    "                z.view([0,1]).plot(ax, color=col, alpha=alp, line_alpha=lalp) #color=(0,g,b),\n",
    "        ind += 1\n",
    "            #last = z\n",
    "        #elif last != None:\n",
    "            #last[0].view([0,1]).plot(ax, alpha=0.01, line_alpha=.1)\n",
    "    #last[0].view([0,1]).plot(ax, alpha=0.01, line_alpha=.5)\n",
    "    #last[1].view([0,1]).plot(ax, alpha=0.01, line_alpha=.5)\n",
    "\n",
    "plt.show()"
   ]
  },
  {
   "cell_type": "markdown",
   "metadata": {},
   "source": [
    "# Let's make a gif :)"
   ]
  },
  {
   "cell_type": "code",
   "execution_count": 26,
   "metadata": {},
   "outputs": [],
   "source": [
    "import imageio"
   ]
  },
  {
   "cell_type": "code",
   "execution_count": 27,
   "metadata": {},
   "outputs": [
    {
     "name": "stdout",
     "output_type": "stream",
     "text": [
      "0\n",
      "1\n",
      "2\n",
      "3\n",
      "4\n",
      "5\n",
      "6\n",
      "7\n",
      "8\n",
      "9\n",
      "10\n",
      "11\n",
      "12\n",
      "13\n",
      "14\n",
      "15\n",
      "16\n",
      "17\n",
      "18\n",
      "19\n",
      "20\n",
      "21\n",
      "22\n",
      "23\n",
      "24\n",
      "25\n",
      "26\n",
      "27\n",
      "28\n",
      "29\n",
      "30\n",
      "31\n",
      "32\n",
      "33\n",
      "34\n",
      "35\n",
      "36\n",
      "37\n",
      "38\n",
      "39\n",
      "40\n",
      "41\n",
      "42\n",
      "43\n",
      "44\n",
      "45\n",
      "46\n",
      "47\n",
      "48\n",
      "49\n",
      "50\n",
      "51\n",
      "52\n",
      "53\n",
      "54\n",
      "55\n",
      "56\n",
      "57\n",
      "58\n",
      "59\n",
      "60\n",
      "61\n",
      "62\n",
      "63\n",
      "64\n",
      "65\n",
      "66\n",
      "67\n",
      "68\n",
      "69\n",
      "70\n",
      "71\n",
      "72\n",
      "73\n",
      "74\n",
      "75\n",
      "76\n",
      "77\n",
      "78\n",
      "79\n",
      "80\n",
      "81\n",
      "82\n",
      "83\n",
      "84\n",
      "85\n",
      "86\n",
      "87\n",
      "88\n",
      "89\n",
      "90\n",
      "91\n",
      "92\n",
      "93\n",
      "94\n",
      "95\n",
      "96\n",
      "97\n",
      "98\n",
      "99\n",
      "100\n",
      "101\n",
      "102\n",
      "103\n",
      "104\n",
      "105\n",
      "106\n",
      "107\n",
      "108\n",
      "109\n",
      "110\n",
      "111\n",
      "112\n",
      "113\n",
      "114\n",
      "115\n",
      "116\n",
      "117\n",
      "118\n",
      "119\n",
      "120\n",
      "121\n",
      "122\n",
      "123\n",
      "124\n",
      "125\n",
      "126\n",
      "127\n",
      "128\n",
      "129\n",
      "130\n",
      "131\n",
      "132\n",
      "133\n",
      "134\n",
      "135\n",
      "136\n",
      "137\n",
      "138\n",
      "139\n",
      "140\n",
      "141\n",
      "142\n",
      "143\n",
      "144\n",
      "145\n",
      "146\n",
      "147\n",
      "148\n",
      "149\n",
      "150\n",
      "151\n",
      "152\n",
      "153\n",
      "154\n",
      "155\n",
      "156\n",
      "157\n",
      "158\n",
      "159\n",
      "160\n",
      "161\n",
      "162\n",
      "163\n",
      "164\n",
      "165\n",
      "166\n",
      "167\n",
      "168\n",
      "169\n",
      "170\n",
      "171\n",
      "172\n",
      "173\n",
      "174\n",
      "175\n",
      "176\n",
      "177\n",
      "178\n",
      "179\n",
      "180\n",
      "181\n",
      "182\n",
      "183\n",
      "184\n",
      "185\n",
      "186\n",
      "187\n",
      "188\n",
      "189\n",
      "190\n",
      "191\n",
      "192\n",
      "193\n",
      "194\n",
      "195\n",
      "196\n",
      "197\n",
      "198\n",
      "199\n",
      "200\n",
      "201\n",
      "202\n",
      "203\n",
      "204\n",
      "205\n",
      "206\n",
      "207\n",
      "208\n",
      "209\n",
      "210\n",
      "211\n",
      "212\n",
      "213\n",
      "214\n",
      "215\n",
      "216\n",
      "217\n",
      "218\n",
      "219\n",
      "220\n",
      "221\n",
      "222\n",
      "223\n",
      "224\n",
      "225\n",
      "226\n",
      "227\n",
      "228\n",
      "229\n",
      "230\n",
      "231\n",
      "232\n",
      "233\n",
      "234\n",
      "235\n",
      "236\n",
      "237\n",
      "238\n",
      "239\n",
      "240\n",
      "241\n",
      "242\n",
      "243\n",
      "244\n",
      "245\n",
      "246\n",
      "247\n",
      "248\n",
      "249\n",
      "250\n",
      "251\n",
      "252\n",
      "253\n",
      "254\n",
      "255\n",
      "256\n",
      "257\n",
      "258\n",
      "259\n",
      "260\n",
      "261\n",
      "262\n",
      "263\n",
      "264\n",
      "265\n",
      "266\n",
      "267\n",
      "268\n",
      "269\n",
      "270\n",
      "271\n",
      "272\n",
      "273\n",
      "274\n",
      "275\n",
      "276\n",
      "277\n",
      "278\n",
      "279\n",
      "280\n",
      "281\n",
      "282\n",
      "283\n",
      "284\n",
      "285\n",
      "286\n",
      "287\n",
      "288\n",
      "289\n",
      "290\n",
      "291\n",
      "292\n",
      "293\n",
      "294\n",
      "295\n",
      "296\n",
      "297\n",
      "298\n",
      "299\n"
     ]
    }
   ],
   "source": [
    "def gen_frame(j):\n",
    "    # Visualize setup\n",
    "    fig, ax = plt.subplots(figsize=(l+2,2*(w+1)))\n",
    "    ax.set_xlim((-1, l+1))\n",
    "    ax.set_ylim((-w-1, w+1))\n",
    "    ax.grid()\n",
    "\n",
    "    for i in range(n):\n",
    "        ax.add_patch(plt.Circle(tuple(p_0s[:,i]), params.R_BOT, color='b'))\n",
    "        ax.scatter(planners[i].p_goal[0], planners[i].p_goal[1], s=100, marker='*', color='g')\n",
    "        ax.add_patch(plt.Circle(tuple(planners[i].p_goal), params.R_GOAL_REACHED, color='g',alpha=.1))\n",
    "\n",
    "    for obs in static:\n",
    "        obs.plot(ax, color='r')\n",
    "\n",
    "    pt = 10\n",
    "    # Plot trajectory\n",
    "    for i in range(n):\n",
    "        ax.scatter(Ps[:j,i*2], Ps[:j,1+i*2], s=10, marker='o', color='b',alpha=.1)\n",
    "\n",
    "    if j >= pt:\n",
    "        start = j-pt\n",
    "    else:\n",
    "        start = 0\n",
    "    for i in range(n):\n",
    "        #last = None\n",
    "        ind = start\n",
    "        for z in plotted_FRS[i][start:j]:\n",
    "            #print(ind,dropped[ind])\n",
    "            if dropped[ind] and i == 0:\n",
    "                col = 'r'\n",
    "            else:\n",
    "                #print(\"got here\")\n",
    "                col = 'b'\n",
    "            if z != None:\n",
    "                z.view([0,1]).plot(ax, color=col, alpha=0.01, line_alpha=.1) #color=(0,g,b),\n",
    "                last = z\n",
    "            ind += 1\n",
    "            #elif last != None:\n",
    "            #    last[0].view([0,1]).plot(ax, alpha=0.01, line_alpha=.1)\n",
    "        #if last != None:\n",
    "        #    last.view([0,1]).plot(ax, alpha=0.01, line_alpha=.5)\n",
    "        #    last.view([0,1]).plot(ax, color = 'g', alpha=0.01, line_alpha=.5)\n",
    "\n",
    "    # Used to return the plot as an image rray\n",
    "    fig.canvas.draw()       # draw the canvas, cache the renderer\n",
    "    image = np.frombuffer(fig.canvas.tostring_rgb(), dtype='uint8')\n",
    "    image  = image.reshape(fig.canvas.get_width_height()[::-1] + (3,))\n",
    "    plt.close(\"all\")\n",
    "    print(j)\n",
    "    return image\n",
    "\n",
    "kwargs_write = {'fps':1.0, 'quantizer':'nq'}\n",
    "#final version should be 90x160px\n",
    "imageio.mimsave('./zoom.gif', [gen_frame(j) for j in range(len(Ps[:,0]))], fps=12) #len(Ps[:,0])"
   ]
  },
  {
   "cell_type": "code",
   "execution_count": 80,
   "metadata": {},
   "outputs": [
    {
     "data": {
      "text/plain": [
       "[1, 2]"
      ]
     },
     "execution_count": 80,
     "metadata": {},
     "output_type": "execute_result"
    }
   ],
   "source": [
    "x = [1,2,3,4]\n",
    "x[2-2:2]"
   ]
  },
  {
   "cell_type": "code",
   "execution_count": 371,
   "metadata": {},
   "outputs": [
    {
     "data": {
      "text/plain": [
       "False"
      ]
     },
     "execution_count": 371,
     "metadata": {},
     "output_type": "execute_result"
    }
   ],
   "source": [
    "dropped[]"
   ]
  },
  {
   "cell_type": "code",
   "execution_count": 17,
   "metadata": {},
   "outputs": [
    {
     "data": {
      "text/plain": [
       "[0, 1, 2, 3, 4, 5, 6, 7]"
      ]
     },
     "execution_count": 17,
     "metadata": {},
     "output_type": "execute_result"
    }
   ],
   "source": [
    "list1 = [0,1,2,3]\n",
    "list2 = [4,5,6,7]\n",
    "list1+list2"
   ]
  },
  {
   "cell_type": "code",
   "execution_count": null,
   "metadata": {},
   "outputs": [],
   "source": []
  }
 ],
 "metadata": {
  "kernelspec": {
   "display_name": "Python 3",
   "language": "python",
   "name": "python3"
  },
  "language_info": {
   "codemirror_mode": {
    "name": "ipython",
    "version": 3
   },
   "file_extension": ".py",
   "mimetype": "text/x-python",
   "name": "python",
   "nbconvert_exporter": "python",
   "pygments_lexer": "ipython3",
   "version": "3.8.10 (default, Nov 14 2022, 12:59:47) \n[GCC 9.4.0]"
  },
  "latex_envs": {
   "LaTeX_envs_menu_present": true,
   "autoclose": false,
   "autocomplete": true,
   "bibliofile": "biblio.bib",
   "cite_by": "apalike",
   "current_citInitial": 1,
   "eqLabelWithNumbers": true,
   "eqNumInitial": 1,
   "hotkeys": {
    "equation": "Ctrl-E",
    "itemize": "Ctrl-I"
   },
   "labels_anchors": false,
   "latex_user_defs": false,
   "report_style_numbering": false,
   "user_envs_cfg": false
  },
  "vscode": {
   "interpreter": {
    "hash": "916dbcbb3f70747c44a77c7bcd40155683ae19c65e1c03b4aa3499c5328201f1"
   }
  }
 },
 "nbformat": 4,
 "nbformat_minor": 2
}
