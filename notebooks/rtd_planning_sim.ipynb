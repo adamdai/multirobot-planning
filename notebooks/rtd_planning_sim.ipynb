{
 "cells": [
  {
   "cell_type": "code",
   "execution_count": null,
   "metadata": {},
   "outputs": [],
   "source": [
    "import numpy as np\n",
    "import time\n",
    "import os\n",
    "import matplotlib.pyplot as plt\n",
    "\n",
    "from multirtd.RTD_planner import RTD_Planner\n",
    "from multirtd.zonotope import Zonotope\n",
    "import multirtd.params as params\n",
    "\n",
    "%load_ext autoreload\n",
    "%autoreload 2"
   ]
  },
  {
   "cell_type": "code",
   "execution_count": null,
   "metadata": {},
   "outputs": [],
   "source": [
    "# Initialize planner\n",
    "p_0 = np.array([[-5], [0]])\n",
    "LPM_file = os.path.join(os.getcwd(),'..', 'models', 'quadrotor_linear_planning_model.mat')\n",
    "planner = RTD_Planner(LPM_file, p_0)"
   ]
  },
  {
   "cell_type": "code",
   "execution_count": null,
   "metadata": {},
   "outputs": [],
   "source": [
    "# Set planner goal and obstacles\n",
    "planner.p_goal = np.array([[5], [0]])\n",
    "# (center, radius) tuples\n",
    "planner.obstacles = [Zonotope(np.array([2.5, 1.5])[:,None], 0.5*np.array([[1, 1], [1, -1]])),\n",
    "                     Zonotope(np.array([0, -1.5])[:,None], 0.5*np.array([[1, 1], [1, -1]])),\n",
    "                     Zonotope(np.array([-2.5, 1.5])[:,None], 0.5*np.array([[1, 1], [1, -1]]))]"
   ]
  },
  {
   "cell_type": "code",
   "execution_count": null,
   "metadata": {},
   "outputs": [],
   "source": [
    "# Visualize setup\n",
    "fig, ax = plt.subplots(figsize=(12,6))\n",
    "ax.set_xlim((-6, 6))\n",
    "ax.set_ylim((-3, 3))\n",
    "ax.grid()\n",
    "\n",
    "#ax.scatter(p_0[0], p_0[1], s=50, marker='^', color='b')\n",
    "ax.add_patch(plt.Circle(tuple(p_0), params.R_BOT, color='b'))\n",
    "ax.scatter(planner.p_goal[0], planner.p_goal[1], s=100, marker='*', color='g')\n",
    "\n",
    "for obs in planner.obstacles:\n",
    "    obs.plot(ax, color='r')\n",
    "\n",
    "plt.show()"
   ]
  },
  {
   "cell_type": "code",
   "execution_count": null,
   "metadata": {},
   "outputs": [],
   "source": [
    "# \"Controller\" loop frequency \n",
    "# Determined by trajectory discretization\n",
    "# Currently the controller just pops off setpoints from the planner trajectories to save for plotting\n",
    "controller_hz = 10  # 0.1 s\n",
    "\n",
    "# Planner loop frequency\n",
    "# Determines time between replans\n",
    "planner_hz = 2  # 0.5 s\n",
    "\n",
    "t_sim = 0  # counter for simulation time\n",
    "trajectory = None\n",
    "traj_idx = 0\n",
    "done = False\n",
    "\n",
    "# Initialize state\n",
    "p = p_0\n",
    "v = np.zeros((2,1))\n",
    "a = np.zeros((2,1))\n",
    "# State history\n",
    "P = []\n",
    "planning_times = []\n",
    "FRS = []\n",
    "\n",
    "while not done:\n",
    "\n",
    "    # Planner\n",
    "    if t_sim % int(controller_hz/planner_hz) == 0:\n",
    "        # Replan\n",
    "        print(\"Replanning: t_sim = \", t_sim)\n",
    "        start_t = time.time()\n",
    "        trajectory = planner.replan((p,v,a))\n",
    "        planning_times.append(time.time() - start_t)\n",
    "        traj_idx = 0\n",
    "\n",
    "    # Controller\n",
    "    # Pop off next setpoint\n",
    "    p = trajectory[0][:,traj_idx][:,None]\n",
    "    v = trajectory[1][:,traj_idx][:,None]\n",
    "    a = trajectory[2][:,traj_idx][:,None]\n",
    "    P.append(p)\n",
    "    traj_idx += 1\n",
    "\n",
    "    FRS.append(trajectory[3][traj_idx])\n",
    "\n",
    "    if np.linalg.norm(p - planner.p_goal) < params.R_GOAL_REACHED:\n",
    "        print(\"Goal reached\")\n",
    "        done = True\n",
    "\n",
    "    t_sim += 1\n",
    "\n",
    "P = np.hstack(P)\n",
    "print(\"Average planning time: \", np.mean(planning_times), \" seconds\")"
   ]
  },
  {
   "cell_type": "code",
   "execution_count": null,
   "metadata": {},
   "outputs": [],
   "source": [
    "# Visualize setup\n",
    "fig, ax = plt.subplots(figsize=(12,6))\n",
    "ax.set_xlim((-6, 6))\n",
    "ax.set_ylim((-3, 3))\n",
    "ax.grid()\n",
    "\n",
    "ax.add_patch(plt.Circle(tuple(p_0), params.R_BOT, color='b'))\n",
    "ax.scatter(planner.p_goal[0], planner.p_goal[1], s=100, marker='*', color='g')\n",
    "\n",
    "for obs in planner.obstacles:\n",
    "    obs.plot(ax, color='r')\n",
    "\n",
    "# Plot trajectory\n",
    "ax.scatter(P[0,:], P[1,:], s=10, marker='o', color='b')\n",
    "\n",
    "for z in FRS:\n",
    "    z.view([0,1]).plot(ax, alpha=0.01)\n",
    "\n",
    "plt.show()"
   ]
  },
  {
   "cell_type": "code",
   "execution_count": null,
   "metadata": {},
   "outputs": [],
   "source": []
  }
 ],
 "metadata": {
  "kernelspec": {
   "display_name": "Python 3.10.4 ('multirtd')",
   "language": "python",
   "name": "python3"
  },
  "language_info": {
   "codemirror_mode": {
    "name": "ipython",
    "version": 3
   },
   "file_extension": ".py",
   "mimetype": "text/x-python",
   "name": "python",
   "nbconvert_exporter": "python",
   "pygments_lexer": "ipython3",
   "version": "3.10.4"
  },
  "orig_nbformat": 4,
  "vscode": {
   "interpreter": {
    "hash": "b7900ae5a5091ab8ae97346730ef89214b115ca17c2b60bd887bc81f0f2ad64d"
   }
  }
 },
 "nbformat": 4,
 "nbformat_minor": 2
}
