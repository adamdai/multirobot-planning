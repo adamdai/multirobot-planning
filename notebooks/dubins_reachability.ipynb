{
 "cells": [
  {
   "cell_type": "code",
   "execution_count": null,
   "metadata": {},
   "outputs": [],
   "source": [
    "import numpy as np\n",
    "import matplotlib.pyplot as plt\n",
    "\n",
    "from multirtd.dubins_model import dubins_traj"
   ]
  },
  {
   "attachments": {},
   "cell_type": "markdown",
   "metadata": {},
   "source": [
    "### Monte carlo"
   ]
  },
  {
   "cell_type": "code",
   "execution_count": null,
   "metadata": {},
   "outputs": [],
   "source": [
    "# Initial state (no uncertainty)\n",
    "x0 = np.array([0, 0, 0])  # [x, y, theta]\n",
    "\n",
    "# Monte carlo over 1000 samples\n",
    "dt = 1.0\n",
    "N_MC = 1000\n",
    "K = 100  # Number of timesteps\n",
    "sigma = 0.03  # rotational velocity sigma\n",
    "\n",
    "u = np.zeros((K, 2))\n",
    "u[:, 0] = 1  # constant velocity\n",
    "\n",
    "x_samples = []\n",
    "for i in range(N_MC):\n",
    "    u[:, 1] = np.random.normal(0, sigma, K)  # random rotational velocity\n",
    "    x = dubins_traj(x0, u, dt)\n",
    "    x_samples.append(x)\n",
    "\n",
    "# Plot the trajectory\n",
    "fig, (ax1, ax2) = plt.subplots(1, 2, figsize=(10, 5))\n",
    "for x in x_samples:\n",
    "    ax1.plot(x[:,0], x[:,1], 'b', alpha=0.1)\n",
    "    ax2.scatter(x[-1,0], x[-1,1])\n",
    "plt.axis('equal')\n",
    "plt.show()"
   ]
  },
  {
   "cell_type": "code",
   "execution_count": null,
   "metadata": {},
   "outputs": [],
   "source": [
    "dt = 0.01\n",
    "K = 100\n",
    "sigma = 0.3\n",
    "\n",
    "# Linearized dynamics\n",
    "def linearize_dynamics(x, u, dt):\n",
    "    A = np.eye(3)\n",
    "    A[0, 2] = -u[0] * dt * np.sin(x[2])\n",
    "    A[1, 2] = u[0] * dt * np.cos(x[2])\n",
    "    B = np.zeros((3, 2))\n",
    "    B[0, 0] = dt * np.cos(x[2])\n",
    "    B[1, 0] = dt * np.sin(x[2])\n",
    "    B[2, 1] = dt\n",
    "    return A, B\n",
    "\n",
    "u = np.zeros((K, 2))\n",
    "u[:, 0] = 1  # constant velocity\n",
    "#u[:, 1] = np.random.normal(0, sigma, K)  # random rotational velocity\n",
    "u[:, 1] = 0.1\n",
    "x = dubins_traj(x0, u, dt)\n",
    "\n",
    "# Compare linearized dynamics with actual dynamics\n",
    "x_lin = np.zeros((K, 3))\n",
    "x_lin[0] = x0\n",
    "for i in range(K-1):\n",
    "    A, B = linearize_dynamics(x[i], u[i], dt)\n",
    "    x_lin[i+1] = A @ x_lin[i] + B @ u[i]\n",
    "\n",
    "fig, (ax1, ax2) = plt.subplots(1, 2, figsize=(10, 5))\n",
    "ax1.axis('equal')\n",
    "ax1.plot(x[:,0], x[:,1], 'b', label='Actual')\n",
    "ax1.plot(x_lin[:,0], x_lin[:,1], 'r', label='Linearized')"
   ]
  },
  {
   "attachments": {},
   "cell_type": "markdown",
   "metadata": {},
   "source": [
    "### Closed loop simulation"
   ]
  },
  {
   "cell_type": "code",
   "execution_count": null,
   "metadata": {},
   "outputs": [],
   "source": [
    "DT = 0.1  # Time step\n",
    "N = 15  # Number of timesteps\n",
    "\n",
    "# Nominal trajectory\n",
    "x0 = np.array([0, 0, 0])\n",
    "U = np.array([[1, 0.1]] * N)\n",
    "traj = dubins_traj(x0, U, DT)\n",
    "# Plot trajectory\n",
    "plt.plot(traj[:, 0], traj[:, 1])\n",
    "plt.axis('equal')\n",
    "plt.show()"
   ]
  },
  {
   "cell_type": "code",
   "execution_count": null,
   "metadata": {},
   "outputs": [],
   "source": [
    "def measurement(x, Sigma):\n",
    "    \"\"\"Measurement function\n",
    "    \n",
    "    (x,y,theta) -> (x,y) + noise\n",
    "    \n",
    "    \"\"\"\n",
    "    return x[:2] + np.random.multivariate_normal(np.zeros(2), Sigma)"
   ]
  },
  {
   "cell_type": "code",
   "execution_count": null,
   "metadata": {},
   "outputs": [],
   "source": [
    "# Kalman filter\n",
    "C = np.array([[1, 0, 0], [0, 1, 0]])  # Measurement matrix"
   ]
  }
 ],
 "metadata": {
  "kernelspec": {
   "display_name": "multirtd",
   "language": "python",
   "name": "python3"
  },
  "language_info": {
   "codemirror_mode": {
    "name": "ipython",
    "version": 3
   },
   "file_extension": ".py",
   "mimetype": "text/x-python",
   "name": "python",
   "nbconvert_exporter": "python",
   "pygments_lexer": "ipython3",
   "version": "3.9.15"
  },
  "orig_nbformat": 4,
  "vscode": {
   "interpreter": {
    "hash": "e6933d36d84087a72973de1731729e7d5afa974e6f879188c12c6ace520329ed"
   }
  }
 },
 "nbformat": 4,
 "nbformat_minor": 2
}
