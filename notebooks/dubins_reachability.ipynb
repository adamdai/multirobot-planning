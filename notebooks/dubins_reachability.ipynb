{
 "cells": [
  {
   "cell_type": "code",
   "execution_count": null,
   "metadata": {},
   "outputs": [],
   "source": [
    "import numpy as np\n",
    "import matplotlib.pyplot as plt\n",
    "\n",
    "from multirtd.dubins_model import dubins_traj, dubins_traj_new, linearize_dynamics\n",
    "\n",
    "%load_ext autoreload\n",
    "%autoreload 2"
   ]
  },
  {
   "attachments": {},
   "cell_type": "markdown",
   "metadata": {},
   "source": [
    "### Monte carlo"
   ]
  },
  {
   "cell_type": "code",
   "execution_count": null,
   "metadata": {},
   "outputs": [],
   "source": [
    "# Initial state (no uncertainty)\n",
    "x0 = np.array([0, 0, 0])  # [x, y, theta]\n",
    "\n",
    "# Monte carlo over 1000 samples\n",
    "dt = 0.1\n",
    "N_MC = 1000\n",
    "K = 100  # Number of timesteps\n",
    "sigma = 0.03  # rotational velocity sigma\n",
    "\n",
    "u = np.zeros((K, 2))\n",
    "u[:, 0] = 1  # constant velocity\n",
    "\n",
    "x_samples = []\n",
    "for i in range(N_MC):\n",
    "    u[:, 1] = np.random.normal(0, sigma, K)  # random rotational velocity\n",
    "    x = dubins_traj(x0, u, dt)\n",
    "    x_samples.append(x)\n",
    "\n",
    "# Plot the trajectory\n",
    "fig, (ax1, ax2) = plt.subplots(1, 2, figsize=(10, 5))\n",
    "for x in x_samples:\n",
    "    ax1.plot(x[:,0], x[:,1], 'b', alpha=0.1)\n",
    "    ax2.scatter(x[-1,0], x[-1,1])\n",
    "plt.axis('equal')\n",
    "plt.show()"
   ]
  },
  {
   "cell_type": "code",
   "execution_count": null,
   "metadata": {},
   "outputs": [],
   "source": [
    "dt = 1.0\n",
    "K = 30\n",
    "sigma = 0.3\n",
    "\n",
    "from multirtd.dubins_model import linearize_dynamics\n",
    "# # Linearized dynamics\n",
    "# def linearize_dynamics(x, u, dt):\n",
    "#     A = np.eye(3)\n",
    "#     A[0, 2] = -u[0] * dt * np.sin(x[2])\n",
    "#     A[1, 2] = u[0] * dt * np.cos(x[2])\n",
    "#     B = np.zeros((3, 2))\n",
    "#     B[0, 0] = dt * np.cos(x[2])\n",
    "#     B[1, 0] = dt * np.sin(x[2])\n",
    "#     B[2, 1] = dt\n",
    "#     return A, B\n",
    "\n",
    "u = np.zeros((K, 2))\n",
    "u[:, 0] = 1  # constant velocity\n",
    "#u[:, 1] = np.random.normal(0, sigma, K)  # random rotational velocity\n",
    "u[:, 1] = 0.1\n",
    "x = dubins_traj_new(x0, u, dt)\n",
    "\n",
    "# Compare linearized dynamics with actual dynamics\n",
    "x_lin = np.zeros((K, 3))\n",
    "x_lin[0] = x0\n",
    "for i in range(K-1):\n",
    "    A, B = linearize_dynamics(x[i], u[i], dt)\n",
    "    x_lin[i+1] = A @ x_lin[i] + B @ u[i]\n",
    "\n",
    "fig, (ax1, ax2) = plt.subplots(1, 2, figsize=(10, 5))\n",
    "ax1.axis('equal')\n",
    "ax1.plot(x[:,0], x[:,1], 'b', label='Actual')\n",
    "ax1.plot(x_lin[:,0], x_lin[:,1], 'r', label='Linearized')"
   ]
  },
  {
   "cell_type": "code",
   "execution_count": null,
   "metadata": {},
   "outputs": [],
   "source": [
    "dt = 2.0\n",
    "K = 30\n",
    "u = np.zeros((K, 2))\n",
    "u[:, 0] = 1 \n",
    "u[:, 1] = 0.01\n",
    "\n",
    "# Compare dubins_traj and dubins_traj_new\n",
    "x = dubins_traj(x0, u, dt)\n",
    "x_new = dubins_traj_new(x0, u, dt)\n",
    "\n",
    "# Plot\n",
    "fig, (ax1, ax2) = plt.subplots(1, 2, figsize=(10, 5))\n",
    "ax1.plot(x[:,0], x[:,1], 'b')\n",
    "ax1.plot(x_new[:,0], x_new[:,1], 'r')"
   ]
  },
  {
   "attachments": {},
   "cell_type": "markdown",
   "metadata": {},
   "source": [
    "### Akshay's reachability"
   ]
  },
  {
   "cell_type": "code",
   "execution_count": null,
   "metadata": {},
   "outputs": [],
   "source": []
  },
  {
   "attachments": {},
   "cell_type": "markdown",
   "metadata": {},
   "source": [
    "### RRBT Propagation\n",
    "\n",
    "Relies on nominal trajectory - linearizes dubin's dynamics to get $(A_t, B_t)$ around nominal trajectory\n",
    "\n",
    "Uses ranging beacon measurement setup, linearized measurement model around nominal trajectory to get $(C_t)$\n",
    "\n",
    "Uses LQR to get $(K_t)$"
   ]
  },
  {
   "cell_type": "code",
   "execution_count": null,
   "metadata": {},
   "outputs": [],
   "source": [
    "from multirtd.dubins_reachability import generate_robot_matrices"
   ]
  },
  {
   "cell_type": "code",
   "execution_count": null,
   "metadata": {},
   "outputs": [],
   "source": [
    "def system_matrices(x, u, Q_lqr, R_lqr, dt):\n",
    "    A, B = linearize_dynamics(x, u, dt)\n",
    "    Q = Q_lqr\n",
    "    R = R_lqr\n",
    "    return A, B, Q, R"
   ]
  },
  {
   "cell_type": "code",
   "execution_count": null,
   "metadata": {},
   "outputs": [],
   "source": [
    "dt = 0.1\n",
    "N = 30\n",
    "x0 = np.array([0, 0, 0])\n",
    "u_nom = np.zeros((N, 2))\n",
    "u_nom[:, 0] = 1\n",
    "u_nom[:, 1] = 0.1\n",
    "x_nom = dubins_traj(x0, u_nom, dt)\n",
    "\n"
   ]
  },
  {
   "attachments": {},
   "cell_type": "markdown",
   "metadata": {},
   "source": [
    "### Robotics toolbox"
   ]
  },
  {
   "cell_type": "code",
   "execution_count": null,
   "metadata": {},
   "outputs": [],
   "source": [
    "from roboticstoolbox.mobile import Bicycle, RandomPath\n",
    "\n",
    "V = np.diag([0.2, np.radians(0.5)])\n",
    "robot = Bicycle(covar=V, dt=0.1)\n",
    "robot.control = RandomPath(workspace=10)"
   ]
  },
  {
   "cell_type": "code",
   "execution_count": null,
   "metadata": {},
   "outputs": [],
   "source": [
    "N_MC = 100\n",
    "x_samples = []\n",
    "fig, ax = plt.subplots(figsize=(5, 5))\n",
    "for i in range(N_MC):\n",
    "    x = robot.run(10)\n",
    "    x_samples.append(x)\n",
    "    ax.plot(x[:, 0], x[:, 1])\n",
    "ax.axis('equal')"
   ]
  },
  {
   "attachments": {},
   "cell_type": "markdown",
   "metadata": {},
   "source": [
    "### Closed loop simulation"
   ]
  },
  {
   "cell_type": "code",
   "execution_count": null,
   "metadata": {},
   "outputs": [],
   "source": [
    "def diff_drive(vl, vr, sigma, N, d, dt):\n",
    "    \"\"\"Diff drive model with uncertainty in the wheel velocities.\n",
    "\n",
    "    d : distance between wheels\n",
    "\n",
    "    \"\"\"\n",
    "    x = np.zeros((N,3))\n",
    "    for i in range(N-1):\n",
    "        noise = np.random.normal(0, sigma, 2)\n",
    "        dx = np.array([0.5 * (vl + vr + noise[0] + noise[1]) * np.cos(x[i,2]),\n",
    "                       0.5 * (vl + vr + noise[0] + noise[1]) * np.sin(x[i,2]),\n",
    "                       (vr - vl + noise[0] - noise[1]) / d])\n",
    "        x[i+1] = x[i] + dx * dt\n",
    "    return x"
   ]
  },
  {
   "cell_type": "code",
   "execution_count": null,
   "metadata": {},
   "outputs": [],
   "source": [
    "N_MC = 100\n",
    "N = 100\n",
    "d = 0.1\n",
    "dt = 0.1\n",
    "sigma = 0.01\n",
    "vl = 0.15\n",
    "vr = 0.2\n",
    "\n",
    "x_MC = np.zeros((N_MC, N, 3))\n",
    "for i in range(N_MC):\n",
    "    x = diff_drive(vl, vr, sigma, N, d, dt)\n",
    "    x_MC[i] = x\n",
    "    plt.plot(x[:,0], x[:,1])\n",
    "plt.axis('equal')\n",
    "plt.show()"
   ]
  },
  {
   "cell_type": "code",
   "execution_count": null,
   "metadata": {},
   "outputs": [],
   "source": [
    "for i in range(N_MC):\n",
    "    plt.plot(x_MC[i,0:N:10,0], x_MC[i,0:N:10,1], 'b.', markersize=1)\n",
    "    #plt.plot(x_MC[i,-1,0], x_MC[i,-1,1], 'b.', markersize=1)\n",
    "plt.axis('equal')\n",
    "plt.show()"
   ]
  },
  {
   "cell_type": "code",
   "execution_count": null,
   "metadata": {},
   "outputs": [],
   "source": [
    "# Nominal trajectory\n",
    "v = (vl + vr) / 2\n",
    "w = (vr - vl) / d\n",
    "u_nom = np.array([[v, w]] * N)\n",
    "x_nom = dubins_traj(x0, u_nom, dt)\n",
    "\n",
    "plt.plot(x_nom[:, 0], x_nom[:, 1])\n",
    "plt.axis('equal')\n",
    "plt.show()"
   ]
  },
  {
   "cell_type": "code",
   "execution_count": null,
   "metadata": {},
   "outputs": [],
   "source": [
    "def diff_drive_var_sigma(vl, vr, sigmas, N, d, dt):\n",
    "    \"\"\"Diff drive model with uncertainty in the wheel velocities.\n",
    "\n",
    "    d : distance between wheels\n",
    "\n",
    "    \"\"\"\n",
    "    x = np.zeros((N,3))\n",
    "    for i in range(N-1):\n",
    "        noise = np.random.normal(0, sigmas[i], 2)\n",
    "        dx = np.array([0.5 * (vl + vr + noise[0] + noise[1]) * np.cos(x[i,2]),\n",
    "                       0.5 * (vl + vr + noise[0] + noise[1]) * np.sin(x[i,2]),\n",
    "                       (vr - vl + noise[0] - noise[1]) / d])\n",
    "        x[i+1] = x[i] + dx * dt\n",
    "    return x"
   ]
  },
  {
   "cell_type": "code",
   "execution_count": null,
   "metadata": {},
   "outputs": [],
   "source": [
    "N_MC = 100\n",
    "N = 100\n",
    "d = 0.1\n",
    "dt = 0.1\n",
    "sigmas = np.zeros(N)\n",
    "sigmas[:50] = 0.01\n",
    "sigmas[50:] = 0.001\n",
    "vl = 0.19\n",
    "vr = 0.2\n",
    "\n",
    "x_MC = np.zeros((N_MC, N, 3))\n",
    "for i in range(N_MC):\n",
    "    x = diff_drive_var_sigma(vl, vr, sigmas, N, d, dt)\n",
    "    x_MC[i] = x\n",
    "    plt.plot(x[:,0], x[:,1])\n",
    "plt.axis('equal')\n",
    "plt.show()"
   ]
  },
  {
   "cell_type": "code",
   "execution_count": null,
   "metadata": {},
   "outputs": [],
   "source": [
    "# Error state linearization\n",
    "\n",
    "x_err = np.zeros((N, 3))\n",
    "\n",
    "for i in range(N):\n",
    "    A, B = linearize_dynamics(x_nom[i], u_nom[i], dt)"
   ]
  },
  {
   "cell_type": "code",
   "execution_count": null,
   "metadata": {},
   "outputs": [],
   "source": [
    "from matplotlib.patches import Ellipse\n",
    "\n",
    "def plot_ellipse(ax, c, Sigma):\n",
    "    \"\"\"Plot 0.95 confidence ellipse from center and covariance matrix\n",
    "    \n",
    "    \"\"\"\n",
    "    vals, vecs = np.linalg.eig(Sigma)\n",
    "    order = vals.argsort()[::-1]\n",
    "    vals = vals[order]\n",
    "    vecs = vecs[:, order]\n",
    "    theta = np.degrees(np.arctan2(*vecs[:, 0][::-1]))\n",
    "    width, height = 2 * np.sqrt(5.991) * np.sqrt(vals)\n",
    "    ellip = Ellipse(xy=c, width=width, height=height, angle=theta, alpha=0.5)\n",
    "    ax.add_artist(ellip)\n"
   ]
  },
  {
   "cell_type": "code",
   "execution_count": null,
   "metadata": {},
   "outputs": [],
   "source": [
    "# RRBT\n",
    "\n",
    "Sigma = np.zeros((3, 3))\n",
    "Q = sigma**2 * np.eye(2)\n",
    "\n",
    "fig, ax = plt.subplots(figsize=(5, 5))\n",
    "for i in range(1,N):\n",
    "    A, B = linearize_dynamics(x_nom[i], u_nom[i], dt)\n",
    "    C = np.array([[0.5*dt*np.cos(x_nom[i,2]), 0.5*dt*np.cos(x_nom[i,2])], \n",
    "                  [0.5*dt*np.sin(x_nom[i,2]), 0.5*dt*np.sin(x_nom[i,2])], \n",
    "                  [-dt/d, dt/d]])\n",
    "    Sigma = A @ Sigma @ A.T + C @ Q @ C.T\n",
    "    if i % 10 == 0:\n",
    "        plot_ellipse(ax, x_nom[i], Sigma[:2,:2])\n",
    "\n",
    "for i in range(N_MC):\n",
    "    ax.plot(x_MC[i,0:N:10,0], x_MC[i,0:N:10,1], 'b.', markersize=1)\n",
    "ax.axis('equal')\n",
    "\n",
    "ax.set_xlim(-0.5, 0.5)\n",
    "ax.set_ylim(0, 0.8)"
   ]
  },
  {
   "attachments": {},
   "cell_type": "markdown",
   "metadata": {},
   "source": [
    "Process uncertainty - noise in left and right wheel speeds\n",
    "\n",
    "Measurement uncertainty - noise in ranging beacon measurements"
   ]
  },
  {
   "cell_type": "code",
   "execution_count": null,
   "metadata": {},
   "outputs": [],
   "source": [
    "beacon_positions = np.array([[-1.0, -1.0], \n",
    "                             [5.0, -1.0], \n",
    "                             [-1.0, 5.0], \n",
    "                             [5.0, 5.0]])\n",
    "\n",
    "def get_beacon_measurements(x, beacon_positions, sigma):\n",
    "    \"\"\"Return beacon measurements for a given state and beacon positions\n",
    "    \n",
    "    \"\"\"\n",
    "    z = np.zeros(beacon_positions.shape[0])\n",
    "    for i in range(beacon_positions.shape[0]): \n",
    "        z[i] = np.linalg.norm(x[:2] - beacon_positions[i]) + np.random.normal(0, sigma)\n",
    "    return z\n",
    "\n",
    "def get_beacon_jacobian(x, beacon_positions):\n",
    "    \"\"\"Return Jacobian of beacon measurements for a given state and beacon positions\n",
    "    \n",
    "    \"\"\"\n",
    "    H = np.zeros((beacon_positions.shape[0], 3))\n",
    "    for i in range(beacon_positions.shape[0]):\n",
    "        H[i, :2] = (x[:2] - beacon_positions[i]) / np.linalg.norm(x[:2] - beacon_positions[i])\n",
    "    return H\n",
    "\n",
    "x = np.array([0.0, 0.0, 0.0])\n",
    "sigma = 0.1\n",
    "z = get_beacon_measurements(x, beacon_positions, sigma)"
   ]
  },
  {
   "cell_type": "code",
   "execution_count": null,
   "metadata": {},
   "outputs": [],
   "source": [
    "def diff_drive_step(x, vl, vr, sigma, d, dt):\n",
    "    \"\"\"Diff drive model with uncertainty in the wheel velocities.\n",
    "\n",
    "    d : distance between wheels\n",
    "\n",
    "    \"\"\"\n",
    "    noise = np.random.normal(0, sigma, 2)\n",
    "    dx = np.array([0.5 * (vl + vr + noise[0] + noise[1]) * np.cos(x[2]),\n",
    "                    0.5 * (vl + vr + noise[0] + noise[1]) * np.sin(x[2]),\n",
    "                    (vr - vl + noise[0] - noise[1]) / d])\n",
    "    return x + dx * dt"
   ]
  },
  {
   "cell_type": "code",
   "execution_count": null,
   "metadata": {},
   "outputs": [],
   "source": [
    "# Nominal trajectory\n",
    "x0 = np.array([0.0, 0.0, 0.0])\n",
    "dt = 0.1\n",
    "d = 0.1\n",
    "N = 300\n",
    "vl = 0.195\n",
    "vr = 0.2\n",
    "v = (vl + vr) / 2\n",
    "w = (vr - vl) / d\n",
    "u_nom = np.array([[v, w]] * N)\n",
    "x_nom = dubins_traj(x0, u_nom, dt)\n",
    "\n",
    "plt.plot(x_nom[:, 0], x_nom[:, 1])\n",
    "# Plot beacons\n",
    "plt.plot(beacon_positions[:, 0], beacon_positions[:, 1], 'r*')\n",
    "plt.axis('equal')\n",
    "plt.show()"
   ]
  },
  {
   "cell_type": "code",
   "execution_count": null,
   "metadata": {},
   "outputs": [],
   "source": [
    "from multirtd.dubins_reachability import dlqr_calculate\n",
    "\n",
    "\n",
    "# Test EKF\n",
    "x = np.array([0.0, 0.0, 0.0])\n",
    "x_est = np.array([0.0, 0.0, 0.0])\n",
    "P = 0.1 * np.eye(3)\n",
    "motion_sigma = 0.01  # Uncertainty in left/right wheel velocities\n",
    "range_sigma = 0.1\n",
    "Q_motion = motion_sigma**2 * np.eye(2)\n",
    "R_sense = range_sigma**2 * np.eye(4)\n",
    "\n",
    "Q_lqr = np.eye(3)\n",
    "R_lqr = np.eye(2)\n",
    "\n",
    "x_traj = np.zeros((N, 3))\n",
    "x_traj_est = np.zeros((N, 3))\n",
    "\n",
    "for i in range(1, N):\n",
    "    # Linearize about nominal trajectory\n",
    "    A, B = linearize_dynamics(x_nom[i], u_nom[i], dt)\n",
    "    C = np.array([[0.5*dt*np.cos(x_nom[i,2]), 0.5*dt*np.cos(x_nom[i,2])], \n",
    "                  [0.5*dt*np.sin(x_nom[i,2]), 0.5*dt*np.sin(x_nom[i,2])], \n",
    "                  [-dt/d, dt/d]])\n",
    "    H = get_beacon_jacobian(x_nom[i], beacon_positions)\n",
    "\n",
    "    # True dynamics\n",
    "    K = dlqr_calculate(A, B, Q_lqr, R_lqr)\n",
    "    u = u_nom[i] + K @ (x_nom[i] - x_est)\n",
    "    vl = u[0] - u[1] * d / 2\n",
    "    vr = u[0] + u[1] * d / 2\n",
    "    x = diff_drive_step(x, vl, vr, motion_sigma, d, dt)\n",
    "\n",
    "    # Measurement\n",
    "    z = get_beacon_measurements(x, beacon_positions, range_sigma)\n",
    "    \n",
    "    # Predict step\n",
    "    x_est = diff_drive_step(x_est, vl, vr, motion_sigma, d, dt)\n",
    "    P = A @ P @ A.T + C @ Q_motion @ C.T\n",
    "    # Update step\n",
    "    # H = get_beacon_jacobian(x_est, beacon_positions)\n",
    "    K = P @ H.T @ np.linalg.inv(H @ P @ H.T + R_sense)\n",
    "    x_est = x_est + K @ (z - get_beacon_measurements(x_est, beacon_positions, range_sigma))\n",
    "    P = (np.eye(P.shape[0]) - K @ H) @ P\n",
    "\n",
    "    x_traj[i] = x\n",
    "    x_traj_est[i] = x_est"
   ]
  },
  {
   "cell_type": "code",
   "execution_count": null,
   "metadata": {},
   "outputs": [],
   "source": [
    "plt.figure(figsize=(10, 10))\n",
    "plt.plot(x_traj[:, 0], x_traj[:, 1], 'b')\n",
    "plt.plot(x_traj_est[:, 0], x_traj_est[:, 1], 'r')\n",
    "plt.plot(x_nom[:, 0], x_nom[:, 1], 'g')\n",
    "plt.plot(beacon_positions[:, 0], beacon_positions[:, 1], 'r*')\n",
    "plt.axis('equal')\n",
    "plt.show()"
   ]
  },
  {
   "cell_type": "code",
   "execution_count": null,
   "metadata": {},
   "outputs": [],
   "source": [
    "def rollout(x0, u_nom, dt, N, beacon_positions, sigma):\n",
    "    \"\"\"Rollout for a given nominal trajectory\n",
    "    \n",
    "    \"\"\"\n",
    "    x = np.zeros((N, 3))\n",
    "    x[0] = x0\n",
    "    z = np.zeros((N, beacon_positions.shape[0]))\n",
    "    for i in range(N-1):\n",
    "        x[i+1] = diff_drive(x[i], u_nom[i], dt)\n",
    "        z[i] = get_beacon_measurements(x[i], beacon_positions, sigma)\n",
    "    return x, z"
   ]
  },
  {
   "cell_type": "code",
   "execution_count": null,
   "metadata": {},
   "outputs": [],
   "source": [
    "from tqdm import tqdm\n",
    "\n",
    "# Monte carlo rollouts\n",
    "\n",
    "N_MC = 300\n",
    "\n",
    "\n",
    "motion_sigma = 0.01 * np.ones(N)  # Uncertainty in left/right wheel velocities\n",
    "# motion_sigma[100:200] = 0.05 \n",
    "range_sigma = 0.01 * np.ones(N)\n",
    "range_sigma[100:200] = 0.5 \n",
    "# Q_motion = motion_sigma[0]**2 * np.eye(2)\n",
    "# R_sense = range_sigma[0]**2 * np.eye(4)\n",
    "\n",
    "Q_lqr = np.eye(3)\n",
    "R_lqr = np.eye(2)\n",
    "\n",
    "rollouts = np.zeros((N_MC, N, 3))\n",
    "\n",
    "for k in tqdm(range(N_MC)):\n",
    "\n",
    "    # Initialize\n",
    "    x = np.array([0.0, 0.0, 0.0])\n",
    "    x_est = np.array([0.0, 0.0, 0.0])\n",
    "    P = 0.1 * np.eye(3)\n",
    "\n",
    "    for i in range(1, N):\n",
    "        Q_motion = motion_sigma[i]**2 * np.eye(2)\n",
    "        R_sense = range_sigma[i]**2 * np.eye(4)\n",
    "        \n",
    "        # Linearize about nominal trajectory\n",
    "        A, B = linearize_dynamics(x_nom[i], u_nom[i], dt)\n",
    "        C = np.array([[0.5*dt*np.cos(x_nom[i,2]), 0.5*dt*np.cos(x_nom[i,2])], \n",
    "                    [0.5*dt*np.sin(x_nom[i,2]), 0.5*dt*np.sin(x_nom[i,2])], \n",
    "                    [-dt/d, dt/d]])\n",
    "        H = get_beacon_jacobian(x_nom[i], beacon_positions)\n",
    "\n",
    "        # True dynamics\n",
    "        K = dlqr_calculate(A, B, Q_lqr, R_lqr)\n",
    "        u = u_nom[i] + K @ (x_nom[i] - x_est)\n",
    "        vl = u[0] - u[1] * d / 2\n",
    "        vr = u[0] + u[1] * d / 2\n",
    "        x = diff_drive_step(x, vl, vr, motion_sigma[i], d, dt)\n",
    "\n",
    "        # Measurement\n",
    "        z = get_beacon_measurements(x, beacon_positions, range_sigma[i])\n",
    "        \n",
    "        # Predict step\n",
    "        x_est = diff_drive_step(x_est, vl, vr, motion_sigma[i], d, dt)\n",
    "        P = A @ P @ A.T + C @ Q_motion @ C.T\n",
    "        # Update step\n",
    "        # H = get_beacon_jacobian(x_est, beacon_positions)\n",
    "        K = P @ H.T @ np.linalg.inv(H @ P @ H.T + R_sense)\n",
    "        x_est = x_est + K @ (z - get_beacon_measurements(x_est, beacon_positions, range_sigma[i]))\n",
    "        P = (np.eye(P.shape[0]) - K @ H) @ P\n",
    "\n",
    "        rollouts[k,i] = x"
   ]
  },
  {
   "cell_type": "code",
   "execution_count": null,
   "metadata": {},
   "outputs": [],
   "source": [
    "plt.figure(figsize=(7, 7))\n",
    "for i in range(N_MC):\n",
    "    plt.plot(rollouts[i,:,0], rollouts[i,:,1], 'b', alpha=0.1)\n",
    "plt.plot(x_nom[:, 0], x_nom[:, 1], 'g', linewidth=3)\n",
    "plt.axis('equal')\n",
    "plt.show()"
   ]
  },
  {
   "attachments": {},
   "cell_type": "markdown",
   "metadata": {},
   "source": [
    "RRBT Propagation"
   ]
  },
  {
   "cell_type": "code",
   "execution_count": null,
   "metadata": {},
   "outputs": [],
   "source": [
    "Sigma = np.zeros((3, 3))  # state estimation covariance\n",
    "Lambda = np.zeros((3, 3))  # uncertainty from not having yet taken observations\n",
    "\n",
    "motion_sigma = 0.01 * np.ones(N)  # Uncertainty in left/right wheel velocities\n",
    "# motion_sigma[100:200] = 0.05 \n",
    "range_sigma = 0.01 * np.ones(N)\n",
    "range_sigma[100:200] = 0.5 \n",
    "\n",
    "fig, ax = plt.subplots(figsize=(5, 5))\n",
    "for i in range(1,N):\n",
    "    Q_motion = motion_sigma[i]**2 * np.eye(2)\n",
    "    R_sense = range_sigma[i]**2 * np.eye(4)\n",
    "    \n",
    "    # Linearize about nominal trajectory\n",
    "    A, B = linearize_dynamics(x_nom[i], u_nom[i], dt)\n",
    "    C = np.array([[0.5*dt*np.cos(x_nom[i,2]), 0.5*dt*np.cos(x_nom[i,2])], \n",
    "                  [0.5*dt*np.sin(x_nom[i,2]), 0.5*dt*np.sin(x_nom[i,2])], \n",
    "                  [-dt/d, dt/d]])\n",
    "    H = get_beacon_jacobian(x_nom[i], beacon_positions)\n",
    "    K = dlqr_calculate(A, B, Q_lqr, R_lqr)\n",
    "    \n",
    "    # Covariance prediction\n",
    "    Sigma = A @ Sigma @ A.T + C @ Q_motion @ C.T\n",
    "    L = Sigma @ H.T @ np.linalg.inv(H @ Sigma @ H.T + R_sense)\n",
    "\n",
    "    # Covariance update\n",
    "    Lambda = (A - B @ K) @ Lambda @ (A - B @ K).T + L @ H @ Sigma\n",
    "    Sigma = Sigma - L @ H @ Sigma\n",
    "\n",
    "    if i % 10 == 0:\n",
    "        plot_ellipse(ax, x_nom[i], Sigma[:2,:2] + Lambda[:2,:2])\n",
    "\n",
    "# for i in range(N_MC):\n",
    "#     ax.plot(rollouts[i,0:N:10,0], rollouts[i,0:N:10,1], 'b.', markersize=1)\n",
    "ax.axis('equal')\n",
    "\n",
    "# ax.set_xlim(-0.5, 0.5)\n",
    "# ax.set_ylim(0, 0.8)"
   ]
  },
  {
   "cell_type": "code",
   "execution_count": null,
   "metadata": {},
   "outputs": [],
   "source": [
    "Lambda"
   ]
  },
  {
   "cell_type": "code",
   "execution_count": null,
   "metadata": {},
   "outputs": [],
   "source": [
    "B @ K"
   ]
  },
  {
   "cell_type": "code",
   "execution_count": null,
   "metadata": {},
   "outputs": [],
   "source": [
    "K"
   ]
  },
  {
   "cell_type": "code",
   "execution_count": null,
   "metadata": {},
   "outputs": [],
   "source": []
  }
 ],
 "metadata": {
  "kernelspec": {
   "display_name": "multirtd",
   "language": "python",
   "name": "python3"
  },
  "language_info": {
   "codemirror_mode": {
    "name": "ipython",
    "version": 3
   },
   "file_extension": ".py",
   "mimetype": "text/x-python",
   "name": "python",
   "nbconvert_exporter": "python",
   "pygments_lexer": "ipython3",
   "version": "3.9.16"
  },
  "orig_nbformat": 4,
  "vscode": {
   "interpreter": {
    "hash": "e6933d36d84087a72973de1731729e7d5afa974e6f879188c12c6ace520329ed"
   }
  }
 },
 "nbformat": 4,
 "nbformat_minor": 2
}
