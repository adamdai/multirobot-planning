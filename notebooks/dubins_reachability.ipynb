{
 "cells": [
  {
   "cell_type": "code",
   "execution_count": null,
   "metadata": {},
   "outputs": [],
   "source": [
    "import numpy as np\n",
    "import matplotlib.pyplot as plt"
   ]
  },
  {
   "attachments": {},
   "cell_type": "markdown",
   "metadata": {},
   "source": [
    "## Dynamics model"
   ]
  },
  {
   "cell_type": "code",
   "execution_count": null,
   "metadata": {},
   "outputs": [],
   "source": [
    "def dubins_step(x, u, dt):\n",
    "    \"\"\"Run one step of dynamics\n",
    "\n",
    "    Parameters\n",
    "    ----------\n",
    "    x : np.array\n",
    "        State vector (x, y, theta)\n",
    "    u : np.array\n",
    "        Control vector (v, w)\n",
    "    dt : float\n",
    "        Time step\n",
    "\n",
    "    Returns\n",
    "    -------\n",
    "    np.array\n",
    "        Updated state vector (x, y, theta)\n",
    "\n",
    "    \"\"\"\n",
    "    x_dot = u[0] * np.cos(x[2])\n",
    "    y_dot = u[0] * np.sin(x[2])\n",
    "    theta_dot = u[1]\n",
    "    x_new = x + np.array([x_dot, y_dot, theta_dot]) * dt\n",
    "    return x_new"
   ]
  },
  {
   "cell_type": "code",
   "execution_count": null,
   "metadata": {},
   "outputs": [],
   "source": [
    "def dubins_traj(x0, U, dt):\n",
    "    \"\"\"Compute dubins trajectory from a sequence of controls\n",
    "    \n",
    "    Parameters\n",
    "    ----------\n",
    "    x0 : np.array\n",
    "        Initial state vector (x, y, theta)\n",
    "    U : np.array\n",
    "        Control sequence (v, w)\n",
    "    dt : float\n",
    "        Time step\n",
    "    \n",
    "    Returns\n",
    "    -------\n",
    "    np.array\n",
    "        Trajectory (x, y, theta)\n",
    "    \n",
    "    \"\"\"\n",
    "    traj = np.zeros((len(U), 3))\n",
    "    traj[0] = x0\n",
    "    for i in range(1, len(U)):\n",
    "        traj[i] = dubins_step(traj[i-1], U[i-1], dt)\n",
    "    return traj"
   ]
  },
  {
   "cell_type": "code",
   "execution_count": null,
   "metadata": {},
   "outputs": [],
   "source": [
    "DT = 0.1\n",
    "N = 30\n",
    "V_MAX = 1  # [m/s]\n",
    "W_MAX = 1  # [rad/s]\n",
    "V_BOUNDS = np.array([-V_MAX, V_MAX])\n",
    "W_BOUNDS = np.array([-W_MAX, W_MAX])"
   ]
  },
  {
   "cell_type": "code",
   "execution_count": null,
   "metadata": {},
   "outputs": [],
   "source": [
    "# Test dubins trajectory\n",
    "x0 = np.array([0, 0, 0])\n",
    "U = np.array([[1, 0], [1, 0.1], [1, 0.1], [1, 0.2], [1, 0.2], [1, 0], [1, 0], [1, 0], [1, 0], [1, 0]])\n",
    "dt = 0.1\n",
    "traj = dubins_traj(x0, U, dt)\n",
    "# Plot trajectory\n",
    "plt.plot(traj[:, 0], traj[:, 1])\n",
    "plt.show()"
   ]
  }
 ],
 "metadata": {
  "kernelspec": {
   "display_name": "multirtd",
   "language": "python",
   "name": "python3"
  },
  "language_info": {
   "codemirror_mode": {
    "name": "ipython",
    "version": 3
   },
   "file_extension": ".py",
   "mimetype": "text/x-python",
   "name": "python",
   "nbconvert_exporter": "python",
   "pygments_lexer": "ipython3",
   "version": "3.9.15 (main, Nov 24 2022, 14:31:59) \n[GCC 11.2.0]"
  },
  "orig_nbformat": 4,
  "vscode": {
   "interpreter": {
    "hash": "e6933d36d84087a72973de1731729e7d5afa974e6f879188c12c6ace520329ed"
   }
  }
 },
 "nbformat": 4,
 "nbformat_minor": 2
}
