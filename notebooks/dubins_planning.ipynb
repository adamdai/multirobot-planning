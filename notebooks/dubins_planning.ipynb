{
 "cells": [
  {
   "cell_type": "code",
   "execution_count": null,
   "metadata": {},
   "outputs": [],
   "source": [
    "import numpy as np\n",
    "import time\n",
    "\n",
    "%load_ext autoreload\n",
    "%autoreload 2"
   ]
  },
  {
   "cell_type": "code",
   "execution_count": null,
   "metadata": {},
   "outputs": [],
   "source": [
    "from multirtd.dubins_model import dubins_traj\n",
    "\n",
    "dt = 0.1\n",
    "T = 1.5  # 15 steps\n",
    "N = int(T / dt)\n",
    "init_pose = np.array([0, 0, 0])\n",
    "goal = np.array([5, 0])\n",
    "\n",
    "U = np.tile(np.array([1, 0]), (N, 1))\n",
    "start_time = time.time()\n",
    "for i in range(10000):\n",
    "    dubins_traj(init_pose, U, dt)\n",
    "print(\"Time elapsed: {:.3f} s\".format(time.time() - start_time))\n",
    "\n",
    "# TODO: add braking maneuver"
   ]
  },
  {
   "cell_type": "code",
   "execution_count": null,
   "metadata": {},
   "outputs": [],
   "source": [
    "# Trajectory parameter space\n",
    "v_max = 0.25  # [m/s]\n",
    "w_max = 1.0  # [rad/s]"
   ]
  },
  {
   "cell_type": "code",
   "execution_count": null,
   "metadata": {},
   "outputs": [],
   "source": [
    "# Obstacle\n",
    "obs_c = np.array([1.2, 0])\n",
    "obs_r = 1"
   ]
  },
  {
   "attachments": {},
   "cell_type": "markdown",
   "metadata": {},
   "source": [
    "### Sampled-based"
   ]
  },
  {
   "cell_type": "code",
   "execution_count": null,
   "metadata": {},
   "outputs": [],
   "source": [
    "# Sample-based\n",
    "from multirtd.utils import rand_in_bounds\n",
    "\n",
    "start_time = time.time()\n",
    "n_samples = 1000\n",
    "u_samples = rand_in_bounds([-v_max, v_max, -w_max, w_max], n_samples)\n",
    "endpoints = np.zeros((n_samples, 2))\n",
    "for i, u in enumerate(u_samples):\n",
    "    U = np.tile(u, (N, 1))\n",
    "    traj = dubins_traj(init_pose, U, dt)\n",
    "    endpoints[i] = traj[-1,:-1]\n",
    "\n",
    "dists = np.linalg.norm(endpoints - goal, axis=1)\n",
    "sort_idxs = np.argsort(dists)\n",
    "u_samples_sorted = u_samples[sort_idxs]\n",
    "\n",
    "# Check collisions\n",
    "for u in u_samples_sorted:\n",
    "    U = np.tile(u, (N, 1))\n",
    "    traj = dubins_traj(init_pose, U, dt)\n",
    "    d_vec = np.linalg.norm(traj[:,:-1] - obs_c, axis=1)\n",
    "    if any(d_vec <= obs_r):\n",
    "        continue\n",
    "    else:\n",
    "        print(\"found plan \", u)\n",
    "        break\n",
    "print(\"Time elapsed: {:.3f} s\".format(time.time() - start_time))"
   ]
  },
  {
   "cell_type": "code",
   "execution_count": null,
   "metadata": {},
   "outputs": [],
   "source": [
    "dubins_traj(init_pose, np.tile(u, (N, 1)), dt)"
   ]
  },
  {
   "attachments": {},
   "cell_type": "markdown",
   "metadata": {},
   "source": [
    "### Scipy optimize"
   ]
  },
  {
   "cell_type": "code",
   "execution_count": null,
   "metadata": {},
   "outputs": [],
   "source": [
    "# Optimization-based\n",
    "from scipy.optimize import minimize, NonlinearConstraint\n",
    "\n",
    "goal = np.array([5, 2])\n",
    "\n",
    "def cost(u):\n",
    "    U = np.tile(u, (N, 1))\n",
    "    traj = dubins_traj(init_pose, U, dt)\n",
    "    dist = np.linalg.norm(traj[-1,:-1] - goal)\n",
    "    return dist\n",
    "\n",
    "def constraint(u):\n",
    "    U = np.tile(u, (N, 1))\n",
    "    traj = dubins_traj(init_pose, U, dt)\n",
    "    dist = np.linalg.norm(traj[:,:-1] - obs_c, axis=1)\n",
    "    return dist\n",
    "\n",
    "start_time = time.time()\n",
    "cons = NonlinearConstraint(constraint, obs_r, np.inf)\n",
    "res = minimize(cost, np.array([0, 0]), method='SLSQP', constraints=cons, options={'disp': True})\n",
    "print(\"Time elapsed: {:.3f} s\".format(time.time() - start_time))\n",
    "print(res.x)"
   ]
  },
  {
   "cell_type": "code",
   "execution_count": null,
   "metadata": {},
   "outputs": [],
   "source": [
    "dubins_traj(init_pose, np.tile(res.x, (N, 1)), dt)"
   ]
  },
  {
   "attachments": {},
   "cell_type": "markdown",
   "metadata": {},
   "source": [
    "### With zonotope constraints"
   ]
  },
  {
   "cell_type": "code",
   "execution_count": null,
   "metadata": {},
   "outputs": [],
   "source": [
    "import matplotlib.pyplot as plt\n",
    "\n",
    "import multirtd.utils as utils\n",
    "from multirtd.zonotope import Zonotope\n",
    "\n",
    "obs_c = np.array([1.2, 0])[:,None]\n",
    "obs_G = np.eye(2)\n",
    "obs = Zonotope(obs_c, obs_G)\n",
    "\n",
    "fig, ax = plt.subplots(figsize=(10,10))\n",
    "\n",
    "obs.plot(ax, color='r')"
   ]
  },
  {
   "cell_type": "code",
   "execution_count": null,
   "metadata": {},
   "outputs": [],
   "source": []
  }
 ],
 "metadata": {
  "kernelspec": {
   "display_name": "multirtd",
   "language": "python",
   "name": "python3"
  },
  "language_info": {
   "codemirror_mode": {
    "name": "ipython",
    "version": 3
   },
   "file_extension": ".py",
   "mimetype": "text/x-python",
   "name": "python",
   "nbconvert_exporter": "python",
   "pygments_lexer": "ipython3",
   "version": "3.9.15"
  },
  "orig_nbformat": 4,
  "vscode": {
   "interpreter": {
    "hash": "e6933d36d84087a72973de1731729e7d5afa974e6f879188c12c6ace520329ed"
   }
  }
 },
 "nbformat": 4,
 "nbformat_minor": 2
}
