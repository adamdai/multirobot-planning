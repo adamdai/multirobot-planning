{
 "cells": [
  {
   "cell_type": "code",
   "execution_count": null,
   "metadata": {},
   "outputs": [],
   "source": [
    "import numpy as np\n",
    "import time\n",
    "import os\n",
    "import matplotlib.pyplot as plt\n",
    "from scipy.optimize import minimize, NonlinearConstraint\n",
    "\n",
    "from multirtd.utils import rand_in_bounds\n",
    "from multirtd.dubins_model import dubins_traj\n",
    "\n",
    "%load_ext autoreload\n",
    "%autoreload 2"
   ]
  },
  {
   "cell_type": "code",
   "execution_count": null,
   "metadata": {},
   "outputs": [],
   "source": [
    "dt = 0.1\n",
    "T = 1.5  # 15 steps\n",
    "N = int(T / dt)\n",
    "init_pose = np.random.rand(3)\n",
    "goal = np.array([2, 0.1])\n",
    "\n",
    "U = np.tile(np.random.rand(2), (N, 1))\n",
    "start_time = time.time()\n",
    "for i in range(10000):\n",
    "    dubins_traj(init_pose, U, dt)\n",
    "print(\"Time elapsed: {:.3f} s\".format(time.time() - start_time))\n",
    "\n",
    "# TODO: add braking maneuver"
   ]
  },
  {
   "cell_type": "code",
   "execution_count": null,
   "metadata": {},
   "outputs": [],
   "source": [
    "# Trajectory parameter space\n",
    "v_max = 0.22  # [m/s]\n",
    "w_max = 1.0  # [rad/s]\n",
    "\n",
    "# Obstacles\n",
    "obs = [(np.array([0.5, 0.1]), 0.2),\n",
    "       (np.array([0.4, 0.2]), 0.2)]\n",
    "\n",
    "# Plot\n",
    "fig, ax = plt.subplots()\n",
    "ax.set_aspect('equal')\n",
    "ax.set_xlim(-0.5, 2.5)\n",
    "ax.set_ylim(-0.5, 0.5)\n",
    "# Plot obstacles and start and goal\n",
    "for obs_c, obs_r in obs:\n",
    "    ax.add_artist(plt.Circle(obs_c, obs_r, color='r'))\n",
    "ax.plot(init_pose[0], init_pose[1], 'bo')\n",
    "ax.plot(goal[0], goal[1], 'go')\n"
   ]
  },
  {
   "attachments": {},
   "cell_type": "markdown",
   "metadata": {},
   "source": [
    "### Sampled-based"
   ]
  },
  {
   "cell_type": "code",
   "execution_count": null,
   "metadata": {},
   "outputs": [],
   "source": [
    "def check_collisions(traj, obs):\n",
    "    \"\"\"Check if the trajectory collides with any obstacles.\"\"\"\n",
    "    for obs_c, obs_r in obs:\n",
    "        dist = np.linalg.norm(traj[:,:-1] - obs_c, axis=1)\n",
    "        if np.any(dist < obs_r):\n",
    "            return True\n",
    "    return False"
   ]
  },
  {
   "cell_type": "code",
   "execution_count": null,
   "metadata": {},
   "outputs": [],
   "source": [
    "# Sample-based\n",
    "\n",
    "start_time = time.time()\n",
    "n_samples = 1000\n",
    "u_samples = rand_in_bounds([-v_max, v_max, -w_max, w_max], n_samples)\n",
    "endpoints = np.zeros((n_samples, 2))\n",
    "for i, u in enumerate(u_samples):\n",
    "    U = np.tile(u, (N, 1))\n",
    "    traj = dubins_traj(init_pose, U, dt)\n",
    "    endpoints[i] = traj[-1,:-1]\n",
    "\n",
    "dists = np.linalg.norm(endpoints - goal, axis=1)\n",
    "sort_idxs = np.argsort(dists)\n",
    "u_samples_sorted = u_samples[sort_idxs]\n",
    "\n",
    "# Check collisions\n",
    "for u in u_samples_sorted:\n",
    "    U = np.tile(u, (N, 1))\n",
    "    traj = dubins_traj(init_pose, U, dt)\n",
    "    if check_collisions(traj, obs):\n",
    "        continue\n",
    "    else:\n",
    "        print(\"found plan \", u)\n",
    "        break\n",
    "print(\"Time elapsed: {:.3f} s\".format(time.time() - start_time))"
   ]
  },
  {
   "cell_type": "code",
   "execution_count": null,
   "metadata": {},
   "outputs": [],
   "source": [
    "traj = dubins_traj(init_pose, np.tile(u, (N, 1)), dt)\n",
    "print(traj)\n",
    "print(np.linalg.norm(traj[-1,:-1] - goal))"
   ]
  },
  {
   "cell_type": "code",
   "execution_count": null,
   "metadata": {},
   "outputs": [],
   "source": [
    "# Plot trajectory\n",
    "fig, ax = plt.subplots()\n",
    "ax.set_aspect('equal')\n",
    "ax.set_xlim(-0.5, 2.5)\n",
    "ax.set_ylim(-0.5, 0.5)\n",
    "# Plot obstacles and start and goal\n",
    "for obs_c, obs_r in obs:\n",
    "    ax.add_artist(plt.Circle(obs_c, obs_r, color='r'))\n",
    "ax.plot(init_pose[0], init_pose[1], 'bo')\n",
    "ax.plot(goal[0], goal[1], 'go')\n",
    "ax.plot(traj[:,0], traj[:,1], 'b-')"
   ]
  },
  {
   "attachments": {},
   "cell_type": "markdown",
   "metadata": {},
   "source": [
    "### Scipy optimize"
   ]
  },
  {
   "cell_type": "code",
   "execution_count": null,
   "metadata": {},
   "outputs": [],
   "source": [
    "dists = []\n",
    "dists.append(np.arange(10))\n",
    "dists.append(np.arange(10))\n",
    "np.hstack(dists)"
   ]
  },
  {
   "cell_type": "code",
   "execution_count": null,
   "metadata": {},
   "outputs": [],
   "source": [
    "# Optimization-based\n",
    "def cost(u):\n",
    "    U = np.tile(u, (N, 1))\n",
    "    traj = dubins_traj(init_pose, U, dt)\n",
    "    dist = np.linalg.norm(traj[-1,:-1] - goal)\n",
    "    return dist\n",
    "\n",
    "def constraint(u):\n",
    "    U = np.tile(u, (N, 1))\n",
    "    traj = dubins_traj(init_pose, U, dt)\n",
    "    dist = np.linalg.norm(traj[:,:-1] - obs_c, axis=1)\n",
    "    return dist\n",
    "\n",
    "def constraint(u):\n",
    "    U = np.tile(u, (N, 1))\n",
    "    traj = dubins_traj(init_pose, U, dt)\n",
    "    dists = []\n",
    "    for obs_c, obs_r in obs:\n",
    "        dist = np.linalg.norm(traj[:,:-1] - obs_c, axis=1) - obs_r\n",
    "        dists.append(dist)\n",
    "    return np.hstack(dists)\n",
    "\n",
    "start_time = time.time()\n",
    "cons = NonlinearConstraint(constraint, 0, np.inf)\n",
    "u0 = rand_in_bounds([-v_max, v_max, -w_max, w_max], 1)[0]\n",
    "res = minimize(cost, u0, method='SLSQP', bounds=[(-v_max, v_max), (-w_max, w_max)], constraints=cons, \n",
    "               options={'disp': True,\n",
    "                        'ftol': 1e-6})\n",
    "print(\"Time elapsed: {:.3f} s\".format(time.time() - start_time))\n",
    "print(res.x)"
   ]
  },
  {
   "cell_type": "code",
   "execution_count": null,
   "metadata": {},
   "outputs": [],
   "source": [
    "res.x"
   ]
  },
  {
   "cell_type": "code",
   "execution_count": null,
   "metadata": {},
   "outputs": [],
   "source": [
    "traj = dubins_traj(init_pose, np.tile(res.x, (N, 1)), dt)\n",
    "print(traj)\n",
    "print(np.linalg.norm(traj[-1,:-1] - goal))"
   ]
  },
  {
   "cell_type": "code",
   "execution_count": null,
   "metadata": {},
   "outputs": [],
   "source": [
    "# Plot trajectory\n",
    "fig, ax = plt.subplots()\n",
    "ax.set_aspect('equal')\n",
    "ax.set_xlim(-0.5, 2.5)\n",
    "ax.set_ylim(-0.5, 0.5)\n",
    "# Plot obstacle and start and goal\n",
    "for obs_c, obs_r in obs:\n",
    "    ax.add_artist(plt.Circle(obs_c, obs_r, color='r'))\n",
    "ax.plot(init_pose[0], init_pose[1], 'bo')\n",
    "ax.plot(goal[0], goal[1], 'go')\n",
    "ax.plot(traj[:,0], traj[:,1], 'b-')"
   ]
  },
  {
   "attachments": {},
   "cell_type": "markdown",
   "metadata": {},
   "source": [
    "### Symbolic model"
   ]
  },
  {
   "cell_type": "code",
   "execution_count": null,
   "metadata": {},
   "outputs": [],
   "source": [
    "from sympy import symbols, lambdify, Array, sin, cos, diff\n",
    "\n",
    "v, w = symbols('v w')\n",
    "\n",
    "dt = 0.1\n",
    "N = 10\n",
    "x0 = Array([0, 0, 0])\n",
    "expr = x0\n",
    "for i in range(N):\n",
    "    expr = expr + dt * Array([v*cos(expr[2]), v*sin(expr[2]), w])\n",
    "\n",
    "g = lambdify([v, w], expr)"
   ]
  },
  {
   "cell_type": "code",
   "execution_count": null,
   "metadata": {},
   "outputs": [],
   "source": [
    "from multirtd.dubins_model import dubins\n",
    "\n",
    "start_time = time.time()\n",
    "input = np.random.rand(5)\n",
    "for i in range(10000):\n",
    "    dubins(*input)\n",
    "print(\"Time elapsed: {:.3f} s\".format(time.time() - start_time))"
   ]
  },
  {
   "cell_type": "code",
   "execution_count": null,
   "metadata": {},
   "outputs": [],
   "source": [
    "expr"
   ]
  },
  {
   "cell_type": "code",
   "execution_count": null,
   "metadata": {},
   "outputs": [],
   "source": [
    "g(0.2 , 0.1)"
   ]
  },
  {
   "cell_type": "code",
   "execution_count": null,
   "metadata": {},
   "outputs": [],
   "source": [
    "expr_dv = diff(expr, v)\n",
    "dv = lambdify([v, w], expr_dv)\n",
    "dv(0.2, 0.1)"
   ]
  },
  {
   "attachments": {},
   "cell_type": "markdown",
   "metadata": {},
   "source": [
    "### With zonotope constraints"
   ]
  },
  {
   "cell_type": "code",
   "execution_count": null,
   "metadata": {},
   "outputs": [],
   "source": [
    "import matplotlib.pyplot as plt\n",
    "\n",
    "import multirtd.utils as utils\n",
    "from multirtd.zonotope import Zonotope\n",
    "\n",
    "obs_c = np.array([0.7, 0])[:,None]\n",
    "obs_G = 0.5 * np.eye(2)\n",
    "obs = Zonotope(obs_c, obs_G)\n",
    "\n",
    "u = np.array([0.2, 0.9])\n",
    "traj = dubins_traj(init_pose, np.tile(u, (N, 1)), dt)\n",
    "\n",
    "fig, ax = plt.subplots(figsize=(10,10))\n",
    "\n",
    "obs.plot(ax, color='r')\n",
    "ax.plot(traj[:,0], traj[:,1], 'b')"
   ]
  },
  {
   "cell_type": "code",
   "execution_count": null,
   "metadata": {},
   "outputs": [],
   "source": [
    "u = np.array([0.25, 0.5])\n",
    "traj = dubins_traj(init_pose, np.tile(u, (N, 1)), dt)"
   ]
  },
  {
   "cell_type": "code",
   "execution_count": null,
   "metadata": {},
   "outputs": [],
   "source": [
    "from multirtd.LPM import LPM\n",
    "from multirtd.reachability import compute_PRS\n",
    "\n",
    "LPM_file = os.path.join(os.getcwd(),'..', 'models', 'quadrotor_linear_planning_model.mat')\n",
    "lpm = LPM(LPM_file)\n",
    "PRS = compute_PRS(lpm, np.zeros((2,1)), np.zeros((2,1)), np.zeros((2,1)))"
   ]
  },
  {
   "cell_type": "code",
   "execution_count": null,
   "metadata": {},
   "outputs": [],
   "source": [
    "fig, ax = plt.subplots(figsize=(10,10))\n",
    "\n",
    "obs.plot(ax, color='r')\n",
    "ax.plot(traj[:,0], traj[:,1], 'b')\n",
    "\n",
    "ers = Zonotope(np.zeros((2, 1)), 0.1 * np.eye(2))\n",
    "u_zono = Zonotope(np.zeros((2, 1)), 0.1 * np.eye(2))\n",
    "frs = []\n",
    "for i in range(N):\n",
    "    zono = ers + traj[i,:-1][:,None]\n",
    "    zono.augment(u_zono)\n",
    "    frs.append(zono)\n",
    "    zono.plot(ax, color='b')"
   ]
  },
  {
   "cell_type": "code",
   "execution_count": null,
   "metadata": {},
   "outputs": [],
   "source": [
    "def check_collision_constraints(A_con, b_con, v_peak):\n",
    "    \"\"\"Check a trajectory parameter against halfspace collision constraints.\n",
    "    \n",
    "    Parameters\n",
    "    ----------\n",
    "    A_con : list\n",
    "        List of halfspace constraint matrices\n",
    "    b_con : list\n",
    "        List of halfspace constraint vectors\n",
    "    v_peak : np.array (N_DIM x 1)\n",
    "        Trajectory parameter\n",
    "\n",
    "    Returns\n",
    "    -------\n",
    "    bool\n",
    "        True if the trajectory is safe, False if it results in collision\n",
    "\n",
    "    \"\"\"\n",
    "    c = np.inf\n",
    "\n",
    "    # Get the coefficients of the parameter space zonotope for this parameter\n",
    "    # Assumes parameter space zonotope is centered at 0, v_max generators\n",
    "    lambdas = v_peak / v_max\n",
    "\n",
    "    for (A, b) in zip(A_con, b_con):\n",
    "        c_tmp = A @ lambdas - b  # A*lambda - b <= 0 means inside unsafe set\n",
    "        c_tmp = c_tmp.max()  # Max of this <= 0 means inside unsafe set\n",
    "        c = min(c, c_tmp)  # Find smallest max. If it's <= 0, then parameter is unsafe\n",
    "    \n",
    "    return c"
   ]
  },
  {
   "cell_type": "code",
   "execution_count": null,
   "metadata": {},
   "outputs": [],
   "source": [
    "from multirtd.reachability import generate_collision_constraints_FRS\n",
    "\n",
    "A_con, b_con = generate_collision_constraints_FRS(PRS, [obs])\n",
    "check_collision_constraints(A_con, b_con, np.array([0.1, 0])[:,None])"
   ]
  },
  {
   "cell_type": "code",
   "execution_count": null,
   "metadata": {},
   "outputs": [],
   "source": [
    "goal = np.array([5, 2])\n",
    "\n",
    "def cost(u):\n",
    "    U = np.tile(u, (N, 1))\n",
    "    traj = dubins_traj(init_pose, U, dt)\n",
    "    dist = np.linalg.norm(traj[-1,:-1] - goal)\n",
    "    return dist\n",
    "\n",
    "def constraint(u):\n",
    "    U = np.tile(u, (N, 1))\n",
    "    traj = dubins_traj(init_pose, U, dt)\n",
    "    dist = np.linalg.norm(traj[:,:-1] - obs_c, axis=1)\n",
    "    return dist\n",
    "\n",
    "start_time = time.time()\n",
    "cons = NonlinearConstraint(constraint, obs_r, np.inf)\n",
    "res = minimize(cost, np.array([0, 0]), method='SLSQP', constraints=cons, options={'disp': True})\n",
    "print(\"Time elapsed: {:.3f} s\".format(time.time() - start_time))\n",
    "print(res.x)\n"
   ]
  }
 ],
 "metadata": {
  "kernelspec": {
   "display_name": "multirtd",
   "language": "python",
   "name": "python3"
  },
  "language_info": {
   "codemirror_mode": {
    "name": "ipython",
    "version": 3
   },
   "file_extension": ".py",
   "mimetype": "text/x-python",
   "name": "python",
   "nbconvert_exporter": "python",
   "pygments_lexer": "ipython3",
   "version": "3.9.16"
  },
  "orig_nbformat": 4,
  "vscode": {
   "interpreter": {
    "hash": "d19bd880e3de8f0a4ec36d8f6187cc778efb8fca2b43792ec409d81f72eae968"
   }
  }
 },
 "nbformat": 4,
 "nbformat_minor": 2
}
