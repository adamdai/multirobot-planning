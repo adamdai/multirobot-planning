{
 "cells": [
  {
   "cell_type": "code",
   "execution_count": 55,
   "metadata": {},
   "outputs": [
    {
     "name": "stdout",
     "output_type": "stream",
     "text": [
      "The autoreload extension is already loaded. To reload it, use:\n",
      "  %reload_ext autoreload\n"
     ]
    }
   ],
   "source": [
    "import numpy as np\n",
    "import time\n",
    "import os\n",
    "import matplotlib.pyplot as plt\n",
    "from scipy.optimize import minimize, NonlinearConstraint, Bounds\n",
    "\n",
    "from multirtd.utils import rand_in_bounds\n",
    "from multirtd.dubins_model import dubins_traj\n",
    "\n",
    "%load_ext autoreload\n",
    "%autoreload 2"
   ]
  },
  {
   "cell_type": "code",
   "execution_count": 57,
   "metadata": {},
   "outputs": [
    {
     "name": "stdout",
     "output_type": "stream",
     "text": [
      "Time elapsed: 0.799 s\n"
     ]
    }
   ],
   "source": [
    "dt = 0.1\n",
    "T = 1.5  # 15 steps\n",
    "N = int(T / dt)\n",
    "init_pose = np.array([0, 0, 0])\n",
    "goal = np.array([2, 0])\n",
    "\n",
    "U = np.tile(np.array([1, 0]), (N, 1))\n",
    "start_time = time.time()\n",
    "for i in range(10000):\n",
    "    dubins_traj(init_pose, U, dt)\n",
    "print(\"Time elapsed: {:.3f} s\".format(time.time() - start_time))\n",
    "\n",
    "# TODO: add braking maneuver"
   ]
  },
  {
   "cell_type": "code",
   "execution_count": 64,
   "metadata": {},
   "outputs": [
    {
     "data": {
      "text/plain": [
       "[<matplotlib.lines.Line2D at 0x7f54ab1ed580>]"
      ]
     },
     "execution_count": 64,
     "metadata": {},
     "output_type": "execute_result"
    },
    {
     "data": {
      "image/png": "[encoded data removed]",
      "text/plain": [
       "<Figure size 640x480 with 1 Axes>"
      ]
     },
     "metadata": {},
     "output_type": "display_data"
    }
   ],
   "source": [
    "# Trajectory parameter space\n",
    "v_max = 0.25  # [m/s]\n",
    "w_max = 1.0  # [rad/s]\n",
    "\n",
    "# Obstacle\n",
    "obs_c = np.array([0.5, 0])\n",
    "obs_r = 0.2\n",
    "\n",
    "# Plot\n",
    "fig, ax = plt.subplots()\n",
    "ax.set_aspect('equal')\n",
    "ax.set_xlim(-0.5, 2.5)\n",
    "ax.set_ylim(-0.5, 0.5)\n",
    "# Plot obstacle and start and goal\n",
    "ax.add_artist(plt.Circle(obs_c, obs_r, color='r'))\n",
    "ax.plot(init_pose[0], init_pose[1], 'bo')\n",
    "ax.plot(goal[0], goal[1], 'go')\n"
   ]
  },
  {
   "attachments": {},
   "cell_type": "markdown",
   "metadata": {},
   "source": [
    "### Sampled-based"
   ]
  },
  {
   "cell_type": "code",
   "execution_count": 65,
   "metadata": {},
   "outputs": [
    {
     "name": "stdout",
     "output_type": "stream",
     "text": [
      "found plan  [0.24304839 0.50020339]\n",
      "Time elapsed: 0.080 s\n"
     ]
    }
   ],
   "source": [
    "# Sample-based\n",
    "\n",
    "start_time = time.time()\n",
    "n_samples = 1000\n",
    "u_samples = rand_in_bounds([-v_max, v_max, -w_max, w_max], n_samples)\n",
    "endpoints = np.zeros((n_samples, 2))\n",
    "for i, u in enumerate(u_samples):\n",
    "    U = np.tile(u, (N, 1))\n",
    "    traj = dubins_traj(init_pose, U, dt)\n",
    "    endpoints[i] = traj[-1,:-1]\n",
    "\n",
    "dists = np.linalg.norm(endpoints - goal, axis=1)\n",
    "sort_idxs = np.argsort(dists)\n",
    "u_samples_sorted = u_samples[sort_idxs]\n",
    "\n",
    "# Check collisions\n",
    "for u in u_samples_sorted:\n",
    "    U = np.tile(u, (N, 1))\n",
    "    traj = dubins_traj(init_pose, U, dt)\n",
    "    d_vec = np.linalg.norm(traj[:,:-1] - obs_c, axis=1)\n",
    "    if any(d_vec <= obs_r):\n",
    "        continue\n",
    "    else:\n",
    "        print(\"found plan \", u)\n",
    "        break\n",
    "print(\"Time elapsed: {:.3f} s\".format(time.time() - start_time))"
   ]
  },
  {
   "cell_type": "code",
   "execution_count": 66,
   "metadata": {},
   "outputs": [
    {
     "name": "stdout",
     "output_type": "stream",
     "text": [
      "[[0.         0.         0.        ]\n",
      " [0.02430484 0.         0.05002034]\n",
      " [0.04857928 0.00121523 0.10004068]\n",
      " [0.0727626  0.00364265 0.15006102]\n",
      " [0.0967943  0.00727618 0.20008136]\n",
      " [0.12061426 0.01210675 0.2501017 ]\n",
      " [0.14416291 0.01812226 0.30012204]\n",
      " [0.16738134 0.02530766 0.35014238]\n",
      " [0.19021145 0.03364499 0.40016272]\n",
      " [0.21259615 0.04311338 0.45018306]\n",
      " [0.23447944 0.05368915 0.50020339]\n",
      " [0.25580657 0.06534585 0.55022373]\n",
      " [0.2765242  0.07805432 0.60024407]\n",
      " [0.2965805  0.09178276 0.65026441]\n",
      " [0.31592529 0.10649683 0.70028475]]\n",
      "1.687438647609733\n"
     ]
    }
   ],
   "source": [
    "traj = dubins_traj(init_pose, np.tile(u, (N, 1)), dt)\n",
    "print(traj)\n",
    "print(np.linalg.norm(traj[-1,:-1] - goal))"
   ]
  },
  {
   "cell_type": "code",
   "execution_count": 67,
   "metadata": {},
   "outputs": [
    {
     "data": {
      "text/plain": [
       "[<matplotlib.lines.Line2D at 0x7f54ab170340>]"
      ]
     },
     "execution_count": 67,
     "metadata": {},
     "output_type": "execute_result"
    },
    {
     "data": {
      "image/png": "[encoded data removed]",
      "text/plain": [
       "<Figure size 640x480 with 1 Axes>"
      ]
     },
     "metadata": {},
     "output_type": "display_data"
    }
   ],
   "source": [
    "# Plot trajectory\n",
    "fig, ax = plt.subplots()\n",
    "ax.set_aspect('equal')\n",
    "ax.set_xlim(-0.5, 2.5)\n",
    "ax.set_ylim(-0.5, 0.5)\n",
    "# Plot obstacle and start and goal\n",
    "ax.add_artist(plt.Circle(obs_c, obs_r, color='r'))\n",
    "ax.plot(init_pose[0], init_pose[1], 'bo')\n",
    "ax.plot(goal[0], goal[1], 'go')\n",
    "ax.plot(traj[:,0], traj[:,1], 'b-')"
   ]
  },
  {
   "attachments": {},
   "cell_type": "markdown",
   "metadata": {},
   "source": [
    "### Scipy optimize"
   ]
  },
  {
   "cell_type": "code",
   "execution_count": 68,
   "metadata": {},
   "outputs": [
    {
     "name": "stdout",
     "output_type": "stream",
     "text": [
      "Optimization terminated successfully    (Exit mode 0)\n",
      "            Current function value: 1.6999999996806896\n",
      "            Iterations: 2\n",
      "            Function evaluations: 6\n",
      "            Gradient evaluations: 2\n",
      "Time elapsed: 0.004 s\n",
      "[0.21428571 0.        ]\n"
     ]
    }
   ],
   "source": [
    "# Optimization-based\n",
    "def cost(u):\n",
    "    U = np.tile(u, (N, 1))\n",
    "    traj = dubins_traj(init_pose, U, dt)\n",
    "    dist = np.linalg.norm(traj[-1,:-1] - goal)\n",
    "    return dist\n",
    "\n",
    "def constraint(u):\n",
    "    U = np.tile(u, (N, 1))\n",
    "    traj = dubins_traj(init_pose, U, dt)\n",
    "    dist = np.linalg.norm(traj[:,:-1] - obs_c, axis=1)\n",
    "    return dist\n",
    "\n",
    "start_time = time.time()\n",
    "cons = NonlinearConstraint(constraint, obs_r, np.inf)\n",
    "res = minimize(cost, np.array([0, 0]), method='SLSQP', bounds=[(-v_max, v_max), (-w_max, w_max)], constraints=cons, options={'disp': True})\n",
    "print(\"Time elapsed: {:.3f} s\".format(time.time() - start_time))\n",
    "print(res.x)"
   ]
  },
  {
   "cell_type": "code",
   "execution_count": 69,
   "metadata": {},
   "outputs": [
    {
     "name": "stdout",
     "output_type": "stream",
     "text": [
      "[[0.         0.         0.        ]\n",
      " [0.02142857 0.         0.        ]\n",
      " [0.04285714 0.         0.        ]\n",
      " [0.06428571 0.         0.        ]\n",
      " [0.08571429 0.         0.        ]\n",
      " [0.10714286 0.         0.        ]\n",
      " [0.12857143 0.         0.        ]\n",
      " [0.15       0.         0.        ]\n",
      " [0.17142857 0.         0.        ]\n",
      " [0.19285714 0.         0.        ]\n",
      " [0.21428571 0.         0.        ]\n",
      " [0.23571429 0.         0.        ]\n",
      " [0.25714286 0.         0.        ]\n",
      " [0.27857143 0.         0.        ]\n",
      " [0.3        0.         0.        ]]\n",
      "1.6999999996806896\n"
     ]
    }
   ],
   "source": [
    "traj = dubins_traj(init_pose, np.tile(res.x, (N, 1)), dt)\n",
    "print(traj)\n",
    "print(np.linalg.norm(traj[-1,:-1] - goal))"
   ]
  },
  {
   "cell_type": "code",
   "execution_count": 70,
   "metadata": {},
   "outputs": [
    {
     "data": {
      "text/plain": [
       "[<matplotlib.lines.Line2D at 0x7f54ab15dc10>]"
      ]
     },
     "execution_count": 70,
     "metadata": {},
     "output_type": "execute_result"
    },
    {
     "data": {
      "image/png": "[encoded data removed]",
      "text/plain": [
       "<Figure size 640x480 with 1 Axes>"
      ]
     },
     "metadata": {},
     "output_type": "display_data"
    }
   ],
   "source": [
    "# Plot trajectory\n",
    "fig, ax = plt.subplots()\n",
    "ax.set_aspect('equal')\n",
    "ax.set_xlim(-0.5, 2.5)\n",
    "ax.set_ylim(-0.5, 0.5)\n",
    "# Plot obstacle and start and goal\n",
    "ax.add_artist(plt.Circle(obs_c, obs_r, color='r'))\n",
    "ax.plot(init_pose[0], init_pose[1], 'bo')\n",
    "ax.plot(goal[0], goal[1], 'go')\n",
    "ax.plot(traj[:,0], traj[:,1], 'b-')"
   ]
  },
  {
   "attachments": {},
   "cell_type": "markdown",
   "metadata": {},
   "source": [
    "### With zonotope constraints"
   ]
  },
  {
   "cell_type": "code",
   "execution_count": 43,
   "metadata": {},
   "outputs": [
    {
     "data": {
      "text/plain": [
       "[<matplotlib.lines.Line2D at 0x7f54aae0fbe0>]"
      ]
     },
     "execution_count": 43,
     "metadata": {},
     "output_type": "execute_result"
    },
    {
     "data": {
      "image/png": "[encoded data removed]",
      "text/plain": [
       "<Figure size 1000x1000 with 1 Axes>"
      ]
     },
     "metadata": {},
     "output_type": "display_data"
    }
   ],
   "source": [
    "import matplotlib.pyplot as plt\n",
    "\n",
    "import multirtd.utils as utils\n",
    "from multirtd.zonotope import Zonotope\n",
    "\n",
    "obs_c = np.array([0.7, 0])[:,None]\n",
    "obs_G = 0.5 * np.eye(2)\n",
    "obs = Zonotope(obs_c, obs_G)\n",
    "\n",
    "u = np.array([0.2, 0.9])\n",
    "traj = dubins_traj(init_pose, np.tile(u, (N, 1)), dt)\n",
    "\n",
    "fig, ax = plt.subplots(figsize=(10,10))\n",
    "\n",
    "obs.plot(ax, color='r')\n",
    "ax.plot(traj[:,0], traj[:,1], 'b')"
   ]
  },
  {
   "cell_type": "code",
   "execution_count": 71,
   "metadata": {},
   "outputs": [],
   "source": [
    "u = np.array([0.25, 0.5])\n",
    "traj = dubins_traj(init_pose, np.tile(u, (N, 1)), dt)"
   ]
  },
  {
   "cell_type": "code",
   "execution_count": 30,
   "metadata": {},
   "outputs": [],
   "source": [
    "from multirtd.LPM import LPM\n",
    "from multirtd.reachability import compute_PRS\n",
    "\n",
    "LPM_file = os.path.join(os.getcwd(),'..', 'models', 'quadrotor_linear_planning_model.mat')\n",
    "lpm = LPM(LPM_file)\n",
    "PRS = compute_PRS(lpm, np.zeros((2,1)), np.zeros((2,1)), np.zeros((2,1)))"
   ]
  },
  {
   "cell_type": "code",
   "execution_count": 72,
   "metadata": {},
   "outputs": [
    {
     "data": {
      "image/png": "[encoded data removed]",
      "text/plain": [
       "<Figure size 1000x1000 with 1 Axes>"
      ]
     },
     "metadata": {},
     "output_type": "display_data"
    }
   ],
   "source": [
    "fig, ax = plt.subplots(figsize=(10,10))\n",
    "\n",
    "obs.plot(ax, color='r')\n",
    "ax.plot(traj[:,0], traj[:,1], 'b')\n",
    "\n",
    "ers = Zonotope(np.zeros((2, 1)), 0.1 * np.eye(2))\n",
    "u_zono = Zonotope(np.zeros((2, 1)), 0.1 * np.eye(2))\n",
    "frs = []\n",
    "for i in range(N):\n",
    "    zono = ers + traj[i,:-1][:,None]\n",
    "    zono.augment(u_zono)\n",
    "    frs.append(zono)\n",
    "    zono.plot(ax, color='b')"
   ]
  },
  {
   "cell_type": "code",
   "execution_count": 73,
   "metadata": {},
   "outputs": [],
   "source": [
    "def check_collision_constraints(A_con, b_con, v_peak):\n",
    "    \"\"\"Check a trajectory parameter against halfspace collision constraints.\n",
    "    \n",
    "    Parameters\n",
    "    ----------\n",
    "    A_con : list\n",
    "        List of halfspace constraint matrices\n",
    "    b_con : list\n",
    "        List of halfspace constraint vectors\n",
    "    v_peak : np.array (N_DIM x 1)\n",
    "        Trajectory parameter\n",
    "\n",
    "    Returns\n",
    "    -------\n",
    "    bool\n",
    "        True if the trajectory is safe, False if it results in collision\n",
    "\n",
    "    \"\"\"\n",
    "    c = np.inf\n",
    "\n",
    "    # Get the coefficients of the parameter space zonotope for this parameter\n",
    "    # Assumes parameter space zonotope is centered at 0, v_max generators\n",
    "    lambdas = v_peak / v_max\n",
    "\n",
    "    for (A, b) in zip(A_con, b_con):\n",
    "        c_tmp = A @ lambdas - b  # A*lambda - b <= 0 means inside unsafe set\n",
    "        c_tmp = c_tmp.max()  # Max of this <= 0 means inside unsafe set\n",
    "        c = min(c, c_tmp)  # Find smallest max. If it's <= 0, then parameter is unsafe\n",
    "    \n",
    "    return c"
   ]
  },
  {
   "cell_type": "code",
   "execution_count": 40,
   "metadata": {},
   "outputs": [
    {
     "data": {
      "text/plain": [
       "-1.0"
      ]
     },
     "execution_count": 40,
     "metadata": {},
     "output_type": "execute_result"
    }
   ],
   "source": [
    "from multirtd.reachability import generate_collision_constraints_FRS\n",
    "\n",
    "A_con, b_con = generate_collision_constraints_FRS(PRS, [obs])\n",
    "check_collision_constraints(A_con, b_con, np.array([0.1, 0])[:,None])"
   ]
  },
  {
   "cell_type": "code",
   "execution_count": null,
   "metadata": {},
   "outputs": [],
   "source": [
    "goal = np.array([5, 2])\n",
    "\n",
    "def cost(u):\n",
    "    U = np.tile(u, (N, 1))\n",
    "    traj = dubins_traj(init_pose, U, dt)\n",
    "    dist = np.linalg.norm(traj[-1,:-1] - goal)\n",
    "    return dist\n",
    "\n",
    "def constraint(u):\n",
    "    U = np.tile(u, (N, 1))\n",
    "    traj = dubins_traj(init_pose, U, dt)\n",
    "    dist = np.linalg.norm(traj[:,:-1] - obs_c, axis=1)\n",
    "    return dist\n",
    "\n",
    "start_time = time.time()\n",
    "cons = NonlinearConstraint(constraint, obs_r, np.inf)\n",
    "res = minimize(cost, np.array([0, 0]), method='SLSQP', constraints=cons, options={'disp': True})\n",
    "print(\"Time elapsed: {:.3f} s\".format(time.time() - start_time))\n",
    "print(res.x)\n"
   ]
  }
 ],
 "metadata": {
  "kernelspec": {
   "display_name": "multirtd",
   "language": "python",
   "name": "python3"
  },
  "language_info": {
   "codemirror_mode": {
    "name": "ipython",
    "version": 3
   },
   "file_extension": ".py",
   "mimetype": "text/x-python",
   "name": "python",
   "nbconvert_exporter": "python",
   "pygments_lexer": "ipython3",
   "version": "3.9.16"
  },
  "orig_nbformat": 4,
  "vscode": {
   "interpreter": {
    "hash": "e6933d36d84087a72973de1731729e7d5afa974e6f879188c12c6ace520329ed"
   }
  }
 },
 "nbformat": 4,
 "nbformat_minor": 2
}
