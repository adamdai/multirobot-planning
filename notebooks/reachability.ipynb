{
 "cells": [
  {
   "cell_type": "code",
   "execution_count": null,
   "metadata": {},
   "outputs": [],
   "source": [
    "import numpy as np\n",
    "import time\n",
    "import os\n",
    "import matplotlib.pyplot as plt\n",
    "\n",
    "import multirtd.utils as utils\n",
    "from multirtd.zonotope import Zonotope\n",
    "from multirtd.LPM import LPM\n",
    "\n",
    "%load_ext autoreload\n",
    "%autoreload 2"
   ]
  },
  {
   "cell_type": "code",
   "execution_count": null,
   "metadata": {},
   "outputs": [],
   "source": [
    "# System\n",
    "dt = 0.1\n",
    "n_s = 4  # State dimension\n",
    "n_c = 2  # Control dimension\n",
    "n_m = 2  # Measurement dimension\n",
    "\n",
    "A = np.eye(n_s)  # Dynamics matrix\n",
    "A[0:2,2:4] = dt*np.eye(2)\n",
    "B = np.array([[dt**2/2, 0],  # Control matrix\n",
    "              [0, dt**2/2],\n",
    "              [dt, 0],\n",
    "              [0, dt]])\n",
    "C = np.array([[1, 0, 0, 0],  # Measurement matrix\n",
    "              [0, 1, 0, 0]])\n",
    "\n",
    "Q_LQR = np.eye(n_s)\n",
    "R_LQR = np.eye(n_c)\n",
    "K = utils.dlqr_calculate(A, B, Q_LQR, R_LQR)\n",
    "\n",
    "Q = 0.01"
   ]
  },
  {
   "cell_type": "code",
   "execution_count": null,
   "metadata": {},
   "outputs": [],
   "source": [
    "LPM_file = os.path.join(os.getcwd(),'..', 'models', 'quadrotor_linear_planning_model.mat')\n",
    "lpm = LPM(LPM_file)"
   ]
  },
  {
   "cell_type": "markdown",
   "metadata": {},
   "source": [
    "LPM FRS Computation"
   ]
  },
  {
   "cell_type": "code",
   "execution_count": null,
   "metadata": {},
   "outputs": [],
   "source": [
    "# Peak velocity space\n",
    "v_max = 3\n",
    "c_pk = np.zeros((2,1))\n",
    "G_pk = v_max * np.eye(2)\n",
    "V_pk = Zonotope(c_pk, G_pk)\n",
    "\n",
    "# Zeros zonotope\n",
    "Z0 = Zonotope(np.zeros((2,1)), np.zeros((2,2)))\n",
    "\n",
    "N = len(lpm.time)  # Trajectory length\n",
    "P_LPM = lpm.P_mat.T\n",
    "\n",
    "PRS = N * [None]"
   ]
  },
  {
   "cell_type": "code",
   "execution_count": null,
   "metadata": {},
   "outputs": [],
   "source": [
    "# Fixed initial conditions\n",
    "v_0 = np.array([4,2])\n",
    "a_0 = np.array([5,5])\n",
    "k_0 = np.vstack((v_0, a_0))\n",
    "\n",
    "p_from_ic = P_LPM[:,1:3] @ k_0\n",
    "\n",
    "fig, ax = plt.subplots(figsize=(10,10))\n",
    "\n",
    "v_pk = np.array([1,1])[:,None]\n",
    "\n",
    "for i in range(N):\n",
    "    P_from_vpk = P_LPM[i,2] * V_pk\n",
    "    PRS[i] = P_from_vpk.augment(V_pk) + np.vstack((p_from_ic[i,:][:,None], np.zeros((2,1))))\n",
    "    PRS[i].view([0,1]).plot(ax)\n",
    "\n",
    "    PRS_slc = PRS[i].slice([2,3], v_pk)\n",
    "    PRS_slc.view([0,1]).plot(ax, color='r')"
   ]
  },
  {
   "cell_type": "code",
   "execution_count": null,
   "metadata": {},
   "outputs": [],
   "source": [
    "from multirtd.reachability import compute_FRS\n",
    "\n"
   ]
  },
  {
   "cell_type": "markdown",
   "metadata": {},
   "source": [
    "Test slicing"
   ]
  },
  {
   "cell_type": "code",
   "execution_count": null,
   "metadata": {},
   "outputs": [],
   "source": [
    "Z = PRS[-1]\n",
    "c = Z.c; G = Z.G\n",
    "\n",
    "slice_dim = [2,3]\n",
    "slice_pt = np.array([0.3,0.3])[:,None]"
   ]
  },
  {
   "cell_type": "code",
   "execution_count": null,
   "metadata": {},
   "outputs": [],
   "source": [
    "PRS[-1].slice([2,3], [0,0])"
   ]
  },
  {
   "cell_type": "code",
   "execution_count": null,
   "metadata": {},
   "outputs": [],
   "source": [
    "slice_idx = []\n",
    "\n",
    "for i in range(len(slice_dim)):\n",
    "    myidxs = np.nonzero(G[slice_dim[i]])[0]  # Find non-zero generators in slice dimension\n",
    "    if len(myidxs) != 1:\n",
    "        if len(myidxs) == 0:\n",
    "            print('No generator for slice index')\n",
    "        else:\n",
    "            print('Multiple generators for slice index')\n",
    "    slice_idx.append(myidxs[0])"
   ]
  },
  {
   "cell_type": "code",
   "execution_count": null,
   "metadata": {},
   "outputs": [],
   "source": [
    "slice_c = c[slice_dim]\n",
    "slice_G = G[slice_dim,:][:,slice_idx]\n",
    "slice_lambda = np.linalg.solve(slice_G, slice_pt - slice_c)  # Calculate coefficients for slice\n",
    "if slice_lambda.shape[1] > 1:\n",
    "    print('slice_lambda is not 1D')\n",
    "if np.any(np.abs(slice_lambda ) > 1):\n",
    "    print('Slice point is outside of bound of zonotope')\n",
    "\n",
    "newG = G\n",
    "newG = np.delete(newG, slice_idx, axis=1)\n",
    "newc = c+ G[:,slice_idx] @ slice_lambda"
   ]
  },
  {
   "cell_type": "code",
   "execution_count": null,
   "metadata": {},
   "outputs": [],
   "source": [
    "newc"
   ]
  },
  {
   "cell_type": "code",
   "execution_count": null,
   "metadata": {},
   "outputs": [],
   "source": [
    "newG"
   ]
  },
  {
   "cell_type": "code",
   "execution_count": null,
   "metadata": {},
   "outputs": [],
   "source": []
  }
 ],
 "metadata": {
  "kernelspec": {
   "display_name": "Python 3.10.4 ('multirtd')",
   "language": "python",
   "name": "python3"
  },
  "language_info": {
   "codemirror_mode": {
    "name": "ipython",
    "version": 3
   },
   "file_extension": ".py",
   "mimetype": "text/x-python",
   "name": "python",
   "nbconvert_exporter": "python",
   "pygments_lexer": "ipython3",
   "version": "3.10.4"
  },
  "orig_nbformat": 4,
  "vscode": {
   "interpreter": {
    "hash": "b7900ae5a5091ab8ae97346730ef89214b115ca17c2b60bd887bc81f0f2ad64d"
   }
  }
 },
 "nbformat": 4,
 "nbformat_minor": 2
}
