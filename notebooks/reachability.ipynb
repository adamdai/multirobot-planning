{
 "cells": [
  {
   "cell_type": "code",
   "execution_count": null,
   "metadata": {},
   "outputs": [],
   "source": [
    "import numpy as np\n",
    "import time\n",
    "import os\n",
    "import matplotlib.pyplot as plt\n",
    "\n",
    "import multirtd.utils as utils\n",
    "from multirtd.reachability.zonotope import Zonotope\n",
    "from multirtd.dynamics.LPM import LPM\n",
    "import multirtd.params as params\n",
    "\n",
    "%load_ext autoreload\n",
    "%autoreload 2"
   ]
  },
  {
   "cell_type": "code",
   "execution_count": null,
   "metadata": {},
   "outputs": [],
   "source": [
    "# System\n",
    "dt = 0.1\n",
    "n_s = 4  # State dimension\n",
    "n_c = 2  # Control dimension\n",
    "n_m = 2  # Measurement dimension\n",
    "\n",
    "A = np.eye(n_s)  # Dynamics matrix\n",
    "A[0:2,2:4] = dt*np.eye(2)\n",
    "B = np.array([[dt**2/2, 0],  # Control matrix\n",
    "              [0, dt**2/2],\n",
    "              [dt, 0],\n",
    "              [0, dt]])\n",
    "C = np.array([[1, 0, 0, 0],  # Measurement matrix\n",
    "              [0, 1, 0, 0]])\n",
    "\n",
    "Q_LQR = np.eye(n_s)\n",
    "R_LQR = np.eye(n_c)\n",
    "K = utils.dlqr_calculate(A, B, Q_LQR, R_LQR)\n",
    "\n",
    "Q = 0.01"
   ]
  },
  {
   "cell_type": "code",
   "execution_count": null,
   "metadata": {},
   "outputs": [],
   "source": [
    "LPM_file = os.path.join(os.getcwd(),'..', 'models', 'quadrotor_linear_planning_model.mat')\n",
    "lpm = LPM(LPM_file)"
   ]
  },
  {
   "cell_type": "markdown",
   "metadata": {},
   "source": [
    "LPM FRS Computation"
   ]
  },
  {
   "cell_type": "code",
   "execution_count": null,
   "metadata": {},
   "outputs": [],
   "source": [
    "# Peak velocity space\n",
    "v_max = 3\n",
    "c_pk = np.zeros((2,1))\n",
    "G_pk = v_max * np.eye(2)\n",
    "V_pk = Zonotope(c_pk, G_pk)\n",
    "\n",
    "# Zeros zonotope\n",
    "Z0 = Zonotope(np.zeros((2,1)), np.zeros((2,2)))\n",
    "\n",
    "N = len(lpm.time)  # Trajectory length\n",
    "P_LPM = lpm.P_mat.T\n",
    "\n",
    "PRS = N * [None]"
   ]
  },
  {
   "cell_type": "code",
   "execution_count": null,
   "metadata": {},
   "outputs": [],
   "source": [
    "# Fixed initial conditions\n",
    "v_0 = np.array([4,2])\n",
    "a_0 = np.array([5,5])\n",
    "k_0 = np.vstack((v_0, a_0))\n",
    "\n",
    "p_from_ic = P_LPM[:,1:3] @ k_0\n",
    "\n",
    "fig, ax = plt.subplots(figsize=(10,10))\n",
    "\n",
    "v_pk = np.array([1,1])[:,None]\n",
    "\n",
    "for i in range(N):\n",
    "    P_from_vpk = P_LPM[i,2] * V_pk\n",
    "    PRS[i] = P_from_vpk.augment(V_pk) + np.vstack((p_from_ic[i,:][:,None], np.zeros((2,1))))\n",
    "    PRS[i].view([0,1]).plot(ax)\n",
    "\n",
    "    PRS_slc = PRS[i].slice([2,3], v_pk)\n",
    "    PRS_slc.view([0,1]).plot(ax, color='r')"
   ]
  },
  {
   "cell_type": "markdown",
   "metadata": {},
   "source": [
    "Compute FRS"
   ]
  },
  {
   "cell_type": "code",
   "execution_count": null,
   "metadata": {},
   "outputs": [],
   "source": [
    "from multirtd.reachability import compute_FRS\n",
    "\n",
    "# Initial conditions\n",
    "p_0 = np.array([0,7])[:,None]\n",
    "v_0 = np.array([4,2])[:,None]\n",
    "a_0 = np.array([5,5])[:,None]\n",
    "\n",
    "FRS = compute_FRS(lpm, p_0, v_0, a_0)\n",
    "\n",
    "fig, ax = plt.subplots(figsize=(10,10))\n",
    "\n",
    "for Z in FRS:\n",
    "    Z.view([0,1]).plot(ax, alpha=0.0)"
   ]
  },
  {
   "cell_type": "markdown",
   "metadata": {},
   "source": [
    "Test slicing"
   ]
  },
  {
   "cell_type": "code",
   "execution_count": null,
   "metadata": {},
   "outputs": [],
   "source": [
    "v_pk = np.array([1,1])[:,None]\n",
    "print(FRS[-1].slice([2,3], v_pk))"
   ]
  },
  {
   "cell_type": "code",
   "execution_count": null,
   "metadata": {},
   "outputs": [],
   "source": [
    "fig, ax = plt.subplots(figsize=(10,10))\n",
    "v_pk = np.array([1,1])[:,None]\n",
    "\n",
    "for Z in FRS[1:]:\n",
    "    Z_slc = Z.slice([2,3], v_pk)\n",
    "    Z_slc.view([0,1]).plot(ax, alpha=0.0)"
   ]
  },
  {
   "cell_type": "markdown",
   "metadata": {},
   "source": [
    "Define obstacle"
   ]
  },
  {
   "cell_type": "code",
   "execution_count": null,
   "metadata": {},
   "outputs": [],
   "source": [
    "obs_c = np.array([2,5])[:,None]\n",
    "obs_G = np.eye(2)\n",
    "obs = Zonotope(obs_c, obs_G)\n",
    "\n",
    "fig, ax = plt.subplots(figsize=(10,10))\n",
    "\n",
    "obs.plot(ax, color='r')\n",
    "\n",
    "obs2_c = np.array([4.5,4])[:,None]\n",
    "obs2_G = np.eye(2)\n",
    "obs2 = Zonotope(obs2_c, obs2_G)\n",
    "\n",
    "obs2.plot(ax, color='r')\n",
    "\n",
    "for Z in FRS[1:]:\n",
    "    Z.view([0,1]).plot(ax, alpha=0.0)\n",
    "    Z_slc = Z.slice([2,3], np.array([x,y])[:,None])\n",
    "    Z_slc.view([0,1]).plot(ax, color = 'g', alpha=0.1)"
   ]
  },
  {
   "cell_type": "markdown",
   "metadata": {},
   "source": [
    "Generate collision constraints"
   ]
  },
  {
   "cell_type": "code",
   "execution_count": null,
   "metadata": {},
   "outputs": [],
   "source": [
    "from multirtd.reachability import generate_collision_constraints_FRS, check_collision_constraints\n",
    "\n",
    "# Generate collision constraints\n",
    "# NOTE: For now, only generate constraints for final element of FRS\n",
    "nearby_obs = [obs]\n",
    "#A_con, b_con = generate_collision_constraints(FRS[-1], nearby_obs)\n",
    "A_con, b_con = generate_collision_constraints_FRS(FRS, nearby_obs)\n",
    "\n",
    "#A_con2, b_con2 = generate_collision_constraints_FRS(FRS, [obs2])"
   ]
  },
  {
   "cell_type": "code",
   "execution_count": null,
   "metadata": {},
   "outputs": [],
   "source": [
    "# Plot constraints\n",
    "fig, ax = plt.subplots(figsize=(5,5))\n",
    "\n",
    "X,Y = np.mgrid[-params.V_MAX:params.V_MAX:0.1, -params.V_MAX:params.V_MAX:0.1]\n",
    "for x in np.linspace(-params.V_MAX, params.V_MAX, 100):\n",
    "    for y in np.linspace(-params.V_MAX, params.V_MAX, 100):\n",
    "        v_pk = np.array([x,y])[:,None]\n",
    "        if check_collision_constraints(A_con, b_con, v_pk): # and check_collision_constraints(A_con2, b_con2, v_pk):\n",
    "            ax.plot(x, y, 'b.')\n",
    "        else:\n",
    "            ax.plot(x, y, 'r.')"
   ]
  },
  {
   "cell_type": "markdown",
   "metadata": {},
   "source": [
    "Trajectory optimization"
   ]
  },
  {
   "cell_type": "code",
   "execution_count": null,
   "metadata": {},
   "outputs": [],
   "source": []
  }
 ],
 "metadata": {
  "kernelspec": {
   "display_name": "multirtd",
   "language": "python",
   "name": "python3"
  },
  "language_info": {
   "codemirror_mode": {
    "name": "ipython",
    "version": 3
   },
   "file_extension": ".py",
   "mimetype": "text/x-python",
   "name": "python",
   "nbconvert_exporter": "python",
   "pygments_lexer": "ipython3",
   "version": "3.9.15"
  },
  "latex_envs": {
   "LaTeX_envs_menu_present": true,
   "autoclose": false,
   "autocomplete": true,
   "bibliofile": "biblio.bib",
   "cite_by": "apalike",
   "current_citInitial": 1,
   "eqLabelWithNumbers": true,
   "eqNumInitial": 1,
   "hotkeys": {
    "equation": "Ctrl-E",
    "itemize": "Ctrl-I"
   },
   "labels_anchors": false,
   "latex_user_defs": false,
   "report_style_numbering": false,
   "user_envs_cfg": false
  },
  "vscode": {
   "interpreter": {
    "hash": "e6933d36d84087a72973de1731729e7d5afa974e6f879188c12c6ace520329ed"
   }
  }
 },
 "nbformat": 4,
 "nbformat_minor": 2
}
