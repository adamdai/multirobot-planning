{
 "cells": [
  {
   "cell_type": "code",
   "execution_count": null,
   "metadata": {},
   "outputs": [],
   "source": [
    "import numpy as np\n",
    "import time\n",
    "import os\n",
    "import matplotlib.pyplot as plt\n",
    "from scipy.optimize import minimize, LinearConstraint, NonlinearConstraint\n",
    "import tqdm as tqdm\n",
    "\n",
    "from multirtd.utils import rand_in_bounds, rot_mat_2D, plot_environment, plot_trajectory, check_obs_collision\n",
    "from multirtd.dynamics.dubins_model import dubins_traj, dubins_traj_fast, closed_form_dubins_traj\n",
    "import multirtd.params as params\n",
    "\n",
    "%load_ext autoreload\n",
    "%autoreload 2"
   ]
  },
  {
   "attachments": {},
   "cell_type": "markdown",
   "metadata": {},
   "source": [
    "Compute PRS"
   ]
  },
  {
   "cell_type": "code",
   "execution_count": null,
   "metadata": {},
   "outputs": [],
   "source": [
    "def f_traj(v, w, t):\n",
    "    x0 = np.zeros(3)\n",
    "    u = np.array([v, w])\n",
    "    dt = 0.1\n",
    "    return dubins_traj_fast(x0, u, int(t/dt), dt)"
   ]
  },
  {
   "cell_type": "code",
   "execution_count": null,
   "metadata": {},
   "outputs": [],
   "source": [
    "# Make an animation of the PRS growing over time\n",
    "from matplotlib import animation, rc\n",
    "from IPython.display import HTML\n",
    "\n",
    "#rc('animation', html='jshtml')\n",
    "rc('animation', html='html5')\n",
    "\n",
    "# Parameters\n",
    "v_max = 1.0\n",
    "w_max = 0.22\n",
    "t_0 = 0\n",
    "t_f = 30\n",
    "\n",
    "for w in np.linspace(-w_max, w_max, 100):\n",
    "    traj = f_traj(v_max, w, t_f)\n",
    "    plt.plot(traj[:,0], traj[:,1], 'k')\n",
    "\n",
    "plt.axis('equal')\n",
    "plt.show()"
   ]
  },
  {
   "cell_type": "code",
   "execution_count": null,
   "metadata": {},
   "outputs": [],
   "source": [
    "V_MAX = params.V_MAX\n",
    "W_MAX = params.W_MAX\n",
    "\n",
    "# Monte carlo\n",
    "for v in np.linspace(0, V_MAX, )"
   ]
  }
 ],
 "metadata": {
  "kernelspec": {
   "display_name": "multirtd",
   "language": "python",
   "name": "python3"
  },
  "language_info": {
   "codemirror_mode": {
    "name": "ipython",
    "version": 3
   },
   "file_extension": ".py",
   "mimetype": "text/x-python",
   "name": "python",
   "nbconvert_exporter": "python",
   "pygments_lexer": "ipython3",
   "version": "3.9.16"
  },
  "orig_nbformat": 4,
  "vscode": {
   "interpreter": {
    "hash": "e6933d36d84087a72973de1731729e7d5afa974e6f879188c12c6ace520329ed"
   }
  }
 },
 "nbformat": 4,
 "nbformat_minor": 2
}
