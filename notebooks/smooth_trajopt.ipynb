{
 "cells": [
  {
   "cell_type": "code",
   "execution_count": null,
   "metadata": {},
   "outputs": [],
   "source": [
    "import numpy as np\n",
    "import matplotlib.pyplot as plt\n",
    "\n",
    "import cvxpy as cp\n",
    "import torch\n",
    "from cvxpylayers.torch import CvxpyLayer\n",
    "\n",
    "%load_ext autoreload\n",
    "%autoreload 2"
   ]
  },
  {
   "cell_type": "code",
   "execution_count": null,
   "metadata": {},
   "outputs": [],
   "source": [
    "def dx(v, w, t, eps=1e-15):\n",
    "    return v * np.sin((w + eps) * t) / (w + eps)\n",
    "\n",
    "def dy(v, w, t, eps=1e-15):\n",
    "    return v * (1 - np.cos((w + eps) * t)) / (w + eps)\n",
    "\n",
    "def f(v, w, t, eps=1e-15):\n",
    "    return np.array([dx(v, w, t, eps), dy(v, w, t, eps)])"
   ]
  },
  {
   "cell_type": "code",
   "execution_count": null,
   "metadata": {},
   "outputs": [],
   "source": [
    "# Convex approximation for sine from pi to 2pi\n",
    "def sin_taylor(x):\n",
    "    # Taylor expansion of sine around 3*pi/2\n",
    "    # sin(x) = sin(3*pi/2) + cos(3*pi/2) * (x - 3*pi/2) - sin(3*pi/2) * (x - 3*pi/2)^2 / 2\n",
    "    #        = -1 + 0 * (x - 3*pi/2) - (-1) * (x - 3*pi/2)^2 / 2\n",
    "    #        = -1 + (x - 3*pi/2)^2 / 2\n",
    "    return -1 + (x - 3*np.pi/2)**2 / 2\n",
    "\n",
    "\n",
    "# Plot sin_taylor\n",
    "x = np.linspace(np.pi, 2*np.pi, 100)\n",
    "plt.plot(x, np.sin(x), label='sin')\n",
    "plt.plot(x, sin_taylor(x), label='sin_taylor')\n",
    "plt.legend()\n",
    "plt.show()"
   ]
  },
  {
   "cell_type": "code",
   "execution_count": null,
   "metadata": {},
   "outputs": [],
   "source": [
    "T = 3.0\n",
    "c = np.array([1, 0])\n",
    "\n",
    "\n",
    "v = cp.Variable(1)\n",
    "w = cp.Variable(1)\n",
    "t = cp.Variable(1)\n",
    "\n",
    "x = cp.Variable(1)\n",
    "constraints = [np.pi <= x, x <= 2*np.pi]\n",
    "#objective = cp.Minimize(cp.pnorm(f(v, w, t) - c, p=2))\n",
    "objective = cp.Minimize(sin_taylor(x))\n",
    "problem = cp.Problem(objective, constraints)\n",
    "assert problem.is_dpp()"
   ]
  },
  {
   "cell_type": "code",
   "execution_count": null,
   "metadata": {},
   "outputs": [],
   "source": [
    "#cvxpylayer = CvxpyLayer(problem, parameters=[v, w], variables=[t])\n",
    "v_tch = torch.randn(1, requires_grad=True)\n",
    "w_tch = torch.randn(1, requires_grad=True)\n",
    "\n",
    "# solve the problem\n",
    "solution, = cvxpylayer(v_tch, w_tch)\n",
    "\n",
    "# compute the gradient of the sum of the solution with respect to A, b\n",
    "solution.sum().backward()"
   ]
  }
 ],
 "metadata": {
  "kernelspec": {
   "display_name": "chimera",
   "language": "python",
   "name": "python3"
  },
  "language_info": {
   "codemirror_mode": {
    "name": "ipython",
    "version": 3
   },
   "file_extension": ".py",
   "mimetype": "text/x-python",
   "name": "python",
   "nbconvert_exporter": "python",
   "pygments_lexer": "ipython3",
   "version": "3.9.16"
  },
  "orig_nbformat": 4
 },
 "nbformat": 4,
 "nbformat_minor": 2
}
