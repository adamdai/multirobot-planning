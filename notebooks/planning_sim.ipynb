{
 "cells": [
  {
   "cell_type": "code",
   "execution_count": null,
   "metadata": {},
   "outputs": [],
   "source": [
    "import numpy as np\n",
    "import time\n",
    "import os\n",
    "import matplotlib.pyplot as plt\n",
    "\n",
    "from multirtd.simple_planner import Simple_Planner\n",
    "import multirtd.params as params\n",
    "\n",
    "%load_ext autoreload\n",
    "%autoreload 2"
   ]
  },
  {
   "cell_type": "code",
   "execution_count": null,
   "metadata": {},
   "outputs": [],
   "source": [
    "# Initialize planner\n",
    "p_0 = np.array([[-5], [0]])\n",
    "LPM_file = os.path.join(os.getcwd(),'..', 'models', 'quadrotor_linear_planning_model.mat')\n",
    "planner = Simple_Planner(LPM_file, p_0)"
   ]
  },
  {
   "cell_type": "code",
   "execution_count": null,
   "metadata": {},
   "outputs": [],
   "source": [
    "# Set planner goal and obstacles\n",
    "planner.p_goal = np.array([[5], [0]])\n",
    "# (center, radius) tuples\n",
    "planner.obstacles = [(np.array([3, 1]), 1.5),\n",
    "                     (np.array([0, -1.5]), 1.5),\n",
    "                     (np.array([-3, 1]), 1.5)]"
   ]
  },
  {
   "cell_type": "code",
   "execution_count": null,
   "metadata": {},
   "outputs": [],
   "source": [
    "# Visualize setup\n",
    "fig, ax = plt.subplots(figsize=(12,6))\n",
    "ax.set_xlim((-6, 6))\n",
    "ax.set_ylim((-3, 3))\n",
    "ax.grid()\n",
    "\n",
    "#ax.scatter(p_0[0], p_0[1], s=50, marker='^', color='b')\n",
    "ax.add_patch(plt.Circle(tuple(p_0), params.R_BOT, color='b'))\n",
    "ax.scatter(planner.p_goal[0], planner.p_goal[1], s=100, marker='*', color='g')\n",
    "\n",
    "plt_obs = []\n",
    "for obs in planner.obstacles:\n",
    "    ax.add_patch(plt.Circle(tuple(obs[0]), obs[1], color='r'))\n",
    "\n",
    "plt.show()"
   ]
  },
  {
   "cell_type": "code",
   "execution_count": null,
   "metadata": {},
   "outputs": [],
   "source": [
    "# \"Controller\" loop frequency \n",
    "# Determined by trajectory discretization\n",
    "# Currently the controller just pops off setpoints from the planner trajectories to save for plotting\n",
    "controller_hz = 10  # 0.1 s\n",
    "\n",
    "# Planner loop frequency\n",
    "# Determines time between replans\n",
    "planner_hz = 2  # 0.5 s\n",
    "\n",
    "t_sim = 0  # counter for simulation time\n",
    "trajectory = None\n",
    "traj_idx = 0\n",
    "done = False\n",
    "\n",
    "# Initialize state\n",
    "p = p_0\n",
    "v = np.zeros((2,1))\n",
    "a = np.zeros((2,1))\n",
    "# State history\n",
    "P = []\n",
    "planning_times = []\n",
    "\n",
    "while not done:\n",
    "\n",
    "    # Planner\n",
    "    if t_sim % int(controller_hz/planner_hz) == 0:\n",
    "        # Replan\n",
    "        print(\"Replanning: t_sim = \", t_sim)\n",
    "        start_t = time.time()\n",
    "        trajectory = planner.replan((p,v,a))\n",
    "        planning_times.append(time.time() - start_t)\n",
    "        traj_idx = 0\n",
    "\n",
    "    # Controller\n",
    "    # Pop off next setpoint\n",
    "    p = trajectory[0][:,traj_idx][:,None]\n",
    "    v = trajectory[1][:,traj_idx][:,None]\n",
    "    a = trajectory[2][:,traj_idx][:,None]\n",
    "    P.append(p)\n",
    "    traj_idx += 1\n",
    "\n",
    "    if np.linalg.norm(p - planner.p_goal) < params.R_GOAL_REACHED:\n",
    "        print(\"Goal reached\")\n",
    "        done = True\n",
    "\n",
    "    t_sim += 1\n",
    "\n",
    "P = np.hstack(P)\n",
    "print(\"Average planning time: \", np.mean(planning_times), \" seconds\")"
   ]
  },
  {
   "cell_type": "code",
   "execution_count": null,
   "metadata": {},
   "outputs": [],
   "source": [
    "# Visualize setup\n",
    "fig, ax = plt.subplots(figsize=(12,6))\n",
    "ax.set_xlim((-6, 6))\n",
    "ax.set_ylim((-3, 3))\n",
    "ax.grid()\n",
    "\n",
    "ax.add_patch(plt.Circle(tuple(p_0), params.R_BOT, color='b'))\n",
    "ax.scatter(planner.p_goal[0], planner.p_goal[1], s=100, marker='*', color='g')\n",
    "\n",
    "plt_obs = []\n",
    "for obs in planner.obstacles:\n",
    "    ax.add_patch(plt.Circle(tuple(obs[0]), obs[1], color='r'))\n",
    "\n",
    "# Plot trajectory\n",
    "ax.scatter(P[0,:], P[1,:], s=10, marker='o', color='b')\n",
    "\n",
    "plt.show()"
   ]
  },
  {
   "attachments": {},
   "cell_type": "markdown",
   "metadata": {},
   "source": [
    "Dubin's planner"
   ]
  },
  {
   "cell_type": "code",
   "execution_count": null,
   "metadata": {},
   "outputs": [],
   "source": [
    "from multirtd.dubins_planner import DubinsPlanner"
   ]
  },
  {
   "cell_type": "code",
   "execution_count": null,
   "metadata": {},
   "outputs": [],
   "source": [
    "# Initialize planner\n",
    "p_0 = np.array([-5, 0])\n",
    "LPM_file = os.path.join(os.getcwd(),'..', 'models', 'quadrotor_linear_planning_model.mat')\n",
    "planner = DubinsPlanner(LPM_file, p_0)\n",
    "\n",
    "# Set planner goal and obstacles\n",
    "planner.p_goal = np.array([5, 0])\n",
    "# (center, radius) tuples\n",
    "planner.obstacles = [(np.array([3, 1]), 1.5),\n",
    "                     (np.array([0, -1.5]), 1.5),\n",
    "                     (np.array([-3, 1]), 1.5)]"
   ]
  },
  {
   "cell_type": "code",
   "execution_count": null,
   "metadata": {},
   "outputs": [],
   "source": [
    "# \"Controller\" loop frequency \n",
    "# Determined by trajectory discretization\n",
    "# Currently the controller just pops off setpoints from the planner trajectories to save for plotting\n",
    "controller_hz = 10  # 0.1 s\n",
    "\n",
    "# Planner loop frequency\n",
    "# Determines time between replans\n",
    "planner_hz = 2  # 0.5 s\n",
    "\n",
    "t_sim = 0  # counter for simulation time\n",
    "trajectory = None\n",
    "traj_idx = 0\n",
    "done = False\n",
    "\n",
    "# Initialize state\n",
    "p = p_0\n",
    "v = np.zeros(2)\n",
    "a = np.zeros(2)\n",
    "theta = 0\n",
    "# State history\n",
    "P = []; V = []; A = []\n",
    "planning_times = []\n",
    "\n",
    "speeds = []\n",
    "omegas = []\n",
    "\n",
    "while not done:\n",
    "\n",
    "    # Planner\n",
    "    if t_sim % int(controller_hz/planner_hz) == 0:\n",
    "        # Replan\n",
    "        print(\"Replanning: t_sim = \", t_sim)\n",
    "        start_t = time.time()\n",
    "        trajectory = planner.replan((p,v,a))\n",
    "        planning_times.append(time.time() - start_t)\n",
    "        traj_idx = 0\n",
    "\n",
    "    # Controller\n",
    "    # Pop off next setpoint\n",
    "    p = trajectory[0][traj_idx]\n",
    "    v = trajectory[1][traj_idx]\n",
    "    a = trajectory[2][traj_idx]\n",
    "    P.append(p)\n",
    "    V.append(v)\n",
    "    traj_idx += 1\n",
    "\n",
    "    # speeds.append(trajectory[3])\n",
    "    # thetas.append(trajectory[4])\n",
    "    speeds.append(np.linalg.norm(v))\n",
    "    omegas.append((np.arctan2(v[1], v[0]) - theta) / 0.1)\n",
    "    theta = np.arctan2(v[1], v[0])\n",
    "\n",
    "    if np.linalg.norm(p - planner.p_goal) < params.R_GOAL_REACHED:\n",
    "        print(\"Goal reached\")\n",
    "        done = True\n",
    "\n",
    "    t_sim += 1\n",
    "\n",
    "P = np.array(P)\n",
    "V = np.array(V)\n",
    "print(\"Average planning time: \", np.mean(planning_times), \" seconds\")"
   ]
  },
  {
   "cell_type": "code",
   "execution_count": null,
   "metadata": {},
   "outputs": [],
   "source": [
    "np.arctan2(V[2][1], V[2][0])"
   ]
  },
  {
   "cell_type": "code",
   "execution_count": null,
   "metadata": {},
   "outputs": [],
   "source": [
    "omegas"
   ]
  },
  {
   "cell_type": "code",
   "execution_count": null,
   "metadata": {},
   "outputs": [],
   "source": [
    "# plot speeds and thetas over time in side by side plots\n",
    "fig, (ax1, ax2) = plt.subplots(1, 2, figsize=(12,6))\n",
    "ax1.plot(speeds)\n",
    "ax1.set_title('Speeds')\n",
    "ax2.plot(omegas)\n",
    "ax2.set_title('Omegas')\n",
    "plt.show()\n"
   ]
  },
  {
   "cell_type": "code",
   "execution_count": null,
   "metadata": {},
   "outputs": [],
   "source": [
    "dt = 0.1\n",
    "x_0 = np.array([-5, 0, 0])\n",
    "traj = []\n",
    "for i in range(len(speeds)):\n",
    "    traj.append(x_0)\n",
    "    x_0 = x_0 + np.array([speeds[i]*np.cos(x_0[2]), speeds[i]*np.sin(x_0[2]), omegas[i]])*dt    "
   ]
  },
  {
   "cell_type": "code",
   "execution_count": null,
   "metadata": {},
   "outputs": [],
   "source": [
    "traj = np.array(traj)\n",
    "# Plot trajectory\n",
    "plt.figure()\n",
    "plt.plot(traj[:,0], traj[:,1])\n",
    "plt.title(\"Trajectory\")\n"
   ]
  },
  {
   "cell_type": "markdown",
   "metadata": {},
   "source": [
    "## Multiple agents"
   ]
  },
  {
   "cell_type": "code",
   "execution_count": null,
   "metadata": {},
   "outputs": [],
   "source": [
    "# Initialize planner\n",
    "p_0_1 = np.array([[-5], [0]])\n",
    "LPM_file = os.path.join(os.getcwd(),'..', 'models', 'quadrotor_linear_planning_model.mat')\n",
    "planner_1 = Simple_Planner(LPM_file, p_0_1)\n",
    "p_0_2 = np.array([[5], [-2]])\n",
    "planner_2 = Simple_Planner(LPM_file, p_0_2)\n",
    "\n",
    "# Set planner goal and obstacles\n",
    "planner_1.p_goal = np.array([[5], [0]])\n",
    "planner_2.p_goal = np.array([[-5], [-2]])\n",
    "# (center, radius) tuples\n",
    "planner_1.obstacles = [(np.array([3, 1]), 1.5),\n",
    "                     (np.array([0, -1.5]), 1.5),\n",
    "                     (np.array([-3, 1]), 1.5)]\n",
    "planner_2.obstacles = [(np.array([3, 1]), 1.5),\n",
    "                     (np.array([0, -1.5]), 1.5),\n",
    "                     (np.array([-3, 1]), 1.5)]"
   ]
  },
  {
   "cell_type": "code",
   "execution_count": null,
   "metadata": {},
   "outputs": [],
   "source": [
    "# \"Controller\" loop frequency \n",
    "# Determined by trajectory discretization\n",
    "# Currently the controller just pops off setpoints from the planner trajectories to save for plotting\n",
    "controller_hz = 10  # 0.1 s\n",
    "\n",
    "# Planner loop frequency\n",
    "# Determines time between replans\n",
    "planner_hz = 2  # 0.5 s\n",
    "\n",
    "t_sim = 0  # counter for simulation time\n",
    "trajectory = None\n",
    "traj_idx = 0\n",
    "done = False\n",
    "\n",
    "# Initialize state\n",
    "p_1 = p_0_1\n",
    "v_1 = np.zeros((2,1))\n",
    "a_1 = np.zeros((2,1))\n",
    "p_2 = p_0_2\n",
    "v_2 = np.zeros((2,1))\n",
    "a_2 = np.zeros((2,1))\n",
    "# State history\n",
    "P_1 = []\n",
    "P_2 = []\n",
    "\n",
    "while not done:\n",
    "\n",
    "    # Planner\n",
    "    if t_sim % int(controller_hz/planner_hz) == 0:\n",
    "        # Replan\n",
    "        print(\"Replanning: t_sim = \", t_sim)\n",
    "        trajectory_1 = planner_1.replan((p_1,v_1,a_1))\n",
    "        trajectory_2 = planner_2.replan((p_2,v_2,a_2))\n",
    "        traj_idx = 0\n",
    "\n",
    "    # Controller\n",
    "    # Pop off next setpoint\n",
    "    p_1 = trajectory_1[0][:,traj_idx][:,None]\n",
    "    v_1 = trajectory_1[1][:,traj_idx][:,None]\n",
    "    a_1 = trajectory_1[2][:,traj_idx][:,None]\n",
    "    P_1.append(p_1)\n",
    "    p_2 = trajectory_2[0][:,traj_idx][:,None]\n",
    "    v_2 = trajectory_2[1][:,traj_idx][:,None]\n",
    "    a_2 = trajectory_2[2][:,traj_idx][:,None]\n",
    "    P_2.append(p_2)\n",
    "    traj_idx += 1\n",
    "\n",
    "    if (np.linalg.norm(p_1 - planner_1.p_goal) < params.R_GOAL_REACHED) and (np.linalg.norm(p_2 - planner_2.p_goal) < params.R_GOAL_REACHED):\n",
    "        print(\"Goal reached\")\n",
    "        done = True\n",
    "\n",
    "    t_sim += 1\n",
    "\n",
    "P_1 = np.hstack(P_1)\n",
    "P_2 = np.hstack(P_2)"
   ]
  },
  {
   "cell_type": "code",
   "execution_count": null,
   "metadata": {},
   "outputs": [],
   "source": [
    "# Visualize \n",
    "fig, ax = plt.subplots(figsize=(12,6))\n",
    "ax.set_xlim((-6, 6))\n",
    "ax.set_ylim((-3, 3))\n",
    "ax.grid()\n",
    "\n",
    "# Start and goal\n",
    "ax.add_patch(plt.Circle(tuple(p_0_1), params.R_BOT, color='b'))\n",
    "ax.scatter(planner_1.p_goal[0], planner_1.p_goal[1], s=100, marker='*', color='g')\n",
    "ax.add_patch(plt.Circle(tuple(p_0_2), params.R_BOT, color='b'))\n",
    "ax.scatter(planner_2.p_goal[0], planner_2.p_goal[1], s=100, marker='*', color='g')\n",
    "\n",
    "plt_obs = []\n",
    "for obs in planner.obstacles:\n",
    "    ax.add_patch(plt.Circle(tuple(obs[0]), obs[1], color='r'))\n",
    "\n",
    "# Plot trajectory\n",
    "ax.scatter(P_1[0,:], P_1[1,:], s=10, marker='o', color='b')\n",
    "# Plot trajectory\n",
    "ax.scatter(P_2[0,:], P_2[1,:], s=10, marker='o', color='b')\n",
    "\n",
    "plt.show()"
   ]
  },
  {
   "cell_type": "code",
   "execution_count": null,
   "metadata": {},
   "outputs": [],
   "source": []
  }
 ],
 "metadata": {
  "kernelspec": {
   "display_name": "multirtd",
   "language": "python",
   "name": "python3"
  },
  "language_info": {
   "codemirror_mode": {
    "name": "ipython",
    "version": 3
   },
   "file_extension": ".py",
   "mimetype": "text/x-python",
   "name": "python",
   "nbconvert_exporter": "python",
   "pygments_lexer": "ipython3",
   "version": "3.9.16"
  },
  "orig_nbformat": 4,
  "vscode": {
   "interpreter": {
    "hash": "e6933d36d84087a72973de1731729e7d5afa974e6f879188c12c6ace520329ed"
   }
  }
 },
 "nbformat": 4,
 "nbformat_minor": 2
}
