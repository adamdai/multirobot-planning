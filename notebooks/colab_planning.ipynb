{
 "cells": [
  {
   "cell_type": "markdown",
   "metadata": {},
   "source": [
    "# Collaborative Planning"
   ]
  },
  {
   "cell_type": "code",
   "execution_count": null,
   "metadata": {},
   "outputs": [],
   "source": [
    "import numpy as np\n",
    "import matplotlib.pyplot as plt\n",
    "from scipy.optimize import minimize, LinearConstraint"
   ]
  },
  {
   "cell_type": "code",
   "execution_count": null,
   "metadata": {},
   "outputs": [],
   "source": [
    "# Flightroom dimensions (meters)\n",
    "L = 16  # -8 to 8\n",
    "W = 6   # -3 to 3\n",
    "\n",
    "\n",
    "N = 4  # Number of robots\n",
    "n = 2  # State dimension\n",
    "\n",
    "\n",
    "bot_positions = np.zeros((N, n))\n",
    "start_positions = np.array([[-6.0, 2.0],\n",
    "                            [-5.0, 1.0],\n",
    "                            [-5.0, -1.0],\n",
    "                            [-6.0, -2.0]])\n",
    "goal_positions = np.array([[6.0, 2.0],\n",
    "                           [5.0, 1.0],\n",
    "                           [5.0, -1.0],\n",
    "                           [6.0, -2.0]])\n",
    "\n",
    "plt.scatter(x=start_positions[:,0], y=start_positions[:,1])\n",
    "plt.scatter(x=goal_positions[:,0], y=goal_positions[:,1], c='green', marker='X')\n",
    "plt.axis('equal')\n",
    "plt.show()"
   ]
  },
  {
   "cell_type": "markdown",
   "metadata": {},
   "source": [
    "## Formation cost\n",
    "* Greedy - each robot tries to maximize its own geometry, individual cost for each agent\n",
    "    * GDOP per robot\n",
    "* Colab - each robot tries to maximize geometry of team, overall cost for whole team"
   ]
  },
  {
   "cell_type": "code",
   "execution_count": null,
   "metadata": {},
   "outputs": [],
   "source": [
    "def formation_cost(bot_positions):\n",
    "    \"\"\"Per-robot formation cost\n",
    "    \"\"\"\n",
    "    N = len(bot_positions)\n",
    "    costs = []\n",
    "\n",
    "    for i, bot in enumerate(bot_positions):\n",
    "        LOS_vecs = np.delete(bot_positions, i, axis=0) - bot\n",
    "        LOS_vecs = LOS_vecs / np.linalg.norm(LOS_vecs, axis=1)[:,None]\n",
    "        A = np.hstack((LOS_vecs, np.ones((N-1, 1))))\n",
    "        Q = np.linalg.inv(A.T @ A)\n",
    "        GDOP = np.sqrt(np.trace(Q))\n",
    "        costs.append(GDOP)\n",
    "\n",
    "    return costs"
   ]
  },
  {
   "cell_type": "code",
   "execution_count": null,
   "metadata": {},
   "outputs": [],
   "source": [
    "def goal_cost(bot_positions, goal_positions):\n",
    "    \"\"\"Per-robot goal cost\n",
    "    \"\"\"\n",
    "    dists = np.linalg.norm(bot_positions - goal_positions, axis=1)\n",
    "    return dists"
   ]
  },
  {
   "cell_type": "code",
   "execution_count": null,
   "metadata": {},
   "outputs": [],
   "source": [
    "def total_cost(dx, x, goal, lmbda):\n",
    "    \"\"\"Total cost objective for planning\n",
    "    \"\"\"\n",
    "    dx = dx.reshape(x.shape)\n",
    "    goal_costval = np.sum(goal_cost(x + dx, goal))\n",
    "    formation_costval = np.sum(formation_cost(x + dx))\n",
    "    # print(f\"goal: {goal_costval}, formation: {formation_costval}\")\n",
    "    return goal_costval + lmbda * formation_costval"
   ]
  },
  {
   "cell_type": "code",
   "execution_count": null,
   "metadata": {},
   "outputs": [],
   "source": [
    "def colab_planner(curr, goal, lmbda=1.0):\n",
    "    \"\"\"Centralized collaborative planner\n",
    "\n",
    "    Takes in current robot positions and goal positions, and outputs \n",
    "    waypoints for next iteration\n",
    "\n",
    "    Each waypoint has a max distance from previous position\n",
    "\n",
    "    Goal cost + Formation cost\n",
    "    \n",
    "    Goal cost: distance to goal\n",
    "    Formation cost: condition number of geometry matrix\n",
    "\n",
    "    Lambda (tradeoff term): weight goal cost higher closer to goal\n",
    "\n",
    "    \"\"\"    \n",
    "    N, n = curr.shape\n",
    "    D_MAX = 0.2\n",
    "\n",
    "    cons = LinearConstraint(np.eye(N * n), -D_MAX, D_MAX)\n",
    "    res = minimize(total_cost, np.zeros(N * n), args=(curr, goal, lmbda), constraints=cons)\n",
    "    dx = res.x\n",
    "\n",
    "    return dx.reshape(N, n)"
   ]
  },
  {
   "cell_type": "code",
   "execution_count": null,
   "metadata": {},
   "outputs": [],
   "source": [
    "def lmbda_map(x):\n",
    "    return 1 - 1 / (x + 1) "
   ]
  },
  {
   "cell_type": "code",
   "execution_count": null,
   "metadata": {},
   "outputs": [],
   "source": [
    "lmbda_map(10)"
   ]
  },
  {
   "cell_type": "code",
   "execution_count": null,
   "metadata": {},
   "outputs": [],
   "source": [
    "x = start_positions.copy()\n",
    "x_hist = []\n",
    "max_iters = 100\n",
    "\n",
    "for i in range(max_iters):\n",
    "    dists = np.linalg.norm(x - goal_positions, axis=1)\n",
    "    if np.all(dists < 0.5):\n",
    "        break\n",
    "    lmbda = 0.01 * lmbda_map(0.1 * np.sum(dists))\n",
    "    print(np.sum(dists), lmbda)\n",
    "\n",
    "    dx = colab_planner(x, goal_positions, lmbda=1.0)\n",
    "    x += dx\n",
    "    x_hist.append(x.copy())\n",
    "\n",
    "x_hist = np.stack(x_hist)"
   ]
  },
  {
   "cell_type": "code",
   "execution_count": null,
   "metadata": {},
   "outputs": [],
   "source": [
    "for i in range(N):\n",
    "    plt.scatter(x=x_hist[:,i,0], y=x_hist[:,i,1])\n",
    "plt.axis('equal')\n",
    "plt.show()"
   ]
  },
  {
   "cell_type": "code",
   "execution_count": null,
   "metadata": {},
   "outputs": [],
   "source": []
  }
 ],
 "metadata": {
  "interpreter": {
   "hash": "8fd823e3f2ebac8b3df648eb44de178e873ee9aa4d531ff5ae268ffa088d6688"
  },
  "kernelspec": {
   "display_name": "Python 3.9.18 64-bit ('multi': conda)",
   "name": "python3"
  },
  "language_info": {
   "codemirror_mode": {
    "name": "ipython",
    "version": 3
   },
   "file_extension": ".py",
   "mimetype": "text/x-python",
   "name": "python",
   "nbconvert_exporter": "python",
   "pygments_lexer": "ipython3",
   "version": "3.9.18"
  },
  "orig_nbformat": 4
 },
 "nbformat": 4,
 "nbformat_minor": 2
}
