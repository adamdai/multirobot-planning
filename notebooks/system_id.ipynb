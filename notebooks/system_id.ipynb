{
 "cells": [
  {
   "cell_type": "code",
   "execution_count": 1,
   "metadata": {},
   "outputs": [],
   "source": [
    "import numpy as np\n",
    "import os"
   ]
  },
  {
   "cell_type": "code",
   "execution_count": 7,
   "metadata": {},
   "outputs": [
    {
     "name": "stdout",
     "output_type": "stream",
     "text": [
      "(50, 3)\n",
      "(50, 3)\n",
      "(50, 3)\n",
      "(50, 3)\n",
      "(50, 3)\n",
      "(50, 3)\n",
      "(50, 3)\n",
      "(50, 3)\n",
      "(50, 3)\n",
      "(50, 3)\n",
      "(50, 3)\n",
      "(50, 3)\n",
      "(50, 3)\n",
      "(50, 3)\n",
      "(50, 3)\n",
      "(50, 3)\n",
      "(50, 3)\n",
      "(50, 3)\n",
      "(50, 3)\n",
      "(50, 3)\n",
      "(50, 3)\n",
      "(50, 3)\n",
      "(50, 3)\n",
      "(50, 3)\n",
      "(50, 3)\n",
      "(50, 3)\n",
      "(50, 3)\n",
      "(50, 3)\n",
      "(50, 3)\n"
     ]
    }
   ],
   "source": [
    "data_path = os.path.join(os.getcwd(), '..', 'data', 'turtlebot_system_id', '1-16-2023')\n",
    "data_files = os.listdir(data_path)\n",
    "\n",
    "for file in data_files:\n",
    "    data = np.load(os.path.join(data_path, file))\n",
    "    print(data.shape)"
   ]
  },
  {
   "cell_type": "code",
   "execution_count": null,
   "metadata": {},
   "outputs": [],
   "source": []
  }
 ],
 "metadata": {
  "kernelspec": {
   "display_name": "multirtd",
   "language": "python",
   "name": "python3"
  },
  "language_info": {
   "codemirror_mode": {
    "name": "ipython",
    "version": 3
   },
   "file_extension": ".py",
   "mimetype": "text/x-python",
   "name": "python",
   "nbconvert_exporter": "python",
   "pygments_lexer": "ipython3",
   "version": "3.9.15"
  },
  "orig_nbformat": 4,
  "vscode": {
   "interpreter": {
    "hash": "e6933d36d84087a72973de1731729e7d5afa974e6f879188c12c6ace520329ed"
   }
  }
 },
 "nbformat": 4,
 "nbformat_minor": 2
}
