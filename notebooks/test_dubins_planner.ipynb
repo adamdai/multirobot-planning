{
 "cells": [
  {
   "cell_type": "code",
   "execution_count": null,
   "metadata": {},
   "outputs": [],
   "source": [
    "import numpy as np\n",
    "import time\n",
    "import os\n",
    "import matplotlib.pyplot as plt\n",
    "\n",
    "import multirtd.params as params\n",
    "from multirtd.dubins_planner import DubinsPlanner\n",
    "\n",
    "%load_ext autoreload\n",
    "%autoreload 2"
   ]
  },
  {
   "attachments": {},
   "cell_type": "markdown",
   "metadata": {},
   "source": [
    "Test scenario with obstacles"
   ]
  },
  {
   "cell_type": "code",
   "execution_count": null,
   "metadata": {},
   "outputs": [],
   "source": [
    "p_0 = np.array([[-5], [0]])\n",
    "\n",
    "planner = DubinsPlanner()\n",
    "# Set planner goal and obstacles\n",
    "planner.p_goal = np.array([[5], [0]])\n",
    "# (center, radius) tuples\n",
    "planner.obstacles = [(np.array([3, 1]), 1.5),\n",
    "                     (np.array([0, -1.5]), 1.5),\n",
    "                     (np.array([-3, 1]), 1.5)]"
   ]
  },
  {
   "cell_type": "code",
   "execution_count": null,
   "metadata": {},
   "outputs": [],
   "source": [
    "# Visualize setup\n",
    "fig, ax = plt.subplots(figsize=(12,6))\n",
    "ax.set_xlim((-6, 6))\n",
    "ax.set_ylim((-3, 3))\n",
    "ax.grid()\n",
    "\n",
    "#ax.scatter(p_0[0], p_0[1], s=50, marker='^', color='b')\n",
    "ax.add_patch(plt.Circle(tuple(p_0), params.R_BOT, color='b'))\n",
    "ax.scatter(planner.p_goal[0], planner.p_goal[1], s=100, marker='*', color='g')\n",
    "\n",
    "plt_obs = []\n",
    "for obs in planner.obstacles:\n",
    "    ax.add_patch(plt.Circle(tuple(obs[0]), obs[1], color='r'))\n",
    "\n",
    "plt.show()"
   ]
  },
  {
   "cell_type": "code",
   "execution_count": null,
   "metadata": {},
   "outputs": [],
   "source": [
    "# \"Controller\" loop frequency \n",
    "# Determined by trajectory discretization\n",
    "# Currently the controller just pops off setpoints from the planner trajectories to save for plotting\n",
    "controller_hz = 10  # 0.1 s\n",
    "\n",
    "# Planner loop frequency\n",
    "# Determines time between replans\n",
    "planner_hz = 2  # 0.5 s\n",
    "\n",
    "t_sim = 0  # counter for simulation time\n",
    "trajectory = None\n",
    "traj_idx = 0\n",
    "done = False\n",
    "\n",
    "# Initialize state\n",
    "x = np.zeros(3)\n",
    "# State history\n",
    "X = []\n",
    "planning_times = []\n",
    "\n",
    "while not done:\n",
    "\n",
    "    # Planner\n",
    "    if t_sim % int(controller_hz/planner_hz) == 0:\n",
    "        # Replan\n",
    "        print(\"Replanning: t_sim = \", t_sim)\n",
    "        start_t = time.time()\n",
    "        trajectory = planner.replan(x)\n",
    "        planning_times.append(time.time() - start_t)\n",
    "        traj_idx = 0\n",
    "\n",
    "    # Controller\n",
    "    # Pop off next setpoint\n",
    "    x = trajectory[traj_idx]\n",
    "    X.append(x)\n",
    "    traj_idx += 1\n",
    "\n",
    "    if np.linalg.norm(x[:-1] - planner.p_goal) < params.R_GOAL_REACHED:\n",
    "        print(\"Goal reached\")\n",
    "        done = True\n",
    "\n",
    "    t_sim += 1\n",
    "\n",
    "# P = np.hstack(P)\n",
    "print(\"Average planning time: \", np.mean(planning_times), \" seconds\")"
   ]
  },
  {
   "attachments": {},
   "cell_type": "markdown",
   "metadata": {},
   "source": [
    "Test scenario with multiple obstacles and uncertainty regions"
   ]
  },
  {
   "cell_type": "markdown",
   "metadata": {},
   "source": []
  }
 ],
 "metadata": {
  "kernelspec": {
   "display_name": "multirtd",
   "language": "python",
   "name": "python3"
  },
  "language_info": {
   "codemirror_mode": {
    "name": "ipython",
    "version": 3
   },
   "file_extension": ".py",
   "mimetype": "text/x-python",
   "name": "python",
   "nbconvert_exporter": "python",
   "pygments_lexer": "ipython3",
   "version": "3.9.16"
  },
  "orig_nbformat": 4,
  "vscode": {
   "interpreter": {
    "hash": "e6933d36d84087a72973de1731729e7d5afa974e6f879188c12c6ace520329ed"
   }
  }
 },
 "nbformat": 4,
 "nbformat_minor": 2
}
