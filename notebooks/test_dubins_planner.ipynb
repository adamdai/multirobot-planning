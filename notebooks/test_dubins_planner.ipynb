{
 "cells": [
  {
   "cell_type": "code",
   "execution_count": null,
   "metadata": {},
   "outputs": [],
   "source": [
    "import numpy as np\n",
    "import time\n",
    "import os\n",
    "import matplotlib.pyplot as plt\n",
    "from tqdm import tqdm\n",
    "\n",
    "import multirtd.params as params\n",
    "from multirtd.dubins_planner import DubinsPlanner\n",
    "from multirtd.dubins_model import Turtlebot\n",
    "\n",
    "%load_ext autoreload\n",
    "%autoreload 2"
   ]
  },
  {
   "attachments": {},
   "cell_type": "markdown",
   "metadata": {},
   "source": [
    "Test scenario with obstacles"
   ]
  },
  {
   "cell_type": "code",
   "execution_count": null,
   "metadata": {},
   "outputs": [],
   "source": [
    "x0 = np.array([-5, 0, 0])\n",
    "\n",
    "planner = DubinsPlanner()\n",
    "# Set planner goal and obstacles\n",
    "planner.p_goal = np.array([5, 0])\n",
    "# (center, radius) tuples\n",
    "obs_R = 0.5\n",
    "planner.obstacles = [(np.array([3, 1]), obs_R),\n",
    "                     (np.array([0, -1.5]), obs_R),\n",
    "                     (np.array([-3, 1]), obs_R)]"
   ]
  },
  {
   "cell_type": "code",
   "execution_count": null,
   "metadata": {},
   "outputs": [],
   "source": [
    "# Visualize setup\n",
    "fig, ax = plt.subplots(figsize=(12,6))\n",
    "ax.set_xlim((-6, 6))\n",
    "ax.set_ylim((-3, 3))\n",
    "ax.grid()\n",
    "\n",
    "ax.add_patch(plt.Circle(tuple(x0[:-1]), params.R_BOT, color='b'))\n",
    "ax.scatter(planner.p_goal[0], planner.p_goal[1], s=100, marker='*', color='g')\n",
    "\n",
    "plt_obs = []\n",
    "for obs in planner.obstacles:\n",
    "    ax.add_patch(plt.Circle(tuple(obs[0]), obs[1], color='r'))\n",
    "\n",
    "plt.show()"
   ]
  },
  {
   "cell_type": "code",
   "execution_count": null,
   "metadata": {},
   "outputs": [],
   "source": [
    "turtlebot = Turtlebot(x0=x0)\n",
    "turtlebot.sigma = 0.01\n",
    "\n",
    "controller_hz = 10\n",
    "planner_hz = 2\n",
    "\n",
    "t_sim = 0\n",
    "planning_times = []\n",
    "\n",
    "done = False\n",
    "pbar = tqdm()\n",
    "while not done:\n",
    "    \n",
    "    if t_sim % int(controller_hz/planner_hz) == 0:\n",
    "        start_time = time.time()\n",
    "        u = planner.traj_opt_sample(turtlebot.x, 0)\n",
    "        planning_times.append(time.time() - start_time)\n",
    "\n",
    "    turtlebot.step(u)\n",
    "    #print(turtlebot.x)\n",
    "    t_sim += 1\n",
    "\n",
    "    if np.linalg.norm(turtlebot.x[:-1] - planner.p_goal) < params.R_GOAL_REACHED:\n",
    "        print(\"Goal reached\")\n",
    "        done = True\n",
    "    \n",
    "    pbar.update(t_sim)\n",
    "\n",
    "print(\"Avg planning time = \", np.mean(planning_times), \" seconds\")"
   ]
  },
  {
   "cell_type": "code",
   "execution_count": null,
   "metadata": {},
   "outputs": [],
   "source": [
    "traj = np.stack(turtlebot.x_hist)[:,:-1]\n",
    "\n",
    "# Visualize setup\n",
    "fig, ax = plt.subplots(figsize=(12,6))\n",
    "ax.set_xlim((-6, 6))\n",
    "ax.set_ylim((-3, 3))\n",
    "ax.grid()\n",
    "\n",
    "ax.add_patch(plt.Circle(tuple(x0[:-1]), params.R_BOT, color='b'))\n",
    "ax.scatter(planner.p_goal[0], planner.p_goal[1], s=100, marker='*', color='g')\n",
    "\n",
    "plt_obs = []\n",
    "for obs in planner.obstacles:\n",
    "    ax.add_patch(plt.Circle(tuple(obs[0]), obs[1], color='r', alpha=0.5))\n",
    "\n",
    "ax.plot(traj[:,0], traj[:,1])\n",
    "for i in range(len(traj)):\n",
    "    ax.add_patch(plt.Circle(tuple(traj[i]), params.R_BOT, color='b', alpha=0.02))\n",
    "\n",
    "plt.show()"
   ]
  },
  {
   "attachments": {},
   "cell_type": "markdown",
   "metadata": {},
   "source": [
    "Test scenario with multiple obstacles and uncertainty regions"
   ]
  },
  {
   "cell_type": "code",
   "execution_count": null,
   "metadata": {},
   "outputs": [],
   "source": [
    "planner.obstacles = [(np.array([0, 0]), 1.0)]\n",
    "\n",
    "# Uncertainty region\n",
    "unc_regions = [(np.array([0, 0]), 2.0)]"
   ]
  },
  {
   "cell_type": "code",
   "execution_count": null,
   "metadata": {},
   "outputs": [],
   "source": [
    "# Visualize setup\n",
    "fig, ax = plt.subplots(figsize=(12,6))\n",
    "ax.set_xlim((-6, 6))\n",
    "ax.set_ylim((-3, 3))\n",
    "ax.grid()\n",
    "\n",
    "ax.add_patch(plt.Circle(tuple(x0[:-1]), params.R_BOT, color='b'))\n",
    "ax.scatter(planner.p_goal[0], planner.p_goal[1], s=100, marker='*', color='g')\n",
    "\n",
    "# Single obstacle with uncertainty region around it\n",
    "for obs in planner.obstacles:\n",
    "    ax.add_patch(plt.Circle(tuple(obs[0]), obs[1], color='r', alpha=0.5))\n",
    "\n",
    "for reg in unc_regions:\n",
    "    ax.add_patch(plt.Circle(tuple(reg[0]), reg[1], color='r', alpha=0.1))\n",
    "\n",
    "plt.show()"
   ]
  },
  {
   "cell_type": "code",
   "execution_count": null,
   "metadata": {},
   "outputs": [],
   "source": [
    "turtlebot = Turtlebot(x0=x0)\n",
    "turtlebot.sigma = 0.01\n",
    "\n",
    "controller_hz = 10\n",
    "planner_hz = 2\n",
    "\n",
    "t_sim = 0\n",
    "planning_times = []\n",
    "\n",
    "done = False\n",
    "pbar = tqdm()\n",
    "while not done:\n",
    "    \n",
    "    if t_sim % int(controller_hz/planner_hz) == 0:\n",
    "        start_time = time.time()\n",
    "        u = planner.traj_opt_sample(turtlebot.x, 0)\n",
    "        planning_times.append(time.time() - start_time)\n",
    "\n",
    "    turtlebot.step(u)\n",
    "    #print(turtlebot.x)\n",
    "    t_sim += 1\n",
    "\n",
    "    if np.linalg.norm(turtlebot.x[:-1] - planner.p_goal) < params.R_GOAL_REACHED:\n",
    "        print(\"Goal reached\")\n",
    "        done = True\n",
    "    \n",
    "    pbar.update(t_sim)\n",
    "\n",
    "print(\"Avg planning time = \", np.mean(planning_times), \" seconds\")"
   ]
  }
 ],
 "metadata": {
  "kernelspec": {
   "display_name": "multirtd",
   "language": "python",
   "name": "python3"
  },
  "language_info": {
   "codemirror_mode": {
    "name": "ipython",
    "version": 3
   },
   "file_extension": ".py",
   "mimetype": "text/x-python",
   "name": "python",
   "nbconvert_exporter": "python",
   "pygments_lexer": "ipython3",
   "version": "3.9.16"
  },
  "orig_nbformat": 4,
  "vscode": {
   "interpreter": {
    "hash": "e6933d36d84087a72973de1731729e7d5afa974e6f879188c12c6ace520329ed"
   }
  }
 },
 "nbformat": 4,
 "nbformat_minor": 2
}
