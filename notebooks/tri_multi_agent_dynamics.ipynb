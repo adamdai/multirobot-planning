{
 "cells": [
  {
   "cell_type": "code",
   "execution_count": null,
   "metadata": {},
   "outputs": [],
   "source": [
    "%matplotlib widget\n",
    "import numpy as np\n",
    "import matplotlib.pyplot as plt\n",
    "from matplotlib.animation import FuncAnimation\n",
    "\n",
    "%load_ext autoreload\n",
    "%autoreload 2"
   ]
  },
  {
   "cell_type": "code",
   "execution_count": null,
   "metadata": {},
   "outputs": [],
   "source": [
    "# Parameters\n",
    "R = 5\n",
    "omega_1 = 0.5  # leader speed [rad/s]\n",
    "N = 100  # number of timesteps\n",
    "T = np.linspace(0, 10, N)  # time vector\n",
    "theta_sigma = 0.01  # standard deviation of theta dynamics noise\n",
    "\n",
    "# Initial conditions\n",
    "theta_1 = np.pi  # leader state\n",
    "theta_2 = 0  # follower state"
   ]
  },
  {
   "cell_type": "code",
   "execution_count": null,
   "metadata": {},
   "outputs": [],
   "source": [
    "# Dynamics matrix\n",
    "dt = 0.1\n",
    "K = 1\n",
    "A = np.array([[1, dt, 0, 0],\n",
    "              [0, 1, 0, 0],\n",
    "              [0, 0, 1, dt],\n",
    "              [K, 1, -K, 0]])\n",
    "\n",
    "# Bias vector\n",
    "b = np.array([[0],\n",
    "              [0],\n",
    "              [0],\n",
    "              [-K*np.pi]])\n",
    "\n",
    "x = np.array([[theta_1],\n",
    "              [omega_1],\n",
    "              [theta_2],\n",
    "              [omega_1]])\n",
    "\n",
    "# Simulate dynamics\n",
    "X = np.zeros((N, 4))\n",
    "for i in range(N):\n",
    "    v_1 = np.random.normal(0, theta_sigma)\n",
    "    v_2 = np.random.normal(0, theta_sigma)\n",
    "    x = A @ x + b\n",
    "    x[0] += v_1\n",
    "    x[2] += v_2\n",
    "    X[i] = x[:,0]"
   ]
  },
  {
   "cell_type": "code",
   "execution_count": null,
   "metadata": {},
   "outputs": [],
   "source": [
    "X"
   ]
  },
  {
   "cell_type": "code",
   "execution_count": null,
   "metadata": {},
   "outputs": [],
   "source": [
    "from multirtd.zonotope import Zonotope"
   ]
  },
  {
   "cell_type": "code",
   "execution_count": null,
   "metadata": {},
   "outputs": [],
   "source": [
    "# Reachability\n",
    "# State zonotope\n",
    "c_x = np.array([[theta_1],\n",
    "              [omega_1],\n",
    "              [theta_2],\n",
    "              [omega_1]])\n",
    "G_x = np.zeros((4,1))\n",
    "X = Zonotope(c_x, G_x)\n",
    "\n",
    "# Noise zonotope\n",
    "# (3-sigma confidence interval)\n",
    "c_v = np.zeros((4,1))\n",
    "G_v = np.array([[3*theta_sigma, 0],\n",
    "                [0, 0],\n",
    "                [0, 3*theta_sigma],\n",
    "                [0, 0]])\n",
    "V = Zonotope(c_v, G_v)\n",
    "\n",
    "Xs = []\n",
    "for i in range(N):\n",
    "    X = A * X + b + V\n",
    "    Xs.append(X)"
   ]
  },
  {
   "cell_type": "code",
   "execution_count": null,
   "metadata": {},
   "outputs": [],
   "source": [
    "print(np.sum(np.abs(Xs[-1].G), axis=1))"
   ]
  },
  {
   "cell_type": "code",
   "execution_count": null,
   "metadata": {},
   "outputs": [],
   "source": [
    "# Simulate leader dynamics\n",
    "x_1 = R * np.cos(omega_1 * T + theta_1)\n",
    "y_1 = R * np.sin(omega_1 * T + theta_1)\n",
    "\n",
    "fig, ax = plt.subplots()\n",
    "xdata, ydata = [], []\n",
    "ln, = ax.plot([], [], lw=2)\n",
    "\n",
    "def init():\n",
    "    ax.set_xlim(-1.5*R, 1.5*R)\n",
    "    ax.set_ylim(-1.5*R, 1.5*R)\n",
    "    return ln,\n",
    "\n",
    "def update(i):\n",
    "    t = 0.1*i\n",
    "    R = 5\n",
    "    omega_1 = 0.2\n",
    "    theta_1 = 0\n",
    "\n",
    "    x_1 = R * np.cos(omega_1 * t + theta_1)\n",
    "    y_1 = R * np.sin(omega_1 * t + theta_1)\n",
    "    xdata.append(x_1)\n",
    "    ydata.append(y_1)\n",
    "    ln.set_data(xdata, ydata)\n",
    "    return ln,\n",
    "\n",
    "ani = FuncAnimation(fig, update, frames=N, interval=20,\n",
    "                    init_func=init, blit=True)\n",
    "plt.show()"
   ]
  },
  {
   "cell_type": "code",
   "execution_count": null,
   "metadata": {},
   "outputs": [],
   "source": [
    "import numpy as np\n",
    "import matplotlib.pyplot as plt\n",
    "from matplotlib.animation import FuncAnimation\n",
    "\n",
    "fig, ax = plt.subplots()\n",
    "xdata, ydata = [], []\n",
    "ln, = ax.plot([], [], 'ro')\n",
    "\n",
    "def init():\n",
    "    ax.set_xlim(0, 2*np.pi)\n",
    "    ax.set_ylim(-1, 1)\n",
    "    return ln,\n",
    "\n",
    "def update(frame):\n",
    "    xdata.append(frame)\n",
    "    ydata.append(np.sin(frame))\n",
    "    ln.set_data(xdata, ydata)\n",
    "    return ln,\n",
    "\n",
    "ani = FuncAnimation(fig, update, frames=np.linspace(0, 2*np.pi, 128),\n",
    "                    init_func=init, blit=True)\n",
    "plt.show()"
   ]
  },
  {
   "cell_type": "code",
   "execution_count": null,
   "metadata": {},
   "outputs": [],
   "source": []
  }
 ],
 "metadata": {
  "kernelspec": {
   "display_name": "Python 3.10.4 ('multirtd')",
   "language": "python",
   "name": "python3"
  },
  "language_info": {
   "codemirror_mode": {
    "name": "ipython",
    "version": 3
   },
   "file_extension": ".py",
   "mimetype": "text/x-python",
   "name": "python",
   "nbconvert_exporter": "python",
   "pygments_lexer": "ipython3",
   "version": "3.10.4"
  },
  "orig_nbformat": 4,
  "vscode": {
   "interpreter": {
    "hash": "b7900ae5a5091ab8ae97346730ef89214b115ca17c2b60bd887bc81f0f2ad64d"
   }
  }
 },
 "nbformat": 4,
 "nbformat_minor": 2
}
