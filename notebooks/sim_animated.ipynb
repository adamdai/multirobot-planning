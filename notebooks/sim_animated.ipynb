{
 "cells": [
  {
   "cell_type": "code",
   "execution_count": 11,
   "metadata": {},
   "outputs": [],
   "source": [
    "import numpy as np\n",
    "import matplotlib.pyplot as plt\n",
    "from matplotlib.animation import FuncAnimation\n",
    "from IPython.display import HTML"
   ]
  },
  {
   "cell_type": "code",
   "execution_count": 12,
   "metadata": {},
   "outputs": [
    {
     "data": {
      "text/plain": [
       "0.27753871276643716"
      ]
     },
     "execution_count": 12,
     "metadata": {},
     "output_type": "execute_result"
    }
   ],
   "source": [
    "from multirtd.agents import GreenAgent\n",
    "\n",
    "np.random.rand()"
   ]
  },
  {
   "cell_type": "code",
   "execution_count": null,
   "metadata": {},
   "outputs": [],
   "source": [
    "# Create a figure and axis\n",
    "fig, ax = plt.subplots()\n",
    "ax.set_xlim(-10, 10)\n",
    "ax.set_ylim(-10, 10)\n",
    "\n",
    "# Create a point in the middle of the axis\n",
    "point, = ax.plot(0, 0, 'bo')\n",
    "\n",
    "# Function to update the point\n",
    "def update(frame):\n",
    "    point.set_xdata([np.sin(frame)])\n",
    "    point.set_ydata([np.cos(frame)])\n",
    "    return point,\n",
    "\n",
    "# Create an animation\n",
    "ani = FuncAnimation(fig, update, frames=np.linspace(0, 10*np.pi, 30), blit=True)\n",
    "\n",
    "plt.close()\n",
    "\n",
    "# Convert the animation to HTML\n",
    "HTML(ani.to_jshtml())"
   ]
  },
  {
   "cell_type": "code",
   "execution_count": null,
   "metadata": {},
   "outputs": [],
   "source": [
    "from multirtd.dynamics.diff_drive_dynamics import DiffDriveDynamics\n",
    "\n",
    "dynamics = DiffDriveDynamics(sigma=0.01)\n",
    "\n",
    "x0 = np.array([0, 0, 0])\n",
    "u = np.array([1.0, 0.1])  # v, w\n",
    "N = 100\n",
    "x_nom = dynamics.nominal_traj(x0, u, N)"
   ]
  },
  {
   "cell_type": "code",
   "execution_count": null,
   "metadata": {},
   "outputs": [],
   "source": [
    "from multirtd.turtlebot import Turtlebot\n",
    "\n",
    "turtlebot = Turtlebot()"
   ]
  },
  {
   "cell_type": "code",
   "execution_count": null,
   "metadata": {},
   "outputs": [],
   "source": [
    "dynamics = DiffDriveDynamics(sigma=0.01)\n",
    "t1 = dynamics.nominal_traj(x0, u, N)\n",
    "dynamics = DiffDriveDynamics(sigma=0.1)\n",
    "t2 = dynamics.nominal_traj(x0, u, N)\n",
    "t1 - t2"
   ]
  },
  {
   "cell_type": "code",
   "execution_count": null,
   "metadata": {},
   "outputs": [],
   "source": [
    "from functools import partial\n",
    "\n",
    "# Dubin's agent with random controls\n",
    "# Create a figure and axis\n",
    "fig, ax = plt.subplots()\n",
    "ax.set_xlim(-10, 10)\n",
    "ax.set_ylim(-10, 10)\n",
    "\n",
    "# Create a point in the middle of the axis\n",
    "point, = ax.plot(0, 0, 'go')\n",
    "\n",
    "# Function to update the point\n",
    "def update(frame, traj):\n",
    "    point.set_xdata([traj[frame, 0]])\n",
    "    point.set_ydata([traj[frame, 1]])\n",
    "    return point,\n",
    "\n",
    "# Create an animation\n",
    "ani = FuncAnimation(fig, partial(update, traj=x_nom), frames=np.arange(N), blit=True)\n",
    "\n",
    "plt.close()\n",
    "\n",
    "# Convert the animation to HTML\n",
    "HTML(ani.to_jshtml())"
   ]
  },
  {
   "cell_type": "code",
   "execution_count": null,
   "metadata": {},
   "outputs": [],
   "source": [
    "import matplotlib.pyplot as plt\n",
    "import numpy as np\n",
    "from matplotlib import animation\n",
    "\n",
    "# Create a figure and a set of subplots\n",
    "fig, ax = plt.subplots()\n",
    "\n",
    "# Generate some random data\n",
    "x = np.random.randn(100)\n",
    "y = np.random.randn(100)\n",
    "\n",
    "# Plot the data as a line\n",
    "line, = ax.plot(x, y)\n",
    "\n",
    "# Set up the animation\n",
    "def animate(i):\n",
    "    # Update the data\n",
    "    x = np.append(x, np.random.randn())\n",
    "    y = np.append(y, np.random.randn())\n",
    "\n",
    "    # Set the line data\n",
    "    line.set_data(x, y)\n",
    "\n",
    "    # Return the line object\n",
    "    return line\n",
    "\n",
    "# Start the animation\n",
    "anim = animation.FuncAnimation(fig, animate, interval=100)\n",
    "\n",
    "# Show the plot\n",
    "plt.show()"
   ]
  },
  {
   "cell_type": "code",
   "execution_count": null,
   "metadata": {},
   "outputs": [],
   "source": []
  }
 ],
 "metadata": {
  "kernelspec": {
   "display_name": "multi",
   "language": "python",
   "name": "python3"
  },
  "language_info": {
   "codemirror_mode": {
    "name": "ipython",
    "version": 3
   },
   "file_extension": ".py",
   "mimetype": "text/x-python",
   "name": "python",
   "nbconvert_exporter": "python",
   "pygments_lexer": "ipython3",
   "version": "3.9.18"
  }
 },
 "nbformat": 4,
 "nbformat_minor": 2
}
