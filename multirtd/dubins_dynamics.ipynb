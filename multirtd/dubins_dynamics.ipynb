{
 "cells": [
  {
   "cell_type": "code",
   "execution_count": null,
   "metadata": {},
   "outputs": [],
   "source": [
    "import numpy as np\n",
    "import time\n",
    "import os\n",
    "import matplotlib.pyplot as plt\n",
    "\n",
    "from multirtd.dubins_model import dubins_traj\n",
    "\n",
    "%load_ext autoreload\n",
    "%autoreload 2"
   ]
  },
  {
   "cell_type": "code",
   "execution_count": null,
   "metadata": {},
   "outputs": [],
   "source": [
    "dt = 0.1\n",
    "N = 200\n",
    "\n",
    "# Generate a dubins trajectory\n",
    "v = 0.2\n",
    "w = 0.1\n",
    "\n",
    "init_pose = np.array([0, 0, 0])\n",
    "\n",
    "trajs = []\n",
    "plt.figure()\n",
    "\n",
    "fig, axs = plt.subplots(1, 4, figsize=(24,5))\n",
    "\n",
    "for w in np.linspace(-0.1, 0.1, 50):\n",
    "    u = np.array([v, w])\n",
    "    traj = dubins_traj(init_pose, u, N, dt)\n",
    "    axs[0].plot(traj[:,0], traj[:,1])\n",
    "\n",
    "    traj_polar = np.zeros((N, 3))\n",
    "    for i in range(N):\n",
    "        traj_polar[i,0] = np.linalg.norm(traj[i,:2])\n",
    "        traj_polar[i,1] = np.arctan2(traj[i,1], traj[i,0])\n",
    "        traj_polar[i,2] = traj[i,2]\n",
    "    axs[1].plot(traj_polar[:,0], traj_polar[:,1])\n",
    "\n",
    "    rdot = np.abs(np.diff(traj_polar[:,0]))\n",
    "    phidot = np.diff(traj_polar[:,1])\n",
    "    axs[2].plot(rdot)\n",
    "    axs[3].plot(phidot)\n",
    "\n",
    "    trajs.append(traj)\n",
    "\n",
    "# Label axes\n",
    "axs[0].set_xlabel('x')\n",
    "axs[0].set_ylabel('y')\n",
    "axs[0].set_title('Cartesian')\n",
    "axs[0].axis('equal')\n",
    "\n",
    "axs[1].set_xlabel('r')\n",
    "axs[1].set_ylabel('phi')\n",
    "axs[1].set_title('Polar')\n",
    "\n",
    "axs[2].set_title('r vs t')\n",
    "axs[2].set_xlabel('t')\n",
    "axs[2].set_ylabel('r')\n",
    "\n",
    "axs[3].set_title('phi vs t')\n",
    "axs[3].set_xlabel('t')\n",
    "axs[3].set_ylabel('phi')\n",
    "plt.show()"
   ]
  },
  {
   "cell_type": "code",
   "execution_count": null,
   "metadata": {},
   "outputs": [],
   "source": [
    "np.arctan2(0, 0)"
   ]
  },
  {
   "cell_type": "code",
   "execution_count": null,
   "metadata": {},
   "outputs": [],
   "source": [
    "np.diff(traj_polar[:,0])"
   ]
  },
  {
   "cell_type": "code",
   "execution_count": null,
   "metadata": {},
   "outputs": [],
   "source": [
    "np.diff(traj_polar[:,1])"
   ]
  },
  {
   "cell_type": "code",
   "execution_count": null,
   "metadata": {},
   "outputs": [],
   "source": []
  }
 ],
 "metadata": {
  "kernelspec": {
   "display_name": "multirtd",
   "language": "python",
   "name": "python3"
  },
  "language_info": {
   "codemirror_mode": {
    "name": "ipython",
    "version": 3
   },
   "file_extension": ".py",
   "mimetype": "text/x-python",
   "name": "python",
   "nbconvert_exporter": "python",
   "pygments_lexer": "ipython3",
   "version": "3.9.16"
  },
  "orig_nbformat": 4,
  "vscode": {
   "interpreter": {
    "hash": "e6933d36d84087a72973de1731729e7d5afa974e6f879188c12c6ace520329ed"
   }
  }
 },
 "nbformat": 4,
 "nbformat_minor": 2
}
